{
 "cells": [
  {
   "cell_type": "markdown",
   "metadata": {},
   "source": [
    "# HW4"
   ]
  },
  {
   "cell_type": "code",
   "execution_count": 5,
   "metadata": {},
   "outputs": [
    {
     "name": "stdout",
     "output_type": "stream",
     "text": [
      "HW4 submission for Leonid (53627657)\n"
     ]
    }
   ],
   "source": [
    "name = \"Leonid\"              # Enter your name\n",
    "user = \"53627657\"              # Enter your BC username\n",
    "print(\"HW4 submission for {} ({})\".format(name,user))"
   ]
  },
  {
   "cell_type": "markdown",
   "metadata": {},
   "source": [
    "Please rename the file so that it includes your BC username. For example, I would change <b>HW4</b> to <b>HW4-reuterj</b> and upload <b>HW4-reuterj.ipynb</b> to Canvas."
   ]
  },
  {
   "cell_type": "code",
   "execution_count": 6,
   "metadata": {},
   "outputs": [],
   "source": [
    "import math\n",
    "import random"
   ]
  },
  {
   "cell_type": "markdown",
   "metadata": {},
   "source": [
    "<b>(1 point) 1.</b> Use <b>list(range())</b> to produce a list 'x' that contains the following list of numbers [4, 11, 18, 25, 32, 39, 46]."
   ]
  },
  {
   "cell_type": "code",
   "execution_count": 7,
   "metadata": {},
   "outputs": [],
   "source": [
    "x = list(range(4,50,7))"
   ]
  },
  {
   "cell_type": "code",
   "execution_count": 8,
   "metadata": {},
   "outputs": [
    {
     "data": {
      "text/plain": [
       "True"
      ]
     },
     "execution_count": 8,
     "metadata": {},
     "output_type": "execute_result"
    }
   ],
   "source": [
    "# This code compares your list 'x' to the list for which I asked\n",
    "x == [4, 11, 18, 25, 32, 39, 46]"
   ]
  },
  {
   "cell_type": "markdown",
   "metadata": {},
   "source": [
    "<b>(2 points) 2.</b> Write a function <b>my_join(l)</b> that converts the list 'l' containing numbers and/or string elements into a single string where each element is separated by a comma... without using the actual <b>.join()</b> function. Then, run the code in the next cell to test your function on list 'a'.\n",
    "\n",
    "Hint: You may want to use if-else statments that determine whether each element of the list is a str versus an int or float."
   ]
  },
  {
   "cell_type": "code",
   "execution_count": 9,
   "metadata": {},
   "outputs": [],
   "source": [
    "def my_join(l):\n",
    "    answer_str = \"\"\n",
    "    for a in range(len(l)):\n",
    "        if a < len(l)-1:\n",
    "            answer_str = answer_str + str(l[a]) + ','\n",
    "        else:\n",
    "            answer_str = answer_str + str(l[a])\n",
    "    return answer_str"
   ]
  },
  {
   "cell_type": "code",
   "execution_count": 10,
   "metadata": {},
   "outputs": [
    {
     "data": {
      "text/plain": [
       "True"
      ]
     },
     "execution_count": 10,
     "metadata": {},
     "output_type": "execute_result"
    }
   ],
   "source": [
    "# This code tests your function\n",
    "a = ['1', 2.0, 'three', 4, '5.0']\n",
    "s = my_join(a)\n",
    "s == '1,2.0,three,4,5.0'"
   ]
  },
  {
   "cell_type": "markdown",
   "metadata": {},
   "source": [
    "<b>(1 point) 3.</b> Write a function <b>sphere(r)</b> that returns a list containing the volume (element 0 of the list) and surface area (element 1) of a sphere, where 'r' is the radius. You may assume that the user will enter a radius that is a number.\n",
    "\n",
    "$S = 4 \\pi r^2$<br>\n",
    "$V = \\frac{4}{3} \\pi r^3$\n",
    "\n",
    "Note: Because I asked you to 'import math' above, you have access to the constant 'math.pi'."
   ]
  },
  {
   "cell_type": "code",
   "execution_count": 11,
   "metadata": {},
   "outputs": [],
   "source": [
    "def sphere(r):\n",
    "    answer_l = [(4/3)*math.pi*(r**3), (4*(math.pi)*(r**2))]\n",
    "    return answer_l"
   ]
  },
  {
   "cell_type": "code",
   "execution_count": 12,
   "metadata": {},
   "outputs": [
    {
     "name": "stdout",
     "output_type": "stream",
     "text": [
      "[33.510321638291124, 50.26548245743669]\n",
      "[129.87878804533656, 124.02510672119926]\n",
      "[157624.74543220692, 14111.301031389781]\n"
     ]
    }
   ],
   "source": [
    "# This code evaluates your function\n",
    "print(sphere(2))\n",
    "print(sphere(math.pi))\n",
    "print(sphere(sphere(2)[0]))       # What is this line of code doing?"
   ]
  },
  {
   "cell_type": "markdown",
   "metadata": {},
   "source": [
    "<b>(2 points) 4.</b> Write a function <b>my_list_len(l,num)</b> that takes as its input a list of strings (l) and a number (num) and that returns a new list (l_new) containing the subset of the strings in list 'l' that are of length 'num'. If no words are of the specified length, then return an empty list. Then, run your function on lists 'd' and 'e'.\n",
    "\n",
    "Note: I am asking for strings of length 'num'. As an example, 'people,' has seven elements thanks to the punctuation, so it should be included in any list for which 'num' equals 7."
   ]
  },
  {
   "cell_type": "code",
   "execution_count": 13,
   "metadata": {},
   "outputs": [],
   "source": [
    "# Lists that will be processed by your function\n",
    "d = ['a', 'bb', 'ccc', 'dddd', 'eeeee', 'ffffff', 'g', 'hh', 'iii'] \n",
    "e_str = 'Four score and seven years ago our fathers brought forth on this continent, a new nation, conceived in Liberty, and dedicated to the proposition that all men are created equal. Now we are engaged in a great civil war, testing whether that nation, or any nation so conceived and so dedicated, can long endure. We are met on a great battle-field of that war. We have come to dedicate a portion of that field, as a final resting place for those who here gave their lives that that nation might live. It is altogether fitting and proper that we should do this. But, in a larger sense, we can not dedicate -- we can not consecrate -- we can not hallow -- this ground. The brave men, living and dead, who struggled here, have consecrated it, far above our poor power to add or detract. The world will little note, nor long remember what we say here, but it can never forget what they did here. It is for us the living, rather, to be dedicated here to the unfinished work which they who fought here have thus far so nobly advanced. It is rather for us to be here dedicated to the great task remaining before us -- that from these honored dead we take increased devotion to that cause for which they gave the last full measure of devotion -- that we here highly resolve that these dead shall not have died in vain -- that this nation, under God, shall  have a new birth of freedom -- and that government of the people, by the people, for the people, shall not perish from the earth.'\n",
    "e = e_str.split(\" \")"
   ]
  },
  {
   "cell_type": "code",
   "execution_count": 14,
   "metadata": {},
   "outputs": [],
   "source": [
    "def my_list_len(l,num):\n",
    "    l_new=[]\n",
    "    for a in range(len(l)):\n",
    "        if len(l[a])==num:\n",
    "            l_new.append(l[a])\n",
    "    return l_new"
   ]
  },
  {
   "cell_type": "code",
   "execution_count": 15,
   "metadata": {},
   "outputs": [
    {
     "name": "stdout",
     "output_type": "stream",
     "text": [
      "True\n",
      "True\n"
     ]
    }
   ],
   "source": [
    "# This code tests your function\n",
    "print(my_list_len(d,2) == ['bb', 'hh'])\n",
    "print(my_list_len(e,7) == ['fathers', 'brought', 'nation,', 'created', 'engaged', 'testing', 'whether', 'nation,', 'endure.', 'portion', 'resting', 'fitting', 'ground.', 'living,', 'rather,', 'honored', 'measure', 'resolve', 'nation,', 'freedom', 'people,', 'people,', 'people,'])"
   ]
  },
  {
   "cell_type": "markdown",
   "metadata": {},
   "source": [
    "<b>(2 points) 5.</b> You are considering buying a new car that costs \\$20,000. Use a nested for loop to calculate (and print) the monthly car payments associated with three different loan lengths (24, 36, 48 months) and three different annual percentage rates (2%, 3%, 4%). \n",
    "\n",
    "The output should be nine sentences of the form \"When the APR is {} and the number of months is {}, the monthly payment is {}.\", and where {} are used by the .format() function.\n",
    "\n",
    "Hint #1: You can create the lists yourself without using range().<br>\n",
    "Hint #2: An APR of 2\\% implies a monthly rate of 0.02/12.<br>\n",
    "Hint #3: If you use {:6.2f} instead of {}, your monthly payment will only display two decimal places."
   ]
  },
  {
   "cell_type": "code",
   "execution_count": 16,
   "metadata": {},
   "outputs": [
    {
     "name": "stdout",
     "output_type": "stream",
     "text": [
      "When the APR is 0.02 and the number of months is 24, the monthly payment is $850.81.\n",
      "When the APR is 0.02 and the number of months is 36, the monthly payment is $572.85.\n",
      "When the APR is 0.02 and the number of months is 48, the monthly payment is $433.90.\n",
      "When the APR is 0.03 and the number of months is 24, the monthly payment is $859.62.\n",
      "When the APR is 0.03 and the number of months is 36, the monthly payment is $581.62.\n",
      "When the APR is 0.03 and the number of months is 48, the monthly payment is $442.69.\n",
      "When the APR is 0.04 and the number of months is 24, the monthly payment is $868.50.\n",
      "When the APR is 0.04 and the number of months is 36, the monthly payment is $590.48.\n",
      "When the APR is 0.04 and the number of months is 48, the monthly payment is $451.58.\n"
     ]
    }
   ],
   "source": [
    "price = 20000\n",
    "\n",
    "x = [y/100 for y in range(2,5,1)]\n",
    "\n",
    "def af(r,n):\n",
    "    return (1/r) - (1/(r*(1+r)**n))\n",
    "\n",
    "for i in range(len(x)):\n",
    "    for t in range(24,49,12):\n",
    "        print(\"When the APR is {} and the number of months is {}, the monthly payment is ${:5.2f}.\".format((x[i]),t,(price/(af(x[i]/12,t)))))"
   ]
  },
  {
   "cell_type": "markdown",
   "metadata": {},
   "source": [
    "<b>(2 points) 6.</b> Write a function <b>flips(num,p)</b> that flips a coin 'num' times and returns the number of times that it come up heads. Input 'p' determines the probability that the coin comes up heads (e.g., p = 0.5 represents a fair coin).\n",
    "\n",
    "Hint #1: Because I asked you to 'import random' above, you have access to random.random() and all of the other random variable functions mentioned in 1.3.<br>\n",
    "Hint #2: You will want to generate a random number that is distributed uniformly between 0 and 1 and then test whether the number is $\\le$ p."
   ]
  },
  {
   "cell_type": "code",
   "execution_count": 17,
   "metadata": {},
   "outputs": [],
   "source": [
    "def flips(num,p):\n",
    "    flip_count=0\n",
    "    num_heads=0\n",
    "    while flip_count < num:\n",
    "        flip_count+=1\n",
    "        toss = random.random() \n",
    "        if toss <= p:\n",
    "            num_heads+=1\n",
    "    return num_heads    "
   ]
  },
  {
   "cell_type": "code",
   "execution_count": 20,
   "metadata": {},
   "outputs": [
    {
     "name": "stdout",
     "output_type": "stream",
     "text": [
      "52\n",
      "727\n",
      "499\n"
     ]
    }
   ],
   "source": [
    "# This code evaluates your function\n",
    "print(flips(100,.5))\n",
    "print(flips(1000,.75))\n",
    "print(flips(10000,.05))"
   ]
  },
  {
   "cell_type": "code",
   "execution_count": null,
   "metadata": {},
   "outputs": [],
   "source": []
  }
 ],
 "metadata": {
  "kernelspec": {
   "display_name": "Python 3",
   "language": "python",
   "name": "python3"
  },
  "language_info": {
   "codemirror_mode": {
    "name": "ipython",
    "version": 3
   },
   "file_extension": ".py",
   "mimetype": "text/x-python",
   "name": "python",
   "nbconvert_exporter": "python",
   "pygments_lexer": "ipython3",
   "version": "3.7.3"
  }
 },
 "nbformat": 4,
 "nbformat_minor": 2
}
