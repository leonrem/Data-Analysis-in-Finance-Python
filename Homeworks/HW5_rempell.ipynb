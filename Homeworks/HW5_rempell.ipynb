{
 "cells": [
  {
   "cell_type": "markdown",
   "metadata": {},
   "source": [
    "# HW5 "
   ]
  },
  {
   "cell_type": "code",
   "execution_count": 1,
   "metadata": {},
   "outputs": [
    {
     "name": "stdout",
     "output_type": "stream",
     "text": [
      "HW5 submission for Leonid (rempell)\n"
     ]
    }
   ],
   "source": [
    "name = \"Leonid\"              # Enter your name\n",
    "user = \"rempell\"              # Enter your BC username\n",
    "print(\"HW5 submission for {} ({})\".format(name,user))"
   ]
  },
  {
   "cell_type": "markdown",
   "metadata": {},
   "source": [
    "Please rename the file so that it includes your BC username. For example, I would change <b>HW5</b> to <b>HW5-reuterj</b> and upload <b>HW5-reuterj.ipynb</b> to Canvas."
   ]
  },
  {
   "cell_type": "code",
   "execution_count": 2,
   "metadata": {},
   "outputs": [],
   "source": [
    "# libraries that may or may not be required\n",
    "import math\n",
    "import random"
   ]
  },
  {
   "cell_type": "markdown",
   "metadata": {},
   "source": [
    "<b>(List of lists) (1 point) 1a.</b> Create function <b>pv(fv,n,r)</b> that returns the present value associated with receiving a future value 'fv' in period 'n'. when the appropriate per-period discount rate is 'r'."
   ]
  },
  {
   "cell_type": "code",
   "execution_count": 3,
   "metadata": {},
   "outputs": [],
   "source": [
    "def pv(fv,n,r):\n",
    "    p_value = fv/((1+r)**n)\n",
    "    return p_value"
   ]
  },
  {
   "cell_type": "markdown",
   "metadata": {},
   "source": [
    "<b>(List of lists) (2 points) 1b.</b> Create function <b>max_pv(l)</b> which processes list 'l', where each of the elements of 'l' is a list of the form [fv, n, r]. The function should identify the element of list 'l' that has the highest present value (using the function created in <b>1a</b>). The output should be a single list of the form [fv, n, r, pv], corresponding to combination of inputs with the maximum present value. Test your function using the 'test_l' list given below.\n",
    "\n",
    "Hint #1: You can append present values to the elements (which are lists) within 'l'.<br>\n",
    "Hint #2: If you keep track of which element number has the highest PV, you can return just that element number as a list."
   ]
  },
  {
   "cell_type": "code",
   "execution_count": 4,
   "metadata": {},
   "outputs": [],
   "source": [
    "def max_pv(l):\n",
    "    pv_l = []\n",
    "    max_i = 0\n",
    "    i = 0\n",
    "    while i < len(l):\n",
    "        pv_l.append([l[i][0], l[i][1], l[i][2], pv(l[i][0],l[i][1],l[i][2])])\n",
    "        if pv_l[i][3] > pv_l[max_i][3]:\n",
    "            max_i = i\n",
    "        i+=1\n",
    "    return pv_l[max_i]"
   ]
  },
  {
   "cell_type": "code",
   "execution_count": 5,
   "metadata": {},
   "outputs": [
    {
     "data": {
      "text/plain": [
       "True"
      ]
     },
     "execution_count": 5,
     "metadata": {},
     "output_type": "execute_result"
    }
   ],
   "source": [
    "test_l = [[10000,10,0.1], [4000,2,0.05], [10000,100,0.01]]\n",
    "max_pv(test_l) == [10000, 10, 0.1, 3855.432894295314]"
   ]
  },
  {
   "cell_type": "markdown",
   "metadata": {},
   "source": [
    "<b>(Simulation) (2 points) 2a.</b> Write the function <b>my_duplicate()</b> that takes no input and returns an integer. The function will randomly generate a list containing four elements, where each element is a number between 0 and 9. For example, it might generate the list [8, 5, 5, 2]. You may generate the list of four digits using a for loop or list comprehension. Then, the function should return an integer that equals one if at least one number appears more than once, and zero otherwise.\n",
    "\n",
    "Once <b>my_duplicate()</b> is functioning as intended, create a for loop that calls <b>my_duplicate()</b> 100 times and then prints the fraction of times that the function generated duplicate numbers (i.e., returned an integer equal to one).\n",
    "\n",
    "Hint #1: What does random.randint(0,10) do?<br>\n",
    "Hint #2: What happens when you apply list(set()) to your list?\n"
   ]
  },
  {
   "cell_type": "code",
   "execution_count": 6,
   "metadata": {},
   "outputs": [],
   "source": [
    "def my_duplicate():\n",
    "    dup_l = [random.randint(0,10) for i in range(4)]\n",
    "    dup_l.sort()\n",
    "    mode = 0\n",
    "    dup_l1 = list(set(dup_l))\n",
    "    \n",
    "    if len(dup_l) != len(dup_l1):\n",
    "        mode = 1\n",
    "    else:\n",
    "        mode = 0\n",
    "    \n",
    "    return mode   "
   ]
  },
  {
   "cell_type": "code",
   "execution_count": 7,
   "metadata": {},
   "outputs": [
    {
     "data": {
      "text/plain": [
       "0.48"
      ]
     },
     "execution_count": 7,
     "metadata": {},
     "output_type": "execute_result"
    }
   ],
   "source": [
    "def loopin_duplicates():\n",
    "    i = 0\n",
    "    for x in range(100):\n",
    "        if my_duplicate() == 1:\n",
    "            i+=1\n",
    "    frac = i/100\n",
    "    return frac\n",
    "\n",
    "loopin_duplicates()"
   ]
  },
  {
   "cell_type": "markdown",
   "metadata": {},
   "source": [
    "<b>(Simulation) (1 point) 2b.</b> Convert the for loop in <b>1a</b> into a list comprehension command that calls my_duplicate() 100000 times and stores the integers in a list named 'count'. Write four print statements. The first will print the fraction of times that the function generated duplicate numbers in the first 100 attempts, the second focused on the first 1000 attempts, the third focuses on first 10000 attempts, and the fourth focuses on all 100000 attempts. "
   ]
  },
  {
   "cell_type": "code",
   "execution_count": 9,
   "metadata": {},
   "outputs": [
    {
     "name": "stdout",
     "output_type": "stream",
     "text": [
      "The fraction of times that I observed duplicate numbers in    100 attempts is 0.4400\n",
      "The fraction of times that I observed duplicate numbers in   1000 attempts is 0.4760\n",
      "The fraction of times that I observed duplicate numbers in  10000 attempts is 0.4598\n",
      "The fraction of times that I observed duplicate numbers in 100000 attempts is 0.4594\n"
     ]
    }
   ],
   "source": [
    "count = []\n",
    "for i in range(100000):\n",
    "    count.append(my_duplicate())\n",
    "    \n",
    "a = [100,1000,10000,100000]    \n",
    "for i in range(len(a)):\n",
    "    print(\"The fraction of times that I observed duplicate numbers in {:6} attempts is {:.4f}\".format(a[i],(sum(count[0:a[i]])/(a[i]))))"
   ]
  },
  {
   "cell_type": "markdown",
   "metadata": {},
   "source": [
    "<b>(Simulation) (4 points) 3.</b> In Topic 1.4, I reported average annual returns and standard deviations of annual returns for three asset classes. Below are the statistics for short-term US government bonds and large-cap US stocks.\n",
    "\n",
    "<table border=\"0\">\n",
    "   <tr>\n",
    "    <th>Investment</th>\n",
    "    <th>Average Return</th>\n",
    "    <th>Std Dev of Return</th>\n",
    "   </tr>\n",
    "   <tr>\n",
    "    <td>Short-term US government bonds</td>\n",
    "    <td>3.5%</td>\n",
    "    <td>3.1%</td>\n",
    "   </tr>\n",
    "   <tr>\n",
    "    <td>Large-cap US stocks</td>\n",
    "    <td>10.1%</td>\n",
    "    <td>20.2%</td>\n",
    "   </tr>\n",
    "  </table>\n",
    "\n",
    "Consider three portfolios: Portfolio A invests 100% in short-term US government bonds, Portfolio B invests 100% in large-cap US stocks, and Portfolio C invests 50% in short-term US government bonds and 50% in large-cap US stocks. Simulate the future values of portfolios A, B, and C one calendar year from today 100000 times each using the statistics given above and then use print statements to report the following four statistics:\n",
    "\n",
    "(1) the probability that Portfolios A earns a negative return over the next calendar year;<br>\n",
    "(2) the probability that Portfolios B earns a negative return over the next calendar year;<br>\n",
    "(3) the probability that Portfolios C earns a negative return over the next calendar year;<br>\n",
    "(4) the average fraction of portfolio C that is allocated to large-cap US stocks at the end of one calendar year.\n",
    "\n",
    "<b>You will receive 2 points for generating (1), (2), and (3) and 2 more points for generating (4).</b> \n",
    "\n",
    "Hint #1: You can work with the empty lists below or convert some/all of them into list comprehension.<br>\n",
    "Hint #2: In each case, the investment horizon is one calendar year.<br>\n",
    "Hint #3: You are welcome to assume that each portfolio begins with \\\\$1 million, if you would like to do so.<br>\n",
    "Hint #4:  As in the simulations contained in Topic 1.4, please replace any estimated annual return for stocks or bonds that is $\\le$ -100\\% with -99.99\\%."
   ]
  },
  {
   "cell_type": "code",
   "execution_count": 11,
   "metadata": {},
   "outputs": [
    {
     "name": "stdout",
     "output_type": "stream",
     "text": [
      "The probability that Portfolio A earns a negative return over the next calendar year is 0.128\n",
      "The probability that Portfolio B earns a negative return over the next calendar year is 0.311\n",
      "The probability that Portfolio C earns a negative return over the next calendar year is 0.254\n",
      "The average fraction of portfolio C that is allocated to large-cap US stocks at the end of one calendar year is 0.511\n"
     ]
    }
   ],
   "source": [
    "def monte_carlo(s):\n",
    "    amount = 0\n",
    "    ret_b = max(random.gauss(.035,.031), -.9999)\n",
    "    ret_s = max(random.gauss(.101,.202), -.9999)\n",
    "    amount = ((((1-s)*(1+ret_b))+((s)*(1+ret_s)))-1)\n",
    "    return amount\n",
    "\n",
    "out_a = [monte_carlo(0) for element in range(100000)]    # contains annual return for portfolio A\n",
    "out_b = [monte_carlo(1) for element in range(100000)]    # contains annual return for portfolio B\n",
    "out_c = [monte_carlo(.5) for element in range(100000)]    # contains annual return for portfolio C\n",
    "\n",
    "strat = [out_a, out_b, out_c]\n",
    "\n",
    "def counting(l):\n",
    "    negs = 0 \n",
    "    probability = 0 \n",
    "    for i in range(len(l)):\n",
    "        if l[i] < 0:\n",
    "            negs = negs + 1\n",
    "    probability = negs/len(l)\n",
    "    return probability\n",
    "\n",
    "print('The probability that Portfolio A earns a negative return over the next calendar year is {:.3f}'.format(counting(out_a)))\n",
    "print('The probability that Portfolio B earns a negative return over the next calendar year is {:.3f}'.format(counting(out_b)))\n",
    "print('The probability that Portfolio C earns a negative return over the next calendar year is {:.3f}'.format(counting(out_c)))\n",
    "\n",
    "def monte_weights(s):\n",
    "    ret_b = max(random.gauss(.035,.031), -.9999)\n",
    "    ret_s = max(random.gauss(.101,.202), -.9999)\n",
    "    fraction = (s*(1+ret_s))/((s*(1+ret_s))+((1-s)*(1+ret_b)))\n",
    "    return fraction\n",
    "    \n",
    "frc_c = [monte_weights(.5) for element in range(100000)]    # contains fraction of portfolio C allocated to large-cap US stocks. using portfolio value \n",
    "\n",
    "print('The average fraction of portfolio C that is allocated to large-cap US stocks at the end of one calendar year is {:.3f}'.format(sum(frc_c)/100000))\n",
    "\n"
   ]
  },
  {
   "cell_type": "code",
   "execution_count": null,
   "metadata": {},
   "outputs": [],
   "source": []
  }
 ],
 "metadata": {
  "kernelspec": {
   "display_name": "Python 3",
   "language": "python",
   "name": "python3"
  },
  "language_info": {
   "codemirror_mode": {
    "name": "ipython",
    "version": 3
   },
   "file_extension": ".py",
   "mimetype": "text/x-python",
   "name": "python",
   "nbconvert_exporter": "python",
   "pygments_lexer": "ipython3",
   "version": "3.7.3"
  }
 },
 "nbformat": 4,
 "nbformat_minor": 2
}
