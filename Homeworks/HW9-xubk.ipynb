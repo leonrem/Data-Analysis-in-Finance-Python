{
 "cells": [
  {
   "cell_type": "markdown",
   "metadata": {},
   "source": [
    "# HW9\n",
    "\n",
    "Each of these questions is related to material in Topics 2.2 and 2.3."
   ]
  },
  {
   "cell_type": "code",
   "execution_count": 1,
   "metadata": {},
   "outputs": [
    {
     "name": "stdout",
     "output_type": "stream",
     "text": [
      "HW9 submission for Alex (XUBK)\n"
     ]
    }
   ],
   "source": [
    "name = \"Alex\"              # Enter your name\n",
    "user = \"XUBK\"              # Enter your BC username\n",
    "print(\"HW9 submission for {} ({})\".format(name,user))"
   ]
  },
  {
   "cell_type": "markdown",
   "metadata": {},
   "source": [
    "Please rename the file so that it includes your BC username. For example, I would change <b>HW9</b> to <b>HW9-reuterj</b> and upload <b>HW9-reuterj.ipynb</b> to Canvas."
   ]
  },
  {
   "cell_type": "code",
   "execution_count": 2,
   "metadata": {},
   "outputs": [],
   "source": [
    "import numpy as np"
   ]
  },
  {
   "cell_type": "markdown",
   "metadata": {},
   "source": [
    "<b>(2 points) 1.</b> Create a (10,) array 'a1' that contains the effective annual interest rates [0.01 0.02 ... 0.09, 0.1 ]. Use one or more steps to create a new (10,) array 'a2' that contains the future value of investing \\\\$100 for 10 years at each of these rates. \n",
    "\n",
    "For example, element 0 of 'a2' should equal 110.46221254 $\\left(= \\$100(1.01)^{10} \\right)$."
   ]
  },
  {
   "cell_type": "code",
   "execution_count": 19,
   "metadata": {},
   "outputs": [
    {
     "data": {
      "text/plain": [
       "array([0.01, 0.02, 0.03, 0.04, 0.05, 0.06, 0.07, 0.08, 0.09, 0.1 ])"
      ]
     },
     "execution_count": 19,
     "metadata": {},
     "output_type": "execute_result"
    }
   ],
   "source": [
    "arr1 = np.arange(0.01,.11,.01)\n",
    "arr1"
   ]
  },
  {
   "cell_type": "code",
   "execution_count": 21,
   "metadata": {},
   "outputs": [
    {
     "data": {
      "text/plain": [
       "array([110.46221254, 121.899442  , 134.39163793, 148.02442849,\n",
       "       162.88946268, 179.08476965, 196.71513573, 215.89249973,\n",
       "       236.73636746, 259.37424601])"
      ]
     },
     "execution_count": 21,
     "metadata": {},
     "output_type": "execute_result"
    }
   ],
   "source": [
    "arr2 = 100 * (1+ arr1)**10\n",
    "arr2"
   ]
  },
  {
   "cell_type": "markdown",
   "metadata": {},
   "source": [
    "<b>(2 points) 2.</b> Use <b>np.random.random()</b> to generate a (3,5) array 'b1' where each element is drawn from uniform (-1,3). Create a new (3,) array 'b2' containing the average values of the three rows. Create a new (5,) array 'b3' containing the average values of the five columns. Count (and print) the number of elements of 'b3' that are positive."
   ]
  },
  {
   "cell_type": "code",
   "execution_count": 102,
   "metadata": {},
   "outputs": [
    {
     "name": "stdout",
     "output_type": "stream",
     "text": [
      "b1 is:\n",
      "[[-0.97131896  1.93291972  0.07631314  1.24110375  1.36313826]\n",
      " [-0.88961536 -0.06014803 -0.6623583   0.53807376 -0.28435152]\n",
      " [ 0.01696326  1.7104871   1.08680805 -0.58622997  1.15012836]]\n",
      "b2 is:\n",
      "[ 0.72843118 -0.27167989  0.67563136]\n",
      "b3 is:\n",
      "[-0.61465702  1.1944196   0.16692097  0.39764918  0.7429717 ]\n"
     ]
    }
   ],
   "source": [
    "# your code here\n",
    "b1 = 3 * np.random.random_sample((3,5)) - 1\n",
    "print(\"b1 is:\")\n",
    "print(b1)\n",
    "b2 = np.mean(b1, axis=1)\n",
    "print(\"b2 is:\")\n",
    "print(b2)\n",
    "b3 = np.mean(b1, axis = 0)\n",
    "print(\"b3 is:\")\n",
    "print(b3)"
   ]
  },
  {
   "cell_type": "markdown",
   "metadata": {},
   "source": [
    "<b>(4 points) 3.</b> \n",
    "\n",
    "- Use <b>np.random.binomial()</b> to simulate the outcome of 82 NBA games for a single team. Begin by assuming that the probability of winning each game is 50%. Simulate the 82-game season 10,000 times. Print the 5th, 25th, 50th, 75th, and 95th percentile of the number of games won. \n",
    "- Repeat this exercise when the probability of winning equals 45% and then again when it equals 60%. \n",
    "- Use the three distributions of number-of-games-won to estimate (i) the probability that a team with a 50% probability of winning wins fewer games in an 82-game seaon than a team with a 45% probability of winning; (ii) the probability that a team a 60% probability of winning wins more games than a team with a 50% probability of winning.\n",
    "\n",
    "Hint: You can ask how often the number of wins of the 45% team is higher than the number of wins of the 50% team by comparing element 0 of both arrays and then comparing element 1 of both arrays, etc."
   ]
  },
  {
   "cell_type": "code",
   "execution_count": 99,
   "metadata": {},
   "outputs": [
    {
     "name": "stdout",
     "output_type": "stream",
     "text": [
      "Given 50.0% win rate - Percentiles: 5th: 34.0 25th: 38.0 50th: 41.0 75th: 44.0 95th: 48.0\n",
      "Given 45.0% win rate - Percentiles: 5th: 29.0 25th: 34.0 50th: 37.0 75th: 40.0 95th: 44.0\n",
      "Given 60.0% win rate - Percentiles: 5th: 42.0 25th: 46.0 50th: 49.0 75th: 52.0 95th: 56.0\n"
     ]
    }
   ],
   "source": [
    "# your code here\n",
    "test = [.5, .45, .6]\n",
    "p = [5, 25, 50, 75, 95]\n",
    "dist = []\n",
    "for x in test:\n",
    "    s1 = np.random.binomial(82, x, 1000)\n",
    "    dist.append(s1)\n",
    "    s1_per = np.percentile(s1, p)\n",
    "    print(\"Given {}% win rate - Percentiles: 5th: {} 25th: {} 50th: {} 75th: {} 95th: {}\".format(100*x, s1_per[0], s1_per[1], s1_per[2], s1_per[3], s1_per[4]))"
   ]
  },
  {
   "cell_type": "code",
   "execution_count": 101,
   "metadata": {},
   "outputs": [
    {
     "name": "stdout",
     "output_type": "stream",
     "text": [
      "Probability that 50% win rate team wins less than a 45% win rate team is 0.235\n",
      "Probability that 60% win rate team wins more than a 50% win rate team is 0.892\n"
     ]
    }
   ],
   "source": [
    "num_i = 0\n",
    "num_ii = 0\n",
    "for x in range(1000):\n",
    "    if dist[0][x] < dist[1][x]:\n",
    "        num_i +=1\n",
    "    if dist[0][x] < dist[2][x]:\n",
    "        num_ii +=1\n",
    "print(\"Probability that 50% win rate team wins less than a 45% win rate team is {}\".format(num_i/1000))\n",
    "print(\"Probability that 60% win rate team wins more than a 50% win rate team is {}\".format(num_ii/1000))"
   ]
  },
  {
   "cell_type": "markdown",
   "metadata": {},
   "source": [
    "<b>(2 points) 4.</b> Use <b>np.random.normal()</b> to generate a (20,) array 'r1' containing draws from the normal distribution, where the mean is 0.10 and the standard deviation is 0.05. Use <b>np.cumprod()</b> to create a new (20,) array 'r2' containing the compound returns implied by 'r1'. The first return in 'r2' corresponds to the 1-year return; the last return in 'r2' corresponds to the 20-year compound return. Print the 20-year compound return."
   ]
  },
  {
   "cell_type": "code",
   "execution_count": 115,
   "metadata": {},
   "outputs": [
    {
     "name": "stdout",
     "output_type": "stream",
     "text": [
      "r1 is:\n",
      "[0.06000592 0.0863577  0.06243865 0.07300509 0.06119339 0.04328327\n",
      " 0.15649362 0.06271803 0.07923778 0.11037932 0.07491965 0.09070148\n",
      " 0.05342968 0.12554534 0.12273656 0.11403112 0.03182741 0.02941342\n",
      " 0.20104696 0.06653456]\n",
      "r2 is:\n",
      "[1.06000592 1.1515456  1.22344655 1.31276438 1.39309688 1.45339467\n",
      " 1.68084166 1.78626073 1.92780006 2.14058931 2.30096151 2.50966213\n",
      " 2.64375257 2.9756634  3.3408861  3.7218511  3.84030799 3.95326458\n",
      " 4.7480564  5.06396625]\n",
      "20 year compound return is: 4.06%\n"
     ]
    }
   ],
   "source": [
    "# your code here\n",
    "r1 = np.random.normal(0.1, 0.05, 20)\n",
    "print(\"r1 is:\")\n",
    "print(r1)\n",
    "print(\"r2 is:\")\n",
    "r2 = np.cumprod(1+r1)\n",
    "print(r2)\n",
    "print(\"20 year compound return is: {:.2f}%\".format(r2[19]-1))\n"
   ]
  },
  {
   "cell_type": "markdown",
   "metadata": {},
   "source": [
    "<b>(1 bonus point).</b> Use 'r2' from question 4 and an additional (20,) array 'r3' of your creation to create new (20,) array 'r4' which contains the geometric average return for years 1 through 20 that are implied by the n-year compound returns in 'r2'. For example, if the first two elements of 'r1' are 0.045 and 0.060, then the 2-year compound return is 0.1077 $(= (1.045)(1.06)-1)$ and the 2-year geometric average return is 0.05247328 $(= ((1.045)(1.06))^{(1/2)} - 1).$ Print the 20-year geometric average return."
   ]
  },
  {
   "cell_type": "code",
   "execution_count": 70,
   "metadata": {},
   "outputs": [],
   "source": [
    "# your code here"
   ]
  },
  {
   "cell_type": "code",
   "execution_count": 137,
   "metadata": {},
   "outputs": [],
   "source": [
    "t1 = np.zeros(2,)\n",
    "t1[0]= .045\n",
    "t1[1] = .06\n",
    "t3 = np.cumprod(1+t1)\n",
    "t3[1]-1\n",
    "t2 = t1 +1"
   ]
  },
  {
   "cell_type": "code",
   "execution_count": 151,
   "metadata": {},
   "outputs": [
    {
     "data": {
      "text/plain": [
       "0.05247327757050435"
      ]
     },
     "execution_count": 151,
     "metadata": {},
     "output_type": "execute_result"
    }
   ],
   "source": [
    "(((t3[1])/(t2[1])) * t2[1])**(.5)-1\n"
   ]
  },
  {
   "cell_type": "code",
   "execution_count": 141,
   "metadata": {},
   "outputs": [
    {
     "data": {
      "text/plain": [
       "array([1.045, 1.06 ])"
      ]
     },
     "execution_count": 141,
     "metadata": {},
     "output_type": "execute_result"
    }
   ],
   "source": [
    "t2"
   ]
  },
  {
   "cell_type": "code",
   "execution_count": 167,
   "metadata": {},
   "outputs": [
    {
     "name": "stdout",
     "output_type": "stream",
     "text": [
      "20 Year geometric return is: 125.032581%\n"
     ]
    }
   ],
   "source": [
    "print(\"20 Year geometric return is: {:2f}%\".format(100*((r2[19])**0.5-1)))"
   ]
  },
  {
   "cell_type": "code",
   "execution_count": null,
   "metadata": {},
   "outputs": [],
   "source": []
  }
 ],
 "metadata": {
  "kernelspec": {
   "display_name": "Python 3",
   "language": "python",
   "name": "python3"
  },
  "language_info": {
   "codemirror_mode": {
    "name": "ipython",
    "version": 3
   },
   "file_extension": ".py",
   "mimetype": "text/x-python",
   "name": "python",
   "nbconvert_exporter": "python",
   "pygments_lexer": "ipython3",
   "version": "3.7.3"
  }
 },
 "nbformat": 4,
 "nbformat_minor": 2
}
