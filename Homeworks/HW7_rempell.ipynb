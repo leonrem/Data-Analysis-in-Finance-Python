{
 "cells": [
  {
   "cell_type": "markdown",
   "metadata": {},
   "source": [
    "# HW7\n",
    "\n",
    "Each of these questions is related to material in Topics 1.6a and 1.6b."
   ]
  },
  {
   "cell_type": "code",
   "execution_count": 1,
   "metadata": {},
   "outputs": [
    {
     "name": "stdout",
     "output_type": "stream",
     "text": [
      "HW7 submission for Leonid (rempell)\n"
     ]
    }
   ],
   "source": [
    "name = \"Leonid\"              # Enter your name\n",
    "user = \"rempell\"              # Enter your BC username\n",
    "print(\"HW7 submission for {} ({})\".format(name,user))"
   ]
  },
  {
   "cell_type": "markdown",
   "metadata": {},
   "source": [
    "Please rename the file so that it includes your BC username. For example, I would change <b>HW7</b> to <b>HW7-reuterj</b> and upload <b>HW7-reuterj.ipynb</b> to Canvas."
   ]
  },
  {
   "cell_type": "code",
   "execution_count": 2,
   "metadata": {},
   "outputs": [],
   "source": [
    "# libraries that may or may not be required\n",
    "import math\n",
    "import random\n",
    "import statistics"
   ]
  },
  {
   "cell_type": "markdown",
   "metadata": {},
   "source": [
    "<br>\n",
    "<b>Question 1. Importing a CSV file and calculating summary statistics</b>"
   ]
  },
  {
   "cell_type": "markdown",
   "metadata": {},
   "source": [
    "<b>(1 point) 1a.</b> Use <b>.readlines()</b> (or a function built around .readlines()) to import the file 'hw7_returns.csv' into Python as a list of strings, 'ret_s'. The file should be structured such that each string is a line of the form \"year,month,return\". (You should remove the \"\\n\" that appears at the end of each line.) Print the first and last lines.\n",
    "\n",
    "Note that the first row of the CSV file contains variable labels and the remaining rows contain monthly returns for January 2016 through December 2018, but in random order."
   ]
  },
  {
   "cell_type": "code",
   "execution_count": 3,
   "metadata": {},
   "outputs": [
    {
     "data": {
      "text/plain": [
       "'/Users/leonrem/Desktop/Data Analytics/Homeworks'"
      ]
     },
     "execution_count": 3,
     "metadata": {},
     "output_type": "execute_result"
    }
   ],
   "source": [
    "pwd"
   ]
  },
  {
   "cell_type": "code",
   "execution_count": 4,
   "metadata": {},
   "outputs": [],
   "source": [
    "hw_file='HW7_returns.csv'"
   ]
  },
  {
   "cell_type": "code",
   "execution_count": 5,
   "metadata": {},
   "outputs": [],
   "source": [
    "f = open(hw_file, 'r')\n",
    "lines = f.readlines()\n",
    "f.close()\n",
    "ret_s = [element.rstrip() for element in lines]"
   ]
  },
  {
   "cell_type": "code",
   "execution_count": 6,
   "metadata": {},
   "outputs": [
    {
     "name": "stdout",
     "output_type": "stream",
     "text": [
      "year,month,ret 2016,8,0.0609 2017,9,-0.2521\n"
     ]
    }
   ],
   "source": [
    "print(ret_s[0], ret_s[-1], ret_s[1])"
   ]
  },
  {
   "cell_type": "markdown",
   "metadata": {},
   "source": [
    "<b>(1 point) 1b.</b> Use 'ret_s' to create a list of tuples, 'ret_tup', where each tuple is of the form (year,month,ret). \n",
    "- 'ret_s' should exclude the element containing the list of variable names. This will make the next step easier.\n",
    "- 'year' and 'month' should be stored as integers and 'ret' should be stored as floating point.\n",
    "- Print the first tuple and the last tuple in this (still unsorted) list. "
   ]
  },
  {
   "cell_type": "code",
   "execution_count": 7,
   "metadata": {},
   "outputs": [],
   "source": [
    "element = 1\n",
    "ret_tup = []\n",
    "while element in range(len(ret_s)):\n",
    "    r = ret_s[element].replace(',','',1)\n",
    "    yer = r[0:4]\n",
    "    b = r.index(',')\n",
    "    mon = r[4:b]\n",
    "    ret = r[b+1:]\n",
    "    ret_tup.append((int(yer),int(mon),float(ret)))\n",
    "    element+=1"
   ]
  },
  {
   "cell_type": "code",
   "execution_count": 8,
   "metadata": {},
   "outputs": [
    {
     "name": "stdout",
     "output_type": "stream",
     "text": [
      "(2017, 9, -0.2521) (2016, 8, 0.0609)\n"
     ]
    }
   ],
   "source": [
    "print(ret_tup[0], ret_tup[-1])"
   ]
  },
  {
   "cell_type": "markdown",
   "metadata": {},
   "source": [
    "<b>(2 points) 1c.</b> Use one or more print statements to report the arthimetic average monthly return for each calendar year, along side the standard deviation of monthly returns for each calendar year. \n",
    "\n",
    "- You may want to use list comprehension to create separate lists containing the monthly returns for 2016, 2017, and 2018. \n",
    "- You are welcome to calculate the averages and standard deviations inside or outside of the format statement. \n",
    "- Format the average returns so that, for example, 0.2504 should appear as 25.04%."
   ]
  },
  {
   "cell_type": "code",
   "execution_count": 9,
   "metadata": {},
   "outputs": [
    {
     "name": "stdout",
     "output_type": "stream",
     "text": [
      "The arithmetic average monthly return for 2016 is: 2.3200% and the standard deviation is 0.0797\n",
      "The arithmetic average monthly return for 2017 is: 6.1342% and the standard deviation is 0.1614\n",
      "The arithmetic average monthly return for 2018 is: -1.3875% and the standard deviation is 0.0998\n"
     ]
    }
   ],
   "source": [
    "rets_2016 = [element[2] for element in ret_tup if element[0] == 2016]\n",
    "rets_2017 = [element[2] for element in ret_tup if element[0] == 2017]\n",
    "rets_2018 = [element[2] for element in ret_tup if element[0] == 2018]\n",
    "\n",
    "print('The arithmetic average monthly return for 2016 is: {:.4f}% and the standard deviation is {:.4f}'.format((statistics.mean(rets_2016))*100,(statistics.stdev(rets_2016))))\n",
    "print('The arithmetic average monthly return for 2017 is: {:.4f}% and the standard deviation is {:.4f}'.format((statistics.mean(rets_2017))*100,(statistics.stdev(rets_2017))))\n",
    "print('The arithmetic average monthly return for 2018 is: {:.4f}% and the standard deviation is {:.4f}'.format((statistics.mean(rets_2018))*100,(statistics.stdev(rets_2018))))"
   ]
  },
  {
   "cell_type": "markdown",
   "metadata": {},
   "source": [
    "<br>\n",
    "<b>(2 points) Question 2. Importing a TXT file, convert into a list of words, and extract a subset of words</b>"
   ]
  },
  {
   "cell_type": "markdown",
   "metadata": {},
   "source": [
    "- Read \"HW7_Gettysburg.txt\" into Python as a single string, 'getty_s'. You may use one of the functions that we defined in topic 1.6a or write your own version thereof. Use a <b>.replace()</b> command to remove line returns ('\\n'), if your function did not already do so.\n",
    "- Use a series of <b>.replace()</b> commands to remove all of the punctuation. (You may want to open the file in a text editor or word processor, to identify all of the relevant punctuation.) \n",
    "- Convert the string to lowercase and split the text into a list of words, 'getty_w'.\n",
    "- Use list comprehension and <b>sorted()</b> and <b>set()</b> to create a sorted list containing any word that is 7 or 8 letters long, but containing each such word only once. Print this list."
   ]
  },
  {
   "cell_type": "code",
   "execution_count": 110,
   "metadata": {},
   "outputs": [
    {
     "name": "stdout",
     "output_type": "stream",
     "text": [
      "['fitting', 'liberty', 'created', 'fathers', 'detract', 'brought', 'honored', 'whether', 'measure', 'resting', 'resolve', 'portion', 'engaged', 'freedom', 'testing', 'advanced', 'remember', 'devotion', 'dedicate']\n"
     ]
    }
   ],
   "source": [
    "f = open('HW7_Gettysburg.txt', 'r')\n",
    "getty_s = f.read()\n",
    "f.close()\n",
    "getty_s = getty_s.replace('\\n',' ')\n",
    "getty_s = getty_s.replace(',',' ')\n",
    "getty_s = getty_s.replace('.',' ')\n",
    "getty_s = getty_s.replace('--',' ')\n",
    "getty_w = getty_s.lower().split()\n",
    "\n",
    "def target(s):\n",
    "    i = 0\n",
    "    if len(s) == 7:\n",
    "        i = 1\n",
    "    if len(s) == 8:\n",
    "        i = 1\n",
    "    return i\n",
    "\n",
    "\n",
    "big_words = [getty_w[i] for i in range(len(getty_w)) if target(getty_w[i])==1]\n",
    "\n",
    "big_words = set(big_words)\n",
    "big_words = sorted(big_words, key=len)\n",
    "\n",
    "print(big_words)"
   ]
  },
  {
   "cell_type": "markdown",
   "metadata": {},
   "source": [
    "<br>\n",
    "<b>(4 points) Question 3.</b>\n",
    "\n",
    "You have been given three dictionaries 'a_en', 'b_en', 'a_de' and three encrypted messages. You have been told that each encrypted message was created by running the original string through <b>dencode()</b> four times, using some combination of 'a_en' and 'b_en'. \n",
    "\n",
    "Unlike the encode and decode functions that I introduced in Topic 1.6b, <b>dencode()</b> takes two inputs: a string and a dictionary. If you input a string and 'a_en', <b>dencode()</b> will return an encoded version of the string using dicitionary 'a_en'. If you input the encoded version of the original string and 'a_de', <b>dencode()</b> will return the original string.\n",
    "\n",
    "<b>Your job is to decode each of the encrypted messages.</b>\n",
    "\n",
    "Hint #1: Map out all of the possible ways that you can decode the messages. In the example below, I use 'a_en' four times in a row. In total, there are 16 possible combinations of 'a_en' and 'b_en'. Note that ach message was encrypted using a different combination of 'a_en' and 'b_en'.\n",
    "\n",
    "Hint #2: Use 'b_en' to create 'b_de'."
   ]
  },
  {
   "cell_type": "code",
   "execution_count": 10,
   "metadata": {},
   "outputs": [],
   "source": [
    "# This function requires a string 's' and a dictionary 'd'\n",
    "# It can be used to encode strings when the dictionary is 'a_en' or 'b_en'\n",
    "# It can be used to decode strings when given a dictionary like 'a_de' that reverses the keys and values in 'a_en'\n",
    "\n",
    "def dencode(s,d):      # s is a string and d is a dictionary\n",
    "    new = ''\n",
    "    for element in s:\n",
    "        try:\n",
    "            new = new + d[element]\n",
    "        except:\n",
    "            new = new + ' '\n",
    "    return new"
   ]
  },
  {
   "cell_type": "code",
   "execution_count": 11,
   "metadata": {},
   "outputs": [
    {
     "name": "stdout",
     "output_type": "stream",
     "text": [
      "{',': ' ', 'j': '-', 'J': '$', '3': 's', '1': '7', 'W': '=', '+': 'J', 'N': '6', 'b': 'c', '8': '\"', '\\\\': '3', 'B': 'V', '4': 'T', '^': 'M', '`': 'y', 'o': 'P', 'i': 'D', '5': 'A', '\"': '/', 'F': 'U', 'z': '*', '9': 'x', 'n': 'j', 'm': '`', 'I': ',', '[': 'C', '&': 'X', ']': 'n', 'd': '@', '/': '2', '2': '{', 'A': 'l', 'Q': 'Q', 'U': '!', 'G': '%', '6': 'L', '|': '>', '{': 'v', 'x': 'i', '$': 'w', '~': 'N', 'R': 'Z', 'M': 'O', '7': 'S', ' ': '.', '_': '1', 'w': 'g', \"'\": '~', '-': '}', ';': '\\\\', 'V': 'K', 'S': ';', 's': '&', 'a': 'H', 'X': '#', 'E': 'G', '}': 't', 'O': '0', 'e': '|', 'C': 'Y', '.': ']', 'r': 'p', 'u': ':', 'D': '?', '?': 'e', 'h': ')', 'K': '8', '%': '+', 'p': 'b', 'k': 'm', '(': '5', '*': 'd', '!': 'a', 'q': '^', '>': 'q', 'g': \"'\", 'l': 'o', '#': 'I', 'L': 'r', ')': 'f', '=': 'k', '@': '(', '0': '<', 'Z': 'F', 'c': '9', 'Y': '4', 'P': '_', 't': 'u', 'v': 'h', 'T': 'z', 'H': 'W', ':': 'E', 'y': '[', 'f': 'B', '<': 'R'}\n"
     ]
    }
   ],
   "source": [
    "# Here are the versions of 'a' and 'b' that were used to encrypt the messages\n",
    "a_en = {'c': 'g', 'r': '\\\\', '?': '^', 'Q': '_', '.': 'B', 'K': ';', ')': '\"', '#': 'd', 'N': '0', 'a': ']', ';': '4', '\"': '+', ':': 'U', 'R': 'j', '7': 'T', 'M': 'y', '*': 'R', '}': 'J', '$': 'm', '8': '?', '0': 'X', 'l': 'k', 'Y': 'N', 'H': 'A', 'v': 'p', '~': 'c', 'P': '{', '&': ')', '\\\\': 'F', 'E': 't', '^': 'o', '-': 'P', 'f': 'M', 'g': 'K', 'd': '~', 'F': 'S', 'p': ' ', 'A': '-', 'X': 'E', 'V': '8', 'Z': 'H', '+': 'I', '{': '3', 'u': '`', 'x': 'i', '6': 'Y', 'J': '(', 'q': 'C', 'C': 'n', 'U': 'O', '(': '#', 'j': '1', 'L': 'G', '!': 'b', 'D': '7', '1': '[', 'o': '9', '>': '&', '_': \"'\", ']': '6', '9': 'Q', '%': 'x', 'G': '*', 'm': 'e', '5': 'L', '4': 's', '/': '5', \"'\": '!', ',': '|', 'y': 'Z', 'b': 'z', 'w': 'V', '=': 'v', 'O': ':', 'T': 'h', 'n': 'q', 'W': 'a', 'k': '>', 'z': '<', 'e': 'u', 'h': '}', '@': '%', '2': 'W', 'B': 'l', '3': ',', '[': 'f', 's': 'w', 'S': '.', '`': '2', 't': '=', ' ': '@', 'I': 'D', '|': '$', 'i': '/', '<': 'r'}\n",
    "a_de = {'g': 'c', '\\\\': 'r', '^': '?', '_': 'Q', 'B': '.', ';': 'K', '\"': ')', 'd': '#', '0': 'N', ']': 'a', '4': ';', '+': '\"', 'U': ':', 'j': 'R', 'T': '7', 'y': 'M', 'R': '*', 'J': '}', 'm': '$', '?': '8', 'X': '0', 'k': 'l', 'N': 'Y', 'A': 'H', 'p': 'v', 'c': '~', '{': 'P', ')': '&', 'F': '\\\\', 't': 'E', 'o': '^', 'P': '-', 'M': 'f', 'K': 'g', '~': 'd', 'S': 'F', ' ': 'p', '-': 'A', 'E': 'X', '8': 'V', 'H': 'Z', 'I': '+', '3': '{', '`': 'u', 'i': 'x', 'Y': '6', '(': 'J', 'C': 'q', 'n': 'C', 'O': 'U', '#': '(', '1': 'j', 'G': 'L', 'b': '!', '7': 'D', '[': '1', '9': 'o', '&': '>', \"'\": '_', '6': ']', 'Q': '9', 'x': '%', '*': 'G', 'e': 'm', 'L': '5', 's': '4', '5': '/', '!': \"'\", '|': ',', 'Z': 'y', 'z': 'b', 'V': 'w', 'v': '=', ':': 'O', 'h': 'T', 'q': 'n', 'a': 'W', '>': 'k', '<': 'z', 'u': 'e', '}': 'h', '%': '@', 'W': '2', 'l': 'B', ',': '3', 'f': '[', 'w': 's', '.': 'S', '2': '`', '=': 't', '@': ' ', 'D': 'I', '$': '|', '/': 'i', 'r': '<'}\n",
    "b_en = {' ': ',', '-': 'j', '$': 'J', 's': '3', '7': '1', '=': 'W', 'J': '+', '6': 'N', 'c': 'b', '\"': '8', '3': '\\\\', 'V': 'B', 'T': '4', 'M': '^', 'y': '`', 'P': 'o', 'D': 'i', 'A': '5', '/': '\"', 'U': 'F', '*': 'z', 'x': '9', 'j': 'n', '`': 'm', ',': 'I', 'C': '[', 'X': '&', 'n': ']', '@': 'd', '2': '/', '{': '2', 'l': 'A', 'Q': 'Q', '!': 'U', '%': 'G', 'L': '6', '>': '|', 'v': '{', 'i': 'x', 'w': '$', 'N': '~', 'Z': 'R', 'O': 'M', 'S': '7', '.': ' ', '1': '_', 'g': 'w', '~': \"'\", '}': '-', '\\\\': ';', 'K': 'V', ';': 'S', '&': 's', 'H': 'a', '#': 'X', 'G': 'E', 't': '}', '0': 'O', '|': 'e', 'Y': 'C', ']': '.', 'p': 'r', ':': 'u', '?': 'D', 'e': '?', ')': 'h', '8': 'K', '+': '%', 'b': 'p', 'm': 'k', '5': '(', 'd': '*', 'a': '!', '^': 'q', 'q': '>', \"'\": 'g', 'o': 'l', 'I': '#', 'r': 'L', 'f': ')', 'k': '=', '(': '@', '<': '0', 'F': 'Z', '9': 'c', '4': 'Y', '_': 'P', 'u': 't', 'h': 'v', 'z': 'T', 'W': 'H', 'E': ':', '[': 'y', 'B': 'f', 'R': '<'}\n",
    "b_de = {}   \n",
    "\n",
    "t = [element for element in enumerate(b_en)] \n",
    "\n",
    "for i in t:\n",
    "    b_de[b_en[i[1]]] = i[1]\n",
    "\n",
    "print(b_de)\n"
   ]
  },
  {
   "cell_type": "code",
   "execution_count": 171,
   "metadata": {},
   "outputs": [
    {
     "name": "stdout",
     "output_type": "stream",
     "text": [
      "'Rick Astley is amazing!' becomes 'fG4\"i3? )W-iG?iN2NFGqsr'\n"
     ]
    }
   ],
   "source": [
    "# Here is an example of how you can use dencode() to encode a string\n",
    "# In this example, the original string is run through 'a_en' four separate times\n",
    "\n",
    "ex = \"Rick Astley is amazing!\"\n",
    "\n",
    "m0 = ex\n",
    "m0 = dencode(m0,a_en)\n",
    "m0 = dencode(m0,a_en)\n",
    "m0 = dencode(m0,a_en)\n",
    "m0 = dencode(m0,a_en)\n",
    "\n",
    "print(\"'{}' becomes '{}'\".format(ex,m0))"
   ]
  },
  {
   "cell_type": "code",
   "execution_count": 172,
   "metadata": {},
   "outputs": [
    {
     "name": "stdout",
     "output_type": "stream",
     "text": [
      "1  --  fG4\"i3? )W-iG?iN2NFGqsr becomes [L;)x{8p&2AxL8xY`Y\\Ln4<\n",
      "2  --  [L;)x{8p&2AxL8xY`Y\\Ln4< becomes 15K&%PVv>`H%5V%6u6r5C;z\n",
      "3  --  15K&%PVv>`H%5V%6u6r5C;z becomes j/g>@-w=kuZ@/w@]e]</qKb\n",
      "4  --  j/g>@-w=kuZ@/w@]e]</qKb becomes Rick Astley is amazing!\n"
     ]
    }
   ],
   "source": [
    "# For loop that applies 'a_de' four times to encoded version of 'Rick Astley is amazing!'\n",
    "d0 = m0\n",
    "for num in range(4):\n",
    "    start = d0\n",
    "    d0 = dencode(start,a_de)\n",
    "    print(num+1,\" -- \",start,\"becomes\",d0)"
   ]
  },
  {
   "cell_type": "code",
   "execution_count": 173,
   "metadata": {},
   "outputs": [
    {
     "name": "stdout",
     "output_type": "stream",
     "text": [
      "fG4\"i3? )W-iG?iN2NFGqsr becomes Rick Astley is amazing!\n"
     ]
    }
   ],
   "source": [
    "# Decodes four times in a single line of code\n",
    "d0 = dencode(dencode(dencode(dencode(m0,a_de),a_de),a_de),a_de)\n",
    "print(m0,\"becomes\",d0)"
   ]
  },
  {
   "cell_type": "markdown",
   "metadata": {},
   "source": [
    "### It is finally your turn.... Here are the three encrypted messages\n",
    "\n",
    "- Decrypted version of m1 begins with 'Ne'.\n",
    "- Decrypted version of m2 begins with 'Do'.\n",
    "- Decrypted version of m3 begins with 'Oh'.\n",
    "- I recommend writing a function that attempts to decrypt each message using every possible combination of 'a_de' and 'b_de' and then tests whether the first two characters match the strings above."
   ]
  },
  {
   "cell_type": "code",
   "execution_count": 191,
   "metadata": {},
   "outputs": [],
   "source": [
    "m1 = \"tWN.eiHN.ei^#W.W%W.i-'aiN.Wi*ihi\\W)GW%Wi #N i #Wi#WN. iK'W?is'i'q\"\n",
    "m2 = \"'z$SARm@aaR?AR@Rmz7Js@mu^RiRsJJ$R1J.JRCz.RrJ@.(\"\n",
    "m3 = \"CWEd4aS4Wg@(Ed(0LL5>Ed>S>d\\SYg1S#g4aH\""
   ]
  },
  {
   "cell_type": "code",
   "execution_count": 251,
   "metadata": {},
   "outputs": [
    {
     "name": "stdout",
     "output_type": "stream",
     "text": [
      "Near, far, wherever you are / I believe that the heart does go on\n",
      "Don't call it a comeback, I been here for years\n",
      "Oh, smashing, groovy, yay capitalism!\n"
     ]
    }
   ],
   "source": [
    "# b_de was made in a few cells above\n",
    "\n",
    "dicts = [a_de, b_de]\n",
    "msgs = [m1, m2, m3]\n",
    "trgt = ['Ne','Do','Oh']\n",
    "\n",
    "#this problem does not involve a single encryption solution, so we will have to take this further...\n",
    "\n",
    "for i in msgs:\n",
    "    if len(msgs)>10000:\n",
    "        break\n",
    "    for element in dicts:\n",
    "        a = dencode(i,element)\n",
    "        for s in trgt:\n",
    "            if s == a[0:2]:\n",
    "                print(a)\n",
    "                trgt.remove(a[0:2])\n",
    "            elif len(trgt)>0:\n",
    "                msgs.append(a)"
   ]
  },
  {
   "cell_type": "code",
   "execution_count": 252,
   "metadata": {},
   "outputs": [],
   "source": [
    "#hurray! I finished!"
   ]
  }
 ],
 "metadata": {
  "kernelspec": {
   "display_name": "Python 3",
   "language": "python",
   "name": "python3"
  },
  "language_info": {
   "codemirror_mode": {
    "name": "ipython",
    "version": 3
   },
   "file_extension": ".py",
   "mimetype": "text/x-python",
   "name": "python",
   "nbconvert_exporter": "python",
   "pygments_lexer": "ipython3",
   "version": "3.7.3"
  }
 },
 "nbformat": 4,
 "nbformat_minor": 2
}
