{
 "cells": [
  {
   "cell_type": "markdown",
   "metadata": {},
   "source": [
    "# Practice Problem Solutions for Topic 1.2"
   ]
  },
  {
   "cell_type": "markdown",
   "metadata": {},
   "source": [
    "### 1. Working with Lists"
   ]
  },
  {
   "cell_type": "markdown",
   "metadata": {},
   "source": [
    "<b>1a.</b> Create a list 'a' that contains four elements: your name, BC username, favorite number (as a string), and the name of your favorite US state. Print the resulting list."
   ]
  },
  {
   "cell_type": "code",
   "execution_count": null,
   "metadata": {},
   "outputs": [],
   "source": [
    "a = ['Your Name', 'yourid', '13', 'Wyoming']\n",
    "print(a)"
   ]
  },
  {
   "cell_type": "markdown",
   "metadata": {},
   "source": [
    "<b>1b.</b> Create a list 'b' that contains two elements: your favorite color and your favorite type of animal. Then, create a six-element list 'c' by adding list 'b' to list 'a'. Print the resulting list 'c'."
   ]
  },
  {
   "cell_type": "code",
   "execution_count": null,
   "metadata": {},
   "outputs": [],
   "source": [
    "b = ['Blue', 'Grizzly']\n",
    "c = a + b\n",
    "print(c)"
   ]
  },
  {
   "cell_type": "markdown",
   "metadata": {},
   "source": [
    "<b>1c.</b> Use <b>.pop()</b> to remove element zero (i.e., the 1st string in the list) from list 'c' and then use <b>.append()</b> to add this newly-removed element to the end of list 'c'. Print the new version of list 'c'."
   ]
  },
  {
   "cell_type": "code",
   "execution_count": null,
   "metadata": {},
   "outputs": [],
   "source": [
    "d = c.pop(0)\n",
    "c.append(d)\n",
    "print(c)"
   ]
  },
  {
   "cell_type": "markdown",
   "metadata": {},
   "source": [
    "<b>1d.</b> Use <b>.join()</b> to convert your list 'c' into a single string 'd', where each element is separated by a vertical bar (i.e., \"|\"). Print string 'd'."
   ]
  },
  {
   "cell_type": "code",
   "execution_count": null,
   "metadata": {},
   "outputs": [],
   "source": [
    "d = '|'.join(c)\n",
    "print(d)"
   ]
  },
  {
   "cell_type": "markdown",
   "metadata": {},
   "source": [
    "<b>1e.</b> Use <b>.split()</b> to convert the following sentence into a list, where each word is a separate element of the list. Then print a version of this list that has been sorted into alphabetical order. Before using split(), please be sure to remove '.' and ',' from 's'."
   ]
  },
  {
   "cell_type": "code",
   "execution_count": null,
   "metadata": {},
   "outputs": [],
   "source": [
    "s = 'The Dow Jones Industrial Average dropped more than 450 points, after earlier falling as much as 679 points, while the S&P 500 fell 1.6%. The tech-heavy Nasdaq declined 1.6%, off nearly 20% from its Aug. 29 high.'"
   ]
  },
  {
   "cell_type": "code",
   "execution_count": null,
   "metadata": {},
   "outputs": [],
   "source": [
    "s = s.replace('.','').replace(',','')\n",
    "e = s.split(' ')\n",
    "print(sorted(e))"
   ]
  },
  {
   "cell_type": "markdown",
   "metadata": {},
   "source": [
    "### 2. For Loops and Lists"
   ]
  },
  {
   "cell_type": "markdown",
   "metadata": {},
   "source": [
    "Note: I am happy for you to construct one or more of the requested lists without a for loop, if you can come up with a way to do so."
   ]
  },
  {
   "cell_type": "markdown",
   "metadata": {},
   "source": [
    "<b>2a.</b> Write a <b>for loop</b> that loops over each of the words in list 'l1' and prints any word that contains the letter 'a'."
   ]
  },
  {
   "cell_type": "code",
   "execution_count": null,
   "metadata": {},
   "outputs": [],
   "source": [
    "l1 = ['aaa', 'aba', 'bb', 'cd', 'ea', 'ff', 'ga', 'mzm', 'tai']"
   ]
  },
  {
   "cell_type": "code",
   "execution_count": null,
   "metadata": {},
   "outputs": [],
   "source": [
    "for w in l1:\n",
    "    if 'a' in w:\n",
    "        print(w)"
   ]
  },
  {
   "cell_type": "code",
   "execution_count": null,
   "metadata": {},
   "outputs": [],
   "source": [
    "print([w  for w in l1  if 'a' in w])     # List comprehension alternative"
   ]
  },
  {
   "cell_type": "markdown",
   "metadata": {},
   "source": [
    "<b>2b.</b> Write a <b>for loop</b> that loops over each of the words in list 'l1' and prints any word if the second letter is 'a'."
   ]
  },
  {
   "cell_type": "code",
   "execution_count": null,
   "metadata": {},
   "outputs": [],
   "source": [
    "for w in l1:\n",
    "    if 'a' in w[1]:\n",
    "        print(w)"
   ]
  },
  {
   "cell_type": "code",
   "execution_count": null,
   "metadata": {},
   "outputs": [],
   "source": [
    "print([w  for w in l1  if 'a' in w[1]])   # List comprehension alternative"
   ]
  },
  {
   "cell_type": "markdown",
   "metadata": {},
   "source": [
    "<b>2c.</b> Write a <b>for loop</b> that splits list 'l2' into two new lists, one containing words that begin with lowercase numbers, and another containing words that begin with uppercase letters."
   ]
  },
  {
   "cell_type": "code",
   "execution_count": null,
   "metadata": {},
   "outputs": [],
   "source": [
    "l2 = ['Ann', 'grapefruit', 'Bob', 'kiwi', 'Carol', 'grape', 'David', 'Ortiz', 'Red Sox']"
   ]
  },
  {
   "cell_type": "code",
   "execution_count": null,
   "metadata": {},
   "outputs": [],
   "source": [
    "new_l = []\n",
    "new_u = []\n",
    "for w in l2:\n",
    "    if   w[0].isupper():\n",
    "        new_u.append(w)\n",
    "    elif w[0].islower():\n",
    "        new_l.append(w)\n",
    "    else:\n",
    "        pass\n",
    "print(\"new_lower:\", new_l)\n",
    "print(\"new_upper:\", new_u)"
   ]
  },
  {
   "cell_type": "code",
   "execution_count": null,
   "metadata": {},
   "outputs": [],
   "source": [
    "new_l = [w for w in l2 if w[0].islower()]    # List comprehension alternative\n",
    "new_u = [w for w in l2 if w[0].isupper()]    # List comprehension alternative\n",
    "print(\"new_lower:\", new_l)\n",
    "print(\"new_upper:\", new_u)"
   ]
  },
  {
   "cell_type": "markdown",
   "metadata": {},
   "source": [
    "<b>2d.</b> Write a <b>for loop</b> that loops over the words in string 'l2'. The output should be a new list named 'l2' that replaced each vowel in each string with an astrix."
   ]
  },
  {
   "cell_type": "code",
   "execution_count": null,
   "metadata": {},
   "outputs": [],
   "source": [
    "l2 = ['Ann', 'grapefruit', 'Bob', 'kiwi', 'Carol', 'grape', 'David', 'Ortiz', 'Red Sox']"
   ]
  },
  {
   "cell_type": "code",
   "execution_count": null,
   "metadata": {},
   "outputs": [],
   "source": [
    "new_l = []\n",
    "for word in l2:\n",
    "    new_w = ''\n",
    "    for letter in word:\n",
    "        if letter in ['A','a','E','e','I','i','O','o','U','u']:\n",
    "            new_w = new_w + '*'\n",
    "        else:\n",
    "            new_w = new_w + letter\n",
    "    new_l.append(new_w)\n",
    "l2 = new_l[:]\n",
    "print(l2)"
   ]
  },
  {
   "cell_type": "code",
   "execution_count": null,
   "metadata": {},
   "outputs": [],
   "source": [
    "# more compact version submitted by a student\n",
    "vowels = 'aeiou'\n",
    "newlist = []\n",
    "for word in l2:\n",
    "    for char in word:\n",
    "        if char.lower() in vowels:\n",
    "            word = word.replace(char, '*')\n",
    "    newlist.append(word)\n",
    "l2 = newlist\n",
    "print(l2)"
   ]
  },
  {
   "cell_type": "code",
   "execution_count": null,
   "metadata": {},
   "outputs": [],
   "source": [
    "# This code performs the search and replace without using any loops\n",
    "# It uses join() to create a single string, lots of replace() commands, \n",
    "# and split to create a new list\n",
    "\n",
    "l2 = ['Ann', 'grapefruit', 'Bob', 'kiwi', 'Carol', 'grape', 'David', 'Ortiz', 'Red Sox']\n",
    "l3 = '|'.join(l2)\n",
    "l3 = l3.replace('A', '*')\n",
    "l3 = l3.replace('a', '*')\n",
    "l3 = l3.replace('E', '*')\n",
    "l3 = l3.replace('e', '*')\n",
    "l3 = l3.replace('I', '*')\n",
    "l3 = l3.replace('i', '*')\n",
    "l3 = l3.replace('O', '*')\n",
    "l3 = l3.replace('o', '*')\n",
    "l3 = l3.replace('U', '*')\n",
    "l3 = l3.replace('u', '*')\n",
    "l2 = l3.split('|')\n",
    "print(l2)"
   ]
  },
  {
   "cell_type": "code",
   "execution_count": null,
   "metadata": {},
   "outputs": [],
   "source": [
    "# This code creates a string, loops over the characters in the string (as in HW2) to build a new string,\n",
    "# and splits the new string back into a list\n",
    "\n",
    "l2 = ['Ann', 'grapefruit', 'Bob', 'kiwi', 'Carol', 'grape', 'David', 'Ortiz', 'Red Sox']\n",
    "l3 = '|'.join(l2)\n",
    "new_s = ''\n",
    "for letter in l3:\n",
    "    if letter in ['A','a','E','e','I','i','O','o','U','u']:\n",
    "        new_s = new_s + '*'\n",
    "    else:\n",
    "        new_s = new_s + letter    \n",
    "l2 = new_s.split('|')\n",
    "print(l2)"
   ]
  },
  {
   "cell_type": "markdown",
   "metadata": {},
   "source": [
    "### 3. Simple Functions -- List Version\n",
    "\n",
    "Below, I ask you to write four functions. Each function processes a list in a different way. The <b>test</b> function which appears in the cell below is used to test your functions, by comparing the strings that your functions create to the strings that I expect them to create."
   ]
  },
  {
   "cell_type": "code",
   "execution_count": 4,
   "metadata": {},
   "outputs": [],
   "source": [
    "def test(got, expected):\n",
    "    if got == expected:\n",
    "        prefix = ' OK '\n",
    "    else:\n",
    "        prefix = '  X '\n",
    "    print(\"{} returned: {} expected: {}\".format(prefix, repr(got), repr(expected)))"
   ]
  },
  {
   "cell_type": "markdown",
   "metadata": {},
   "source": [
    "<b>3a.</b> Define the function <b>match_ends(<i>words</i>)</b>. Given a list of strings, return the count of the number of strings where the string length is 2 or more and the first and last chars of the string are the same.\n",
    "\n",
    "Hint: Python does not have a ++ operator, but 'count += 1' can be used to increase a counter by 1."
   ]
  },
  {
   "cell_type": "code",
   "execution_count": null,
   "metadata": {},
   "outputs": [],
   "source": [
    "def match_ends(words):\n",
    "    count = 0\n",
    "    for s in words:\n",
    "        if len(s)>=2 and s[0]==s[-1]:\n",
    "            count += 1\n",
    "        else:\n",
    "            count = count  \n",
    "    return count"
   ]
  },
  {
   "cell_type": "code",
   "execution_count": null,
   "metadata": {},
   "outputs": [],
   "source": [
    "test(match_ends(['aba', 'xyz', 'aa', 'x', 'bbb']), 3)\n",
    "test(match_ends(['', 'x', 'xy', 'xyx', 'xx']), 2)\n",
    "test(match_ends(['aaa', 'be', 'abc', 'hello']), 1)"
   ]
  },
  {
   "cell_type": "markdown",
   "metadata": {},
   "source": [
    "<b>3b.</b> Define the function <b>front_x(<i>words</i>)</b>. Given a list of strings, return a list with the strings in sorted order, except group all the strings that begin with 'x' first. e.g. ['mix', 'xyz', 'apple', 'xanadu', 'aardvark'] yields ['xanadu', 'xyz', 'aardvark', 'apple', 'mix']\n",
    "\n",
    "Hint: this can be done by making 2 lists and sorting each of them before combining them."
   ]
  },
  {
   "cell_type": "code",
   "execution_count": null,
   "metadata": {},
   "outputs": [],
   "source": [
    "def front_x(words):\n",
    "    x_list = []\n",
    "    o_list = []\n",
    "    for s in words:\n",
    "        if s[0]=='x':\n",
    "            x_list.append(s)\n",
    "        else:\n",
    "            o_list.append(s)\n",
    "    return sorted(x_list) + sorted(o_list)"
   ]
  },
  {
   "cell_type": "code",
   "execution_count": null,
   "metadata": {},
   "outputs": [],
   "source": [
    "test(front_x(['bbb', 'ccc', 'axx', 'xzz', 'xaa']), ['xaa', 'xzz', 'axx', 'bbb', 'ccc'])\n",
    "test(front_x(['ccc', 'bbb', 'aaa', 'xcc', 'xaa']), ['xaa', 'xcc', 'aaa', 'bbb', 'ccc'])\n",
    "test(front_x(['mix', 'xyz', 'apple', 'xanadu', 'aardvark']), ['xanadu', 'xyz', 'aardvark', 'apple', 'mix'])"
   ]
  },
  {
   "cell_type": "markdown",
   "metadata": {},
   "source": [
    "<b>3c.</b> Define the function <b>remove_dup(<i>nums</i>)</b>. Given a list of numbers (that may or may not have already been sorted), return a list where all duplicate == elements have been reduced to a single element, so [1, 2, 2, 3, 3] returns [1, 2, 3]. You may create a new list or modify the passed in list 'numbers'.\n",
    "\n",
    "TO KEEP THINGS INTERESTING, PLEASE DO NOT USE THE SET() FUNCTION."
   ]
  },
  {
   "cell_type": "code",
   "execution_count": null,
   "metadata": {},
   "outputs": [],
   "source": [
    "def remove_dup(nums):\n",
    "    new_list = []\n",
    "    old_list = nums\n",
    "    for i in range(len(old_list)):\n",
    "        if old_list[i] not in new_list:     # only adds elements not already in new_list\n",
    "            new_list.append(old_list[i])\n",
    "    return sorted(new_list)                 # sorting is necessary to pass the 3rd test"
   ]
  },
  {
   "cell_type": "code",
   "execution_count": null,
   "metadata": {},
   "outputs": [],
   "source": [
    "test(remove_dup([1, 2, 2, 3, 3]), [1, 2, 3])\n",
    "test(remove_dup([2, 2, 3, 3, 3]), [2, 3])\n",
    "test(remove_dup([5, 2, 5, 3, 3]), [2, 3, 5])\n",
    "test(remove_dup([]), [])"
   ]
  },
  {
   "cell_type": "markdown",
   "metadata": {},
   "source": [
    "<b>3d.</b> Define the function <b>snoopify(<i>str</i>)</b>. Given a string, return another string where the letters after the <b>last</b> vowel (including the vowel itself) have been replaced with \"izzle.\" If the string does not contain any vowels, return ''."
   ]
  },
  {
   "cell_type": "code",
   "execution_count": 5,
   "metadata": {},
   "outputs": [],
   "source": [
    "def snoopify(s):\n",
    "    index  = -1\n",
    "    vowels = 'aeiou'\n",
    "    for num in range(len(s)):\n",
    "        if s[num] in vowels:\n",
    "            index = num        # at the end of this loop, index will contain last element number with vowel\n",
    "    if index != -1:\n",
    "        return(s[:index]+'izzle')\n",
    "    else:\n",
    "        print(\"That's not a word!\")\n",
    "        return ''"
   ]
  },
  {
   "cell_type": "code",
   "execution_count": 8,
   "metadata": {},
   "outputs": [],
   "source": [
    "def snoopify(s):\n",
    "    vowels = 'aeiou'\n",
    "    for num in range(len(s)-1,-1,-1):     # loops over characters in reverse order\n",
    "        if s[num] in vowels:\n",
    "            return(s[:num]+'izzle')\n",
    "    print(\"That's not a word!\")           # only reach this print statement if string contained no vowels\n",
    "    return ''"
   ]
  },
  {
   "cell_type": "code",
   "execution_count": 9,
   "metadata": {},
   "outputs": [
    {
     "name": "stdout",
     "output_type": "stream",
     "text": [
      " OK  returned: 'presidizzle' expected: 'presidizzle'\n",
      " OK  returned: 'applizzle' expected: 'applizzle'\n",
      "That's not a word!\n",
      " OK  returned: '' expected: ''\n"
     ]
    }
   ],
   "source": [
    "test(snoopify('president'), 'presidizzle')\n",
    "test(snoopify('apple'), 'applizzle')\n",
    "test(snoopify('2468'), '')"
   ]
  },
  {
   "cell_type": "code",
   "execution_count": null,
   "metadata": {},
   "outputs": [],
   "source": []
  }
 ],
 "metadata": {
  "kernelspec": {
   "display_name": "Python 3",
   "language": "python",
   "name": "python3"
  },
  "language_info": {
   "codemirror_mode": {
    "name": "ipython",
    "version": 3
   },
   "file_extension": ".py",
   "mimetype": "text/x-python",
   "name": "python",
   "nbconvert_exporter": "python",
   "pygments_lexer": "ipython3",
   "version": "3.7.3"
  }
 },
 "nbformat": 4,
 "nbformat_minor": 2
}
