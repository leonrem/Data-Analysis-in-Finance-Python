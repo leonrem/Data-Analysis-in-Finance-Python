{
 "cells": [
  {
   "cell_type": "markdown",
   "metadata": {},
   "source": [
    "# Practice Problem Solutions Related to String Functions (1.1b)"
   ]
  },
  {
   "cell_type": "markdown",
   "metadata": {},
   "source": [
    "All of the questions below ask you to write functions that process string variables. Each function processes a string variable in a different way. The <b>test</b> function which appears in the cell below is used to test your functions, by comparing the strings that your functions return to the strings that I expect them to return.\n",
    "\n",
    "Note #1: Functions were taken from <i>string1.py</i> and <i>string2.py</i> of Google's Pyquick course.<br>\n",
    "Note #2: repr() is a function that converts both the function output and the expected output into strings, which can then be compared.<br>\n",
    "<b>Note #3: You cannot run the test function until you have created your function!</b>"
   ]
  },
  {
   "cell_type": "code",
   "execution_count": 1,
   "metadata": {},
   "outputs": [],
   "source": [
    "def test(got, expected):\n",
    "    if got == expected:\n",
    "        prefix = ' OK '\n",
    "    else:\n",
    "        prefix = '  X '\n",
    "    print(\"{} returned: {} expected: {}\".format(prefix, repr(got), repr(expected)))"
   ]
  },
  {
   "cell_type": "markdown",
   "metadata": {},
   "source": [
    "## <b>Question 5b.</b> \n",
    "\n",
    "Define the function <b>num_check(<i>s</i>)</b>. It returns 1 when string 's' contains at least one digit and returns 0 otherwise."
   ]
  },
  {
   "cell_type": "code",
   "execution_count": 2,
   "metadata": {},
   "outputs": [],
   "source": [
    "# The long way...\n",
    "def num_check(s):\n",
    "    if '1' in s:\n",
    "        return 1\n",
    "    if '2' in s:\n",
    "        return 1\n",
    "    if '3' in s:\n",
    "        return 1\n",
    "    if '4' in s:\n",
    "        return 1\n",
    "    if '5' in s:\n",
    "        return 1\n",
    "    if '6' in s:\n",
    "        return 1\n",
    "    if '7' in s:\n",
    "        return 1\n",
    "    if '8' in s:\n",
    "        return 1\n",
    "    if '9' in s:\n",
    "        return 1\n",
    "    if '0' in s:\n",
    "        return 1\n",
    "    return 0"
   ]
  },
  {
   "cell_type": "code",
   "execution_count": 3,
   "metadata": {},
   "outputs": [],
   "source": [
    "# A shorter way... that can be modified to count the number of digits\n",
    "def num_check(s):\n",
    "    new = 0\n",
    "    for element in s:\n",
    "        if element.isdigit():\n",
    "            new = 1          # If you changed this to new = new + 1, then new would count the number of digits\n",
    "    return new"
   ]
  },
  {
   "cell_type": "code",
   "execution_count": 4,
   "metadata": {},
   "outputs": [],
   "source": [
    "# Another short way... that uses try-except\n",
    "def num_check(s):\n",
    "    for letter in s: \n",
    "        try:\n",
    "            float(letter)\n",
    "            return 1\n",
    "        except ValueError:\n",
    "            continue\n",
    "    return 0"
   ]
  },
  {
   "cell_type": "code",
   "execution_count": 5,
   "metadata": {},
   "outputs": [],
   "source": [
    "# Another way... that compares the number of letters to the length of the string\n",
    "def num_check(s):\n",
    "    letterCount = 0\n",
    "    length = len(s)\n",
    "    for element in s:\n",
    "        try:\n",
    "            int(element)\n",
    "        except (ValueError):\n",
    "            letterCount += 1\n",
    "    if letterCount == length:\n",
    "        return 0\n",
    "    else:\n",
    "        return 1"
   ]
  },
  {
   "cell_type": "code",
   "execution_count": 6,
   "metadata": {},
   "outputs": [
    {
     "name": "stdout",
     "output_type": "stream",
     "text": [
      " OK  returned: 0 expected: 0\n",
      " OK  returned: 1 expected: 1\n",
      " OK  returned: 0 expected: 0\n",
      " OK  returned: 1 expected: 1\n",
      " OK  returned: 0 expected: 0\n",
      " OK  returned: 1 expected: 1\n",
      " OK  returned: 0 expected: 0\n"
     ]
    }
   ],
   "source": [
    "test(num_check('Roy G Biv'), 0)\n",
    "test(num_check('L8ter'), 1)\n",
    "test(num_check('Douglas Adams'), 0)\n",
    "test(num_check('1 million dollars'), 1)\n",
    "test(num_check('@#$@! abc'), 0)\n",
    "test(num_check('123'), 1)\n",
    "test(num_check(''), 0)"
   ]
  },
  {
   "cell_type": "markdown",
   "metadata": {},
   "source": [
    "## <b>Question 5c.</b> \n",
    "\n",
    "Define the function <b>switch(<i>s</i>)</b>. Given string 's', it that returns a new string, where all uppercase letters in the original string 's' have been switched to lowercase and all lowercase letters have been switched to uppercase."
   ]
  },
  {
   "cell_type": "code",
   "execution_count": 7,
   "metadata": {},
   "outputs": [],
   "source": [
    "# The standard way...\n",
    "def switch(s):\n",
    "    new = ''\n",
    "    for element in s:\n",
    "        if element==element.lower():\n",
    "            new = new + element.upper()\n",
    "        else:\n",
    "            new = new + element.lower()\n",
    "    return new"
   ]
  },
  {
   "cell_type": "code",
   "execution_count": 8,
   "metadata": {},
   "outputs": [],
   "source": [
    "# Another way, making use of .islower() and .isupper()\n",
    "def switch(s):\n",
    "    string = '' \n",
    "    for element in s:\n",
    "        if element.islower():\n",
    "            string = string + element.upper()\n",
    "        elif element.isupper():\n",
    "            string = string + element.lower()\n",
    "        else:\n",
    "            string = string + element\n",
    "    return string"
   ]
  },
  {
   "cell_type": "code",
   "execution_count": 9,
   "metadata": {},
   "outputs": [],
   "source": [
    "# The much-shorter-than-I-had-intended way...\n",
    "def switch(s):\n",
    "    return s.swapcase()"
   ]
  },
  {
   "cell_type": "code",
   "execution_count": 10,
   "metadata": {},
   "outputs": [
    {
     "name": "stdout",
     "output_type": "stream",
     "text": [
      " OK  returned: 'A-Za-z' expected: 'A-Za-z'\n",
      " OK  returned: 'Douglas Adams' expected: 'Douglas Adams'\n",
      " OK  returned: 'i LoVe listening TO nIRvAna!!' expected: 'i LoVe listening TO nIRvAna!!'\n"
     ]
    }
   ],
   "source": [
    "test(switch('a-zA-Z'), 'A-Za-z')\n",
    "test(switch('dOUGLAS aDAMS'), 'Douglas Adams')\n",
    "test(switch('I lOvE LISTENING to NirVaNA!!'), 'i LoVe listening TO nIRvAna!!')"
   ]
  },
  {
   "cell_type": "markdown",
   "metadata": {},
   "source": [
    "## <b>Question 5d.</b> \n",
    "\n",
    "Define the function <b>verbing(<i>s</i>)</b>. Given a string 's', if its length is at least 3, add 'ing' to the end. Unless it already ends in 'ing', in which case add 'ly' instead. If the string length is less than 3, leave it unchanged. Return the resulting string."
   ]
  },
  {
   "cell_type": "code",
   "execution_count": 11,
   "metadata": {},
   "outputs": [],
   "source": [
    "def verbing(s):\n",
    "    if len(s) < 3:\n",
    "        return s\n",
    "    else:\n",
    "        if s[-3:] == \"ing\":\n",
    "            return s+'ly'\n",
    "        else:\n",
    "            return s+'ing'"
   ]
  },
  {
   "cell_type": "code",
   "execution_count": 12,
   "metadata": {},
   "outputs": [
    {
     "name": "stdout",
     "output_type": "stream",
     "text": [
      " OK  returned: 'hailing' expected: 'hailing'\n",
      " OK  returned: 'swimingly' expected: 'swimingly'\n",
      " OK  returned: 'do' expected: 'do'\n",
      " OK  returned: 'codingly' expected: 'codingly'\n"
     ]
    }
   ],
   "source": [
    "test(verbing('hail'), 'hailing')\n",
    "test(verbing('swiming'), 'swimingly')\n",
    "test(verbing('do'), 'do')\n",
    "test(verbing('coding'), 'codingly')"
   ]
  },
  {
   "cell_type": "markdown",
   "metadata": {},
   "source": [
    "## <b>Question 5e. (Most Difficult)</b> \n",
    "\n",
    "Define the function <b>not_bad(<i>s</i>)</b>. Given a string, find the first appearance of the substrings 'not' and 'bad'. If the 'bad' follows the 'not', replace the whole 'not'...'bad' substring with 'good'. Return the resulting string. So 'This dinner is not all that bad!' yields: 'This dinner is good!'"
   ]
  },
  {
   "cell_type": "code",
   "execution_count": 13,
   "metadata": {},
   "outputs": [],
   "source": [
    "# My approach makes use of .find()\n",
    "def not_bad(s):\n",
    "    beg = s.find('not')\n",
    "    end = s.find('bad')\n",
    "    if beg>=0 and end> 0 and beg<end:      # I added some additional conditions after class was over\n",
    "        f = s[0:beg] + 'good' + s[end+3:]\n",
    "    else:\n",
    "        f = s\n",
    "    return f"
   ]
  },
  {
   "cell_type": "code",
   "execution_count": 14,
   "metadata": {},
   "outputs": [],
   "source": [
    "# This version uses find and replace\n",
    "def not_bad(s):\n",
    "    snot= s.find(\"not\")\n",
    "    sbad= s.find(\"bad\")\n",
    "    if sbad > snot:\n",
    "        s = s.replace(s[snot:(sbad+3)],\"good\")\n",
    "    return s "
   ]
  },
  {
   "cell_type": "code",
   "execution_count": 15,
   "metadata": {},
   "outputs": [],
   "source": [
    "# A more complicated way of getting the same result without .find()\n",
    "def not_bad(s):\n",
    "    new=\"\"\n",
    "    for index in range(len(s)):\n",
    "        if s[index:index+3]==\"not\":\n",
    "            for otherIndex in range(index+3,len(s)):\n",
    "                if s[otherIndex:otherIndex+3]==\"bad\":\n",
    "                    new=s[:index]+\"good\"+s[otherIndex+3:]\n",
    "    if new == \"\":\n",
    "        new=s   \n",
    "    return new"
   ]
  },
  {
   "cell_type": "code",
   "execution_count": 16,
   "metadata": {},
   "outputs": [
    {
     "name": "stdout",
     "output_type": "stream",
     "text": [
      " OK  returned: 'This movie is good' expected: 'This movie is good'\n",
      " OK  returned: 'This dinner is good!' expected: 'This dinner is good!'\n",
      " OK  returned: 'This tea is not hot' expected: 'This tea is not hot'\n",
      " OK  returned: \"It's bad yet not\" expected: \"It's bad yet not\"\n",
      " OK  returned: \"It's good, my friend\" expected: \"It's good, my friend\"\n",
      " OK  returned: 'good' expected: 'good'\n"
     ]
    }
   ],
   "source": [
    "test(not_bad('This movie is not so bad'), 'This movie is good')\n",
    "test(not_bad('This dinner is not all that bad!'), 'This dinner is good!')\n",
    "test(not_bad('This tea is not hot'), 'This tea is not hot')\n",
    "test(not_bad(\"It's bad yet not\"), \"It's bad yet not\")\n",
    "test(not_bad(\"It's not all that bad, my friend\"), \"It's good, my friend\")\n",
    "test(not_bad(\"not bad\"), \"good\")"
   ]
  },
  {
   "cell_type": "code",
   "execution_count": null,
   "metadata": {},
   "outputs": [],
   "source": []
  }
 ],
 "metadata": {
  "kernelspec": {
   "display_name": "Python 3",
   "language": "python",
   "name": "python3"
  },
  "language_info": {
   "codemirror_mode": {
    "name": "ipython",
    "version": 3
   },
   "file_extension": ".py",
   "mimetype": "text/x-python",
   "name": "python",
   "nbconvert_exporter": "python",
   "pygments_lexer": "ipython3",
   "version": "3.7.3"
  }
 },
 "nbformat": 4,
 "nbformat_minor": 4
}
