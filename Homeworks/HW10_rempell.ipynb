{
 "cells": [
  {
   "cell_type": "markdown",
   "metadata": {},
   "source": [
    "# HW10\n",
    "\n",
    "Each of these questions is related to material in Topics 2.2 and 2.3."
   ]
  },
  {
   "cell_type": "code",
   "execution_count": 1,
   "metadata": {},
   "outputs": [
    {
     "name": "stdout",
     "output_type": "stream",
     "text": [
      "HW9 submission for Leonid (rempell)\n"
     ]
    }
   ],
   "source": [
    "name = \"Leonid\"              # Enter your name\n",
    "user = \"rempell\"              # Enter your BC username\n",
    "print(\"HW9 submission for {} ({})\".format(name,user))"
   ]
  },
  {
   "cell_type": "markdown",
   "metadata": {},
   "source": [
    "Please rename the file so that it includes your BC username. For example, I would change <b>HW10</b> to <b>HW10-reuterj</b> and upload <b>HW10-reuterj.ipynb</b> to Canvas."
   ]
  },
  {
   "cell_type": "code",
   "execution_count": 2,
   "metadata": {},
   "outputs": [],
   "source": [
    "import numpy as np"
   ]
  },
  {
   "cell_type": "markdown",
   "metadata": {},
   "source": [
    "<b>(5 points) 1.</b> Peter Lynch is one of the most famous mutual fund managers of all time. As Professor Alan Marcus writes in \"Magellan Fund.pdf\" (which is available for download in the assignment page for HW10), Mr. Lynch's Fidelity Magellan Fund outperformed the S&P 500 index in 11 of 13 years through 1989. If we choose a fund manager at random today and ask whether he or she is likely to outperform the S&P 500 in 11 of the next 13 years, and we assume that the probability of outperforming net of fees is 50 percent, then the probability of this record is 0.95\\%. (The probability rises to 1.12\\% if we allow for track records that include 12 or 13 years of outperformance.)\n",
    "\n",
    "However, if we assume that 100 mutual fund managers are competing to outperform the S&P 500 index, <i>and we focus our attention on the fund manager with the best record after 13 years</i>, then a track record like Peter Lynch's becomes considerably more likely even when financial markets are efficient. Professor Marcus used a simulation with 10000 iterations to estimate that, when there are 100 fund managers, the probability that the best-performing manager outperforms 10 times is 31.9%, the probability that the best-performing manager outperforms 11 times is 51.3%, etc.\n",
    "\n",
    "Use your own simulation with 10000 (or more) iterations to replicate the fractions (and average number of winning years) in one of the four columns in Professor Marcus' table. Please format percentages so that 51.3 percent appears as 51.3% (instead of 0.513). You are welcome to simulate a world with 50, 100, 250, or 500 managers, but please clearly state the number of managers and the number of iterations when printing the results of your simulation. "
   ]
  },
  {
   "cell_type": "code",
   "execution_count": 3,
   "metadata": {},
   "outputs": [
    {
     "name": "stdout",
     "output_type": "stream",
     "text": [
      "11 exactly:   0.95%\n",
      "11 or more:   1.12%\n"
     ]
    }
   ],
   "source": [
    "# Bonus code estimating the first two probabilities referenced above:\n",
    "\n",
    "wins = np.random.binomial(13,0.5,(10000000))\n",
    "print(\"11 exactly: {:6.2f}%\".format(np.mean(100*np.where(wins==11,1,0))))\n",
    "print(\"11 or more: {:6.2f}%\".format(np.mean(100*np.where(wins>=11,1,0))))"
   ]
  },
  {
   "cell_type": "code",
   "execution_count": 4,
   "metadata": {},
   "outputs": [],
   "source": [
    "iterations = 100000 # should be 10000 or more\n",
    "managers = 100"
   ]
  },
  {
   "cell_type": "code",
   "execution_count": 5,
   "metadata": {},
   "outputs": [
    {
     "name": "stdout",
     "output_type": "stream",
     "text": [
      "Recreation of the 100 managers column\n",
      "\n",
      "Probability that the number of successful years is 8 of 13:\t0.00%\n",
      "Probability that the number of successful years is 9 of 13:\t0.86%\n",
      "Probability that the number of successful years is 10 of 13:\t31.19%\n",
      "Probability that the number of successful years is 11 of 13:\t52.28%\n",
      "Probability that the number of successful years is 12 of 13:\t14.42%\n",
      "Probability that the number of successful years is 13 of 13:\t1.25%\n",
      "\n",
      "Average number of winning years is: 10.84\n"
     ]
    }
   ],
   "source": [
    "max_wins = []\n",
    "for i in range(iterations):\n",
    "    x = np.random.binomial(13,0.5,managers)\n",
    "    max_wins.append(np.amax(x))\n",
    "\n",
    "print('Recreation of the 100 managers column\\n')\n",
    "print('Probability that the number of successful years is 8 of 13:\\t{:.2f}%'.format(100*max_wins.count(8)/len(max_wins)))\n",
    "print('Probability that the number of successful years is 9 of 13:\\t{:.2f}%'.format(100*max_wins.count(9)/len(max_wins)))\n",
    "print('Probability that the number of successful years is 10 of 13:\\t{:.2f}%'.format(100*max_wins.count(10)/len(max_wins)))\n",
    "print('Probability that the number of successful years is 11 of 13:\\t{:.2f}%'.format(100*max_wins.count(11)/len(max_wins)))\n",
    "print('Probability that the number of successful years is 12 of 13:\\t{:.2f}%'.format(100*max_wins.count(12)/len(max_wins)))\n",
    "print('Probability that the number of successful years is 13 of 13:\\t{:.2f}%'.format(100*max_wins.count(13)/len(max_wins)))\n",
    "print('\\nAverage number of winning years is: {:.2f}'.format((sum(max_wins)/len(max_wins))))"
   ]
  },
  {
   "cell_type": "markdown",
   "metadata": {},
   "source": [
    "<b>(5 points) 2.</b> You are managing a \\\\$20 million portfolio and have decided to allocate \\\\$1 million (5 percent) to each of 20 stocks chosen at random. \n",
    "\n",
    "- Assume that each stock return is distributed <b>np.random.normal(0.10,0.20)</b> and that stock returns are independent of each other within each calendar year (so that you do not need to use np.random.multivariate_normal()). Replace any annual return that is less than -100\\% with -100\\%.\n",
    "- <b>If you are in the noon section, your investment horizon is 10 years. If you are in the 3:00 pm section, your investment horizon is 30 years. If you are in the 4:30 pm section, your investment horizon is 50 years.</b>\n",
    "- Unless each stock has the same realized 10-year (or 25-year or 50-year) return (which is astonishingly unlikely), you will end up allocating more than 5 percent of your portfolio value to some stocks and less than 5 percent to others. \n",
    "- Use a simulation (with at least 10000 iterations) to determine the fraction of your portfolio that is allocated to the stock with the highest realized 10-year (or 25-year or 50-year) return. \n",
    "- Store each fraction in a list or array (one fraction per iteration). \n",
    "- Calculate and print the mean fraction allocated to the best performing stock, the standard deviation of the fraction allocated to the best performing, and percentiles 0, 10, through, 90, and 100 of the fraction allocated to the best performing stock. <b>Please format so that a best performing market share of 15 percent appears as 15.00\\%.</b>"
   ]
  },
  {
   "cell_type": "code",
   "execution_count": 6,
   "metadata": {},
   "outputs": [],
   "source": [
    "iterations = 10000     # should be 10000 or more\n",
    "horizon = 10        # should be 10, 30, or 50 depending on your section"
   ]
  },
  {
   "cell_type": "code",
   "execution_count": 7,
   "metadata": {},
   "outputs": [],
   "source": [
    "def stock_r():\n",
    "    stocks = np.random.normal(.1,.2,20)\n",
    "    stocks[stocks<-1] = -1\n",
    "    return stocks"
   ]
  },
  {
   "cell_type": "code",
   "execution_count": 10,
   "metadata": {},
   "outputs": [
    {
     "name": "stdout",
     "output_type": "stream",
     "text": [
      "The mean fraction allocated to the best performing stock is: 12.67%\n",
      "The standard deviation of the fraction allocated to the best performing stock is: 2.98%\n",
      "\n",
      "The 0th percentile fraction allocated to the best performing stock is: 7.02%\n",
      "The 10th percentile fraction allocated to the best performing stock is: 9.51%\n",
      "The 20th percentile fraction allocated to the best performing stock is: 10.24%\n",
      "The 30th percentile fraction allocated to the best performing stock is: 10.86%\n",
      "The 40th percentile fraction allocated to the best performing stock is: 11.46%\n",
      "The 50th percentile fraction allocated to the best performing stock is: 12.06%\n",
      "The 60th percentile fraction allocated to the best performing stock is: 12.78%\n",
      "The 70th percentile fraction allocated to the best performing stock is: 13.60%\n",
      "The 80th percentile fraction allocated to the best performing stock is: 14.71%\n",
      "The 90th percentile fraction allocated to the best performing stock is: 16.55%\n",
      "The 100th percentile fraction allocated to the best performing stock is: 33.00%\n"
     ]
    }
   ],
   "source": [
    "strt = 1\n",
    "allocation = 1000000\n",
    "end_folio=[]\n",
    "\n",
    "for j in range(iterations):\n",
    "    strt = 1\n",
    "    for i in range(horizon):\n",
    "        strt = strt*(1+stock_r())\n",
    "    end_folio.append(strt/np.sum(strt))\n",
    "sim = np.array(end_folio)\n",
    "best = np.amax(sim, axis=1)\n",
    "\n",
    "print('The mean fraction allocated to the best performing stock is: {:.2f}%'.format(100*np.mean(best)))\n",
    "print('The standard deviation of the fraction allocated to the best performing stock is: {:.2f}%\\n'.format(100*np.std(best)))\n",
    "\n",
    "for x in range(0,101,10):\n",
    "    print('The '+ str(x) +'th percentile fraction allocated to the best performing stock is: {:.2f}%'.format(100*np.percentile(best,x)))"
   ]
  },
  {
   "cell_type": "code",
   "execution_count": null,
   "metadata": {},
   "outputs": [],
   "source": []
  }
 ],
 "metadata": {
  "kernelspec": {
   "display_name": "Python 3",
   "language": "python",
   "name": "python3"
  },
  "language_info": {
   "codemirror_mode": {
    "name": "ipython",
    "version": 3
   },
   "file_extension": ".py",
   "mimetype": "text/x-python",
   "name": "python",
   "nbconvert_exporter": "python",
   "pygments_lexer": "ipython3",
   "version": "3.7.3"
  }
 },
 "nbformat": 4,
 "nbformat_minor": 2
}
