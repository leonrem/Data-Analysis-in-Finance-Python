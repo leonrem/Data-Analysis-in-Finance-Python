{
 "cells": [
  {
   "cell_type": "markdown",
   "metadata": {},
   "source": [
    "# Practice Problem Solutions for Topic 1.3"
   ]
  },
  {
   "cell_type": "markdown",
   "metadata": {},
   "source": [
    "### <b>Question 1.</b> \n",
    "\n",
    "Calculate the FV of investing $1000 at an annual rate of return of 8.0% for 1, 2, ..., 9 years, and print nine sentences of the form:\n",
    "\n",
    "\"FV of investing \\$1000 at an annual rate of return of 8.0% for 1 years is $1080.00\"\n",
    "\n",
    "Hint: When using the .format() function, {} returns the raw value of a number. However, we can add commands which control the formatting of the number. For example, {:7.2f} returns a number that is seven characters long and that contains only two digits after the decimal."
   ]
  },
  {
   "cell_type": "code",
   "execution_count": null,
   "metadata": {},
   "outputs": [],
   "source": [
    "for num in range(1,10):\n",
    "    fv = 1000*(1.08)**num\n",
    "    print(\"FV of investing $1000 at an annual rate of return of 8.0% for {} years is ${:7.2f}\".format(num,fv))"
   ]
  },
  {
   "cell_type": "markdown",
   "metadata": {},
   "source": [
    "<b>Question 2.</b>\n",
    "\n",
    "Brain Teaser from <i>Morning Brew</i>: What three digit number is 29 times as large as its last two digits?\n",
    "\n",
    "Hint #1: If you are going to use a for loop, it should start with 100 and end with 999.\n",
    "\n",
    "Hint #2: To extract the last two digits of a number, you can convert the number into a string, take a slice, and then convert back to an integer"
   ]
  },
  {
   "cell_type": "code",
   "execution_count": null,
   "metadata": {},
   "outputs": [],
   "source": [
    "# Solution using for loop... that loops over all possible 3-digit numbers\n",
    "\n",
    "for num in range(100,1000):       # loops over numbers 100, ..., 999\n",
    "    num2 = int(str(num)[1:3])     # extracts last two digits and converts back into string\n",
    "    if num2*29 == num:            # tests whether condition is true\n",
    "        print(num, \"= 29 *\", num2)"
   ]
  },
  {
   "cell_type": "code",
   "execution_count": null,
   "metadata": {},
   "outputs": [],
   "source": [
    "# Solution using while loop... that loops over all possible 3-digit numbers\n",
    "\n",
    "num = 100\n",
    "while num < 1000:\n",
    "    num2 = int(str(num)[1:3])\n",
    "    if num2*29 == num:\n",
    "        print(num, \"= 29 *\", num2)\n",
    "        break\n",
    "    else:\n",
    "        num += 1"
   ]
  },
  {
   "cell_type": "code",
   "execution_count": null,
   "metadata": {},
   "outputs": [],
   "source": [
    "# Another solution using for loop... that loops over all possible 2-digit numbers\n",
    "\n",
    "for num in range(0,100,1):\n",
    "    num2 = num*29\n",
    "    if  str(num2)[1:] == str(num):\n",
    "        print(num2, \"= 29 *\", num)"
   ]
  },
  {
   "cell_type": "markdown",
   "metadata": {},
   "source": [
    "<b>Question 3.</b>\n",
    "\n",
    "Use the modulo function (x%y) to determine how many numbers between 1 and 1 million are divisible by 2, 3, and 5 (e.g., 300 qualifies because it is divisible by 2, 3, and 5 but 302 does not qualify because it is not divisible by 3). \n",
    "\n",
    "Hint: If x%5==0, the number x is divisible by 5 "
   ]
  },
  {
   "cell_type": "code",
   "execution_count": null,
   "metadata": {},
   "outputs": [],
   "source": [
    "# This code uses a for loop and a counter\n",
    "count = 0\n",
    "for num in range(1,1000001):\n",
    "    if num%2==0 and num%3==0 and num%5==0:\n",
    "        count += 1\n",
    "print(count)"
   ]
  },
  {
   "cell_type": "code",
   "execution_count": null,
   "metadata": {},
   "outputs": [],
   "source": [
    "# This code creates a list of numbers that are divisible by 2, 3, and 5 and then calculates its length\n",
    "new = []\n",
    "for num in range(1,1000001):\n",
    "    if num%2==0 and num%3==0 and num%5==0:\n",
    "        new.append(num)\n",
    "print(len(new))"
   ]
  },
  {
   "cell_type": "code",
   "execution_count": null,
   "metadata": {},
   "outputs": [],
   "source": [
    "# This code also creates a list of numbers that are divisible by 2, 3, and 5 and then calculates its length\n",
    "print(len([x for x in range(1,1000001) if x%2==0 and x%3==0 and x%5==0]))"
   ]
  },
  {
   "cell_type": "code",
   "execution_count": null,
   "metadata": {},
   "outputs": [],
   "source": [
    "# Code that creates list of ones; only adds one to the list if number that is divisible by 2, 3, and 5 \n",
    "sum([1 for x in range(1,1000001) if x%2==0 and x%3==0 and x%5==0])"
   ]
  },
  {
   "cell_type": "markdown",
   "metadata": {},
   "source": [
    "<b>Question 4.</b>\n",
    "\n",
    "Write a function <b>payment(<i>pv,apr,n</i>)</b> that calculates monthly mortgage payments. The three inputs are: dollar amount being financed (PV), annual percentage rate (APR) with monthly compounding, and number of months (n). As a reminder:\n",
    "\n",
    "$$PMT = \\frac{PV}{\\left[ \\frac{1}{r} - \\frac{1}{r (1+r)^n}\\right]}$$\n",
    "\n",
    "where $r$ is the monthly interest rate (i.e., APR/12), and $n$ is the total number of months.\n",
    "\n",
    "Run the three lines of code below, to calculate payments for (200000, 6.0%, 300), (480000, 4.8%, 360), (800000, 3.6%, 240), and (1200000, 7.2%, 180). "
   ]
  },
  {
   "cell_type": "code",
   "execution_count": null,
   "metadata": {},
   "outputs": [],
   "source": [
    "def payment(PV,APR,n):\n",
    "    r = APR/12\n",
    "    af  = (1/r) - (1/(r*((1+r)**n)))\n",
    "    pmt = PV / af\n",
    "    return pmt"
   ]
  },
  {
   "cell_type": "code",
   "execution_count": null,
   "metadata": {},
   "outputs": [],
   "source": [
    "print(\"Monthly payment is {:7.2f}\".format(payment(200000,0.06,300)))"
   ]
  },
  {
   "cell_type": "code",
   "execution_count": null,
   "metadata": {},
   "outputs": [],
   "source": [
    "print(\"Monthly payment is {:7.2f}\".format(payment(480000,0.048,360)))"
   ]
  },
  {
   "cell_type": "code",
   "execution_count": null,
   "metadata": {},
   "outputs": [],
   "source": [
    "print(\"Monthly payment is {:7.2f}\".format(payment(1200000,0.072,180)))"
   ]
  },
  {
   "cell_type": "markdown",
   "metadata": {},
   "source": [
    "<b>Question 5.</b>\n",
    "\n",
    "Write a function <b>poker(<i>num_cards</i>)</b> that draws <i>num_cards</i> cards at random from a standard 52-card deck of playing cards. You're free to come up with your own abbreviations for the different suits and cards, if you would prefer."
   ]
  },
  {
   "cell_type": "code",
   "execution_count": null,
   "metadata": {},
   "outputs": [],
   "source": [
    "# Club = C, Diamond = D, Heart = H, Spade = S\n",
    "# Ace = 1, Jack = 11, Queen = 12, King = 13\n",
    "\n",
    "import random\n",
    "def poker(num_cards):\n",
    "    cards = []\n",
    "    for suit in ['C', 'D', 'H', 'S']:           # for loop creates standard deck\n",
    "        for num in range(1,14):\n",
    "            new = suit + str(num)\n",
    "            cards.append(new)\n",
    "    hand = random.sample(cards, num_cards)          # random sample of 'count' cards\n",
    "    return sorted(hand)"
   ]
  },
  {
   "cell_type": "code",
   "execution_count": null,
   "metadata": {},
   "outputs": [],
   "source": [
    "print(poker(2))"
   ]
  },
  {
   "cell_type": "code",
   "execution_count": null,
   "metadata": {},
   "outputs": [],
   "source": [
    "print(poker(5))"
   ]
  },
  {
   "cell_type": "code",
   "execution_count": null,
   "metadata": {},
   "outputs": [],
   "source": [
    "print(poker(7))"
   ]
  },
  {
   "cell_type": "markdown",
   "metadata": {},
   "source": [
    "<b>Optional Challenge Question.</b> \n",
    "\n",
    "If you would like to challenge yourself, create a version of poker that allows you to generate up to four hands with as many as seven cards per hand <i>where the same card cannot appear in multiple hands</i>. Have Python return a list containing {# hands} elements, where each element is a list containing {# cards}.  \n",
    "\n",
    "<b>Note: If you solve the Optional Challenge Question, you can skip Question 5.</b>"
   ]
  },
  {
   "cell_type": "code",
   "execution_count": null,
   "metadata": {},
   "outputs": [],
   "source": [
    "# The easiest way to do this is to create a non-sorted list containing {# hands * # cards per hand} \n",
    "# and then divide the non-sorted list into {# hands} sublists.\n",
    "\n",
    "# Club = C, Diamond = D, Heart = H, Spade = S\n",
    "# Ace = 1, Jack = 11, Queen = 12, King = 13\n",
    "\n",
    "import random\n",
    "def poker2(num_cards,num_hands):\n",
    "    if num_cards<=7 and num_hands<=4:\n",
    "        cards  = []\n",
    "        output = []\n",
    "        for suit in ['C', 'D', 'H', 'S']:                              # for loop creates standard deck\n",
    "            for num in range(1,14):\n",
    "                new = suit + str(num)\n",
    "                cards.append(new)\n",
    "        all_hands = random.sample(cards, num_cards*num_hands)          # random sample of all hands\n",
    "        for num in range(0,num_hands):\n",
    "            temp = all_hands[num*num_cards:(num_cards*num)+num_cards]  # list containing cards of a single hand\n",
    "            output = output + [sorted(temp)]                           # [temp] is a single element, containing list temp\n",
    "        return output\n",
    "    else:\n",
    "        print(\"Please set num_hands <=4 and num_cards <= 7 and try again.\")\n",
    "        return []"
   ]
  },
  {
   "cell_type": "code",
   "execution_count": null,
   "metadata": {},
   "outputs": [],
   "source": [
    "# OPTIONAL\n",
    "print(poker2(7,2))"
   ]
  },
  {
   "cell_type": "code",
   "execution_count": null,
   "metadata": {},
   "outputs": [],
   "source": [
    "# OPTIONAL\n",
    "print(poker2(5,4))"
   ]
  },
  {
   "cell_type": "code",
   "execution_count": null,
   "metadata": {},
   "outputs": [],
   "source": [
    "# OPTIONAL\n",
    "print(poker2(2,4))"
   ]
  },
  {
   "cell_type": "code",
   "execution_count": null,
   "metadata": {},
   "outputs": [],
   "source": [
    "# OPTIONAL\n",
    "print(poker2(8,5))"
   ]
  },
  {
   "cell_type": "code",
   "execution_count": null,
   "metadata": {},
   "outputs": [],
   "source": []
  },
  {
   "cell_type": "code",
   "execution_count": null,
   "metadata": {},
   "outputs": [],
   "source": []
  }
 ],
 "metadata": {
  "kernelspec": {
   "display_name": "Python 3",
   "language": "python",
   "name": "python3"
  },
  "language_info": {
   "codemirror_mode": {
    "name": "ipython",
    "version": 3
   },
   "file_extension": ".py",
   "mimetype": "text/x-python",
   "name": "python",
   "nbconvert_exporter": "python",
   "pygments_lexer": "ipython3",
   "version": "3.7.3"
  }
 },
 "nbformat": 4,
 "nbformat_minor": 2
}
