{
 "cells": [
  {
   "cell_type": "markdown",
   "metadata": {},
   "source": [
    "# Practice Problem Solutions for Topics 1.1a and 1.1b"
   ]
  },
  {
   "cell_type": "markdown",
   "metadata": {},
   "source": [
    "### 1. Variable Types and Print Statements"
   ]
  },
  {
   "cell_type": "code",
   "execution_count": 1,
   "metadata": {},
   "outputs": [],
   "source": [
    "x = 'Great Expectations'\n",
    "y = 8675309\n",
    "z = 33."
   ]
  },
  {
   "cell_type": "markdown",
   "metadata": {},
   "source": [
    "<b>1a.</b> Write two print statements. The first prints the value of 'x' on its own line. The second prints the type() of 'x' on the next line."
   ]
  },
  {
   "cell_type": "code",
   "execution_count": 2,
   "metadata": {},
   "outputs": [
    {
     "name": "stdout",
     "output_type": "stream",
     "text": [
      "Great Expectations\n",
      "<class 'str'>\n"
     ]
    }
   ],
   "source": [
    "print(x)\n",
    "print(type(x))"
   ]
  },
  {
   "cell_type": "markdown",
   "metadata": {},
   "source": [
    "<b>1b.</b> Write two more print statements. The first prints the type of 'y' on its own line. The second prints both the value of y/z and its type on the next line."
   ]
  },
  {
   "cell_type": "code",
   "execution_count": 3,
   "metadata": {},
   "outputs": [
    {
     "name": "stdout",
     "output_type": "stream",
     "text": [
      "<class 'int'>\n",
      "262888.1515151515 <class 'float'>\n"
     ]
    }
   ],
   "source": [
    "print(type(y))\n",
    "print(y/z, type(y/z))"
   ]
  },
  {
   "cell_type": "markdown",
   "metadata": {},
   "source": [
    "<b>1c.</b> Write three lines of code. The first creates new variable 'y_str' which converts 'y' into a string. The second creates 'y_float' which converts 'y_str' into a floating point number. Finally, print the value of y_float/y."
   ]
  },
  {
   "cell_type": "code",
   "execution_count": 4,
   "metadata": {},
   "outputs": [
    {
     "name": "stdout",
     "output_type": "stream",
     "text": [
      "1.0\n"
     ]
    }
   ],
   "source": [
    "y_str = str(y)\n",
    "y_float = float(y_str)\n",
    "print(y_float/y)"
   ]
  },
  {
   "cell_type": "markdown",
   "metadata": {},
   "source": [
    "<b>1d.</b>  Write code that uses 'y' and 'z' to determines (and print outs) how many digits are in \n",
    "\n",
    "new_num = $8675309^{33}$\n",
    "\n",
    "Hint: len() tells us how many characters are in a string, but this function does not work on integers or floating point numbers."
   ]
  },
  {
   "cell_type": "code",
   "execution_count": 5,
   "metadata": {},
   "outputs": [
    {
     "name": "stdout",
     "output_type": "stream",
     "text": [
      "22\n"
     ]
    }
   ],
   "source": [
    "new_num = y**z\n",
    "new_str = str(new_num)\n",
    "print(len(new_str))"
   ]
  },
  {
   "cell_type": "markdown",
   "metadata": {},
   "source": [
    "<b>(1 point) 1e.</b> Write a print statement using variables 'x' and 'z' to generate the following output, including the single quotes:\n",
    "\n",
    "Charles Dicken's 'Great Expectations' sold 33.0 million copies in one day.\n",
    "\n",
    "Hint: You will want to use print(\"<i>your text here including two {}s</i>\".format(x,z))</i>."
   ]
  },
  {
   "cell_type": "code",
   "execution_count": 6,
   "metadata": {},
   "outputs": [
    {
     "name": "stdout",
     "output_type": "stream",
     "text": [
      "Charles Dicken's 'Great Expectations' sold 33.0 million copies in one day.\n"
     ]
    }
   ],
   "source": [
    "print(\"Charles Dicken's '{}' sold {} million copies in one day.\".format(x,z))"
   ]
  },
  {
   "cell_type": "markdown",
   "metadata": {},
   "source": [
    "### 2. Slicing Strings"
   ]
  },
  {
   "cell_type": "code",
   "execution_count": 7,
   "metadata": {},
   "outputs": [],
   "source": [
    "x = 'Great Expectations'\n",
    "y = 'Crime and Punishment'"
   ]
  },
  {
   "cell_type": "markdown",
   "metadata": {},
   "source": [
    "<b>2a.</b> Write two different lines of code that slice 'x' so that you are left with: 'Expectations'? Please embed each line of code within a print statement, so that both slices are printed below the cell."
   ]
  },
  {
   "cell_type": "code",
   "execution_count": 10,
   "metadata": {},
   "outputs": [
    {
     "name": "stdout",
     "output_type": "stream",
     "text": [
      "Expectations\n",
      "Expectations\n"
     ]
    }
   ],
   "source": [
    "print(x[6:])\n",
    "print(x[-12:])"
   ]
  },
  {
   "cell_type": "markdown",
   "metadata": {},
   "source": [
    "<b>2b.</b> Write one line of code that concatenates the last character of 'x' with the last character of 'y'. Your solution should make use of len(x) and len(y). "
   ]
  },
  {
   "cell_type": "code",
   "execution_count": 11,
   "metadata": {},
   "outputs": [
    {
     "data": {
      "text/plain": [
       "'st'"
      ]
     },
     "execution_count": 11,
     "metadata": {},
     "output_type": "execute_result"
    }
   ],
   "source": [
    "x[len(x)-1:] + y[len(y)-1:]"
   ]
  },
  {
   "cell_type": "markdown",
   "metadata": {},
   "source": [
    "<b>2c.</b> Write code that slices 'x' and 'y' and uses these slices to print \"CRIME AND expectations\" (without the \"\")."
   ]
  },
  {
   "cell_type": "code",
   "execution_count": 12,
   "metadata": {},
   "outputs": [
    {
     "name": "stdout",
     "output_type": "stream",
     "text": [
      "CRIME AND expectations\n"
     ]
    }
   ],
   "source": [
    "print(y[0:9].upper(), x[6:].lower())"
   ]
  },
  {
   "cell_type": "markdown",
   "metadata": {},
   "source": [
    "### 3. Your First For Loops and If Statements"
   ]
  },
  {
   "cell_type": "code",
   "execution_count": 13,
   "metadata": {},
   "outputs": [],
   "source": [
    "str1 = 'Ilo  vePy th   on'"
   ]
  },
  {
   "cell_type": "markdown",
   "metadata": {},
   "source": [
    "<b>3a.</b> Write code that uses a for loop and print statements to print the uppercase version of each letter 'str1' but that does not print any spaces.\n",
    "\n",
    "Hint: What does the code char.isspace() return? What about the code char.isalpha()? Can you use one or both of these statements in if statements, to decide what to print?"
   ]
  },
  {
   "cell_type": "code",
   "execution_count": 14,
   "metadata": {},
   "outputs": [
    {
     "name": "stdout",
     "output_type": "stream",
     "text": [
      "I\n",
      "l\n",
      "o\n",
      "v\n",
      "e\n",
      "P\n",
      "y\n",
      "t\n",
      "h\n",
      "o\n",
      "n\n"
     ]
    }
   ],
   "source": [
    "for char in str1:\n",
    "    if not char.isspace():\n",
    "        print(char)"
   ]
  },
  {
   "cell_type": "markdown",
   "metadata": {},
   "source": [
    "<b>3b.</b> Write code that counts the number of letters and numbers in 'str2' and ends with the print statement:\n",
    "\n",
    "print(\"'str2' contains {} letters and {} numbers\".format(count_l,count_n))\n",
    "\n",
    "You are responsible for making sure that 'count_l' and 'count_n' actually contain the number of letters and numbers."
   ]
  },
  {
   "cell_type": "code",
   "execution_count": 15,
   "metadata": {},
   "outputs": [],
   "source": [
    "str2 = \"abc123def456ghi\""
   ]
  },
  {
   "cell_type": "code",
   "execution_count": 16,
   "metadata": {},
   "outputs": [
    {
     "name": "stdout",
     "output_type": "stream",
     "text": [
      "'str2' contains 9 letters and 6 numbers\n"
     ]
    }
   ],
   "source": [
    "count_l = count_n = 0\n",
    "for char in str2:\n",
    "    if char.isdigit():\n",
    "        count_n = count_n + 1\n",
    "    elif char.isalpha():\n",
    "        count_l = count_l + 1\n",
    "    else:\n",
    "        pass\n",
    "print(\"'str2' contains {} letters and {} numbers\".format(count_l,count_n))"
   ]
  },
  {
   "cell_type": "markdown",
   "metadata": {},
   "source": [
    "### 4. More For Loops"
   ]
  },
  {
   "cell_type": "markdown",
   "metadata": {},
   "source": [
    "<b>4a.</b> Consider 'str3' with element numbers 0 through N (where N = len(str3) - 1). Write code that uses a for loop and print statements to print each element number and each element number squared on its own line. For example, if len(str3) = 4, your code should print:\n",
    "\n",
    "0 0<br>\n",
    "1 1<br>\n",
    "2 4<br>\n",
    "3 9\n",
    "\n",
    "Hint: As in 1.1.12 of Topic 1.1b, you want to loop over the element numbers of 'str3' rather than the characters in 'str3'."
   ]
  },
  {
   "cell_type": "code",
   "execution_count": 17,
   "metadata": {},
   "outputs": [],
   "source": [
    "str3 = 'abcdef'"
   ]
  },
  {
   "cell_type": "code",
   "execution_count": 18,
   "metadata": {},
   "outputs": [
    {
     "name": "stdout",
     "output_type": "stream",
     "text": [
      "0 0\n",
      "1 1\n",
      "2 4\n",
      "3 9\n",
      "4 16\n",
      "5 25\n"
     ]
    }
   ],
   "source": [
    "for num in range(len(str3)):\n",
    "    print(num, num*num)"
   ]
  },
  {
   "cell_type": "markdown",
   "metadata": {},
   "source": [
    "<b>4b.</b> The function range(num) generates an object that contains all of the integers between 0 and num-1. For example, range(4) generates an object containing the numbers 0, 1, 2, and 3. Use nested for loops of the form:\n",
    "\n",
    "\"for num1 in range(4)\" and \"for num2 in range(4)\"\n",
    "\n",
    "to print 'num1', 'num2', and 'num1\\*num2' for every combination of num1 and num2."
   ]
  },
  {
   "cell_type": "code",
   "execution_count": 19,
   "metadata": {},
   "outputs": [
    {
     "name": "stdout",
     "output_type": "stream",
     "text": [
      "0 0 0\n",
      "0 1 0\n",
      "0 2 0\n",
      "0 3 0\n",
      "1 0 0\n",
      "1 1 1\n",
      "1 2 2\n",
      "1 3 3\n",
      "2 0 0\n",
      "2 1 2\n",
      "2 2 4\n",
      "2 3 6\n",
      "3 0 0\n",
      "3 1 3\n",
      "3 2 6\n",
      "3 3 9\n"
     ]
    }
   ],
   "source": [
    "for num1 in range(4):\n",
    "    for num2 in range(4):\n",
    "        print(num1, num2, num1*num2)"
   ]
  },
  {
   "cell_type": "markdown",
   "metadata": {},
   "source": [
    "<b>4c.</b> Adjust the code that you wrote to solve <b>4b</b> so that you do not print any combinations where 'num1' or 'num2' equals zero.\n",
    "\n",
    "Hint: To find the easiest way to accomplish this goal, you may want to search for 'using range function in python3'."
   ]
  },
  {
   "cell_type": "code",
   "execution_count": 20,
   "metadata": {},
   "outputs": [
    {
     "name": "stdout",
     "output_type": "stream",
     "text": [
      "1 1 1\n",
      "1 2 2\n",
      "1 3 3\n",
      "2 1 2\n",
      "2 2 4\n",
      "2 3 6\n",
      "3 1 3\n",
      "3 2 6\n",
      "3 3 9\n"
     ]
    }
   ],
   "source": [
    "# This solution uses additional features of range()\n",
    "for num1 in range(1,4,1):\n",
    "    for num2 in range(1,4,1):\n",
    "        print(num1, num2, num1*num2)"
   ]
  },
  {
   "cell_type": "code",
   "execution_count": 21,
   "metadata": {},
   "outputs": [
    {
     "name": "stdout",
     "output_type": "stream",
     "text": [
      "1 1 1\n",
      "1 2 2\n",
      "1 3 3\n",
      "2 1 2\n",
      "2 2 4\n",
      "2 3 6\n",
      "3 1 3\n",
      "3 2 6\n",
      "3 3 9\n"
     ]
    }
   ],
   "source": [
    "# This solution adds and if statement\n",
    "for num1 in range(1,4,1):\n",
    "    for num2 in range(1,4,1):\n",
    "        if num1 > 0 and num2 > 0:\n",
    "            print(num1, num2, num1*num2)"
   ]
  },
  {
   "cell_type": "markdown",
   "metadata": {},
   "source": [
    "<b>4d.</b> Write code that counts all of the numbers between 100000 and 1 million (including both 100000 and 1 million) that are divisible by 7. The code should end with 'print(count)' where 'count' is the variable that you create to count the number of numbers that are divisible by 7."
   ]
  },
  {
   "cell_type": "code",
   "execution_count": 22,
   "metadata": {},
   "outputs": [
    {
     "name": "stdout",
     "output_type": "stream",
     "text": [
      "128572\n"
     ]
    }
   ],
   "source": [
    "# This solution adds and if statement\n",
    "count = 0\n",
    "for num in range(100000,1000001,1):\n",
    "    if num%7 == 0:\n",
    "        count = count + 1\n",
    "print(count)"
   ]
  },
  {
   "cell_type": "markdown",
   "metadata": {},
   "source": [
    "### 5. First Function"
   ]
  },
  {
   "cell_type": "markdown",
   "metadata": {},
   "source": [
    "<b>5a.</b> Define the function 'count_div(b,e,div)' where 'b' is the beginning integer, 'e' is the ending integer, and 'div' is the number that you want each number to be divisible by. The function should return the number of numbers that satisfy this condition. (In other words, we are expanding on the answer to <b>4d</b> and converting it into a function.)\n",
    "\n",
    "Test your function by running the code in the last cell."
   ]
  },
  {
   "cell_type": "code",
   "execution_count": 23,
   "metadata": {},
   "outputs": [],
   "source": [
    "def count_div(b,e,div):\n",
    "    count = 0\n",
    "    for num in range(b,e+1,1):      # Note: 'e+1' is required for the range to include 'e'\n",
    "        if num%div == 0:\n",
    "            count = count + 1\n",
    "    return count"
   ]
  },
  {
   "cell_type": "code",
   "execution_count": 24,
   "metadata": {},
   "outputs": [
    {
     "name": "stdout",
     "output_type": "stream",
     "text": [
      "128572\n"
     ]
    }
   ],
   "source": [
    "print(count_div(100000,1000000,7))"
   ]
  },
  {
   "cell_type": "code",
   "execution_count": null,
   "metadata": {},
   "outputs": [],
   "source": []
  }
 ],
 "metadata": {
  "kernelspec": {
   "display_name": "Python 3",
   "language": "python",
   "name": "python3"
  },
  "language_info": {
   "codemirror_mode": {
    "name": "ipython",
    "version": 3
   },
   "file_extension": ".py",
   "mimetype": "text/x-python",
   "name": "python",
   "nbconvert_exporter": "python",
   "pygments_lexer": "ipython3",
   "version": "3.7.3"
  }
 },
 "nbformat": 4,
 "nbformat_minor": 4
}
