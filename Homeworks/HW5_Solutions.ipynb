{
 "cells": [
  {
   "cell_type": "markdown",
   "metadata": {},
   "source": [
    "# HW5 Solutions"
   ]
  },
  {
   "cell_type": "code",
   "execution_count": null,
   "metadata": {},
   "outputs": [],
   "source": [
    "name = \"ABC\"              # Enter your name\n",
    "user = \"ABC\"              # Enter your BC username\n",
    "print(\"HW5 submission for {} ({})\".format(name,user))"
   ]
  },
  {
   "cell_type": "markdown",
   "metadata": {},
   "source": [
    "Please rename the file so that it includes your BC username. For example, I would change <b>HW5</b> to <b>HW5-reuterj</b> and upload <b>HW5-reuterj.ipynb</b> to Canvas."
   ]
  },
  {
   "cell_type": "code",
   "execution_count": null,
   "metadata": {},
   "outputs": [],
   "source": [
    "# libraries that may or may not be required\n",
    "import math\n",
    "import random"
   ]
  },
  {
   "cell_type": "markdown",
   "metadata": {},
   "source": [
    "<b>(List of lists) (1 point) 1a.</b> Create function <b>pv(fv,n,r)</b> that returns the present value associated with receiving a future value 'fv' in period 'n'. when the appropriate per-period discount rate is 'r'."
   ]
  },
  {
   "cell_type": "code",
   "execution_count": null,
   "metadata": {},
   "outputs": [],
   "source": [
    "def pv(fv,n,r):\n",
    "    return fv / ((1+r)**n)"
   ]
  },
  {
   "cell_type": "markdown",
   "metadata": {},
   "source": [
    "<b>(List of lists) (2 points) 1b.</b> Create function <b>max_pv(l)</b> which processes list 'l', where each of the elements of 'l' is a list of the form [fv, n, r]. The function should identify the element of list 'l' that has the highest present value (using the function created in <b>1a</b>). The output should be a single list of the form [fv, n, r, pv], corresponding to combination of inputs with the maximum present value. Test your function using the 'test_l' list given below.\n",
    "\n",
    "Hint #1: You can append present values to the elements (which are lists) within 'l'.<br>\n",
    "Hint #2: If you keep track of which element number has the highest PV, you can return just that element number as a list."
   ]
  },
  {
   "cell_type": "code",
   "execution_count": null,
   "metadata": {},
   "outputs": [],
   "source": [
    "def max_pv(l):\n",
    "    out = []\n",
    "    max_index = 0\n",
    "    max_pv = 0\n",
    "    for i, element in enumerate(l):\n",
    "        new_pv = pv(element[0],element[1],element[2])\n",
    "        element.append(new_pv)\n",
    "        if new_pv >= max_pv:\n",
    "            max_index = i\n",
    "            max_pv = new_pv\n",
    "    return l[max_index]"
   ]
  },
  {
   "cell_type": "code",
   "execution_count": null,
   "metadata": {},
   "outputs": [],
   "source": [
    "test_l = [[10000,10,0.1], [4000,2,0.05], [10000,100,0.01]]\n",
    "max_pv(test_l) == [10000, 10, 0.1, 3855.432894295314]"
   ]
  },
  {
   "cell_type": "markdown",
   "metadata": {},
   "source": [
    "<b>(Simulation) (2 points) 2a.</b> Write the function <b>my_duplicate()</b> that takes no input and returns an integer. The function will randomly generate a list containing four elements, where each element is a number between 0 and 9. For example, it might generate the list [8, 5, 5, 2]. You may generate the list of four digits using a for loop or list comprehension. Then, the function should return an integer that equals one if at least one number appears more than once, and zero otherwise.\n",
    "\n",
    "Once <b>my_duplicate()</b> is functioning as intended, create a for loop that calls <b>my_duplicate()</b> 100 times and then prints the fraction of times that the function generated duplicate numbers (i.e., returned an integer equal to one).\n",
    "\n",
    "Hint #1: What does random.randint(0,10) do?<br>\n",
    "Hint #2: What happens when you apply list(set()) to your list?\n"
   ]
  },
  {
   "cell_type": "code",
   "execution_count": null,
   "metadata": {},
   "outputs": [],
   "source": [
    "def my_duplicate():\n",
    "    l = [random.randint(0,9) for num in range(4)]\n",
    "    if len(l) == len(list(set(l))):\n",
    "        return 0\n",
    "    else:\n",
    "        return 1      "
   ]
  },
  {
   "cell_type": "code",
   "execution_count": null,
   "metadata": {},
   "outputs": [],
   "source": [
    "count = []\n",
    "for num in range(100):\n",
    "    count.append(my_duplicate())\n",
    "print(\"The fraction of times that I observed duplicate numbers is {}\"\n",
    "      .format(sum(count)/len(count)))"
   ]
  },
  {
   "cell_type": "markdown",
   "metadata": {},
   "source": [
    "<b>(Simulation) (1 point) 2b.</b> Convert the for loop in <b>1a</b> into a list comprehension command that calls my_duplicate() 100000 times and stores the integers in a list named 'count'. Write four print statements. The first will print the fraction of times that the function generated duplicate numbers in the first 100 attempts, the second focused on the first 1000 attempts, the third focuses on first 10000 attempts, and the fourth focuses on all 100000 attempts. "
   ]
  },
  {
   "cell_type": "code",
   "execution_count": null,
   "metadata": {},
   "outputs": [],
   "source": [
    "count = [my_duplicate() for num in range(100000)]\n",
    "print(\"The fraction of times that I observed duplicate numbers in    100 attempts is {:6.4f}\"\n",
    "      .format(sum(count[0:100])/len(count[0:100])))\n",
    "print(\"The fraction of times that I observed duplicate numbers in   1000 attempts is {:6.4f}\"\n",
    "      .format(sum(count[0:1000])/len(count[0:1000])))\n",
    "print(\"The fraction of times that I observed duplicate numbers in  10000 attempts is {:6.4f}\"\n",
    "      .format(sum(count[0:10000])/len(count[0:10000])))\n",
    "print(\"The fraction of times that I observed duplicate numbers in 100000 attempts is {:6.4f}\"\n",
    "      .format(sum(count)/len(count)))"
   ]
  },
  {
   "cell_type": "markdown",
   "metadata": {},
   "source": [
    "<b>(Simulation) (4 points) 3.</b> In Topic 1.4, I reported average annual returns and standard deviations of annual returns for three asset classes. Below are the statistics for short-term US government bonds and large-cap US stocks.\n",
    "\n",
    "<table border=\"0\">\n",
    "   <tr>\n",
    "    <th>Investment</th>\n",
    "    <th>Average Return</th>\n",
    "    <th>Std Dev of Return</th>\n",
    "   </tr>\n",
    "   <tr>\n",
    "    <td>Short-term US government bonds</td>\n",
    "    <td>3.5%</td>\n",
    "    <td>3.1%</td>\n",
    "   </tr>\n",
    "   <tr>\n",
    "    <td>Large-cap US stocks</td>\n",
    "    <td>10.1%</td>\n",
    "    <td>20.2%</td>\n",
    "   </tr>\n",
    "  </table>\n",
    "\n",
    "Consider three portfolios: Portfolio A invests 100% in short-term US government bonds, Portfolio B invests 100% in large-cap US stocks, and Portfolio C invests 50% in short-term US government bonds and 50% in large-cap US stocks. Simulate the future values of portfolios A, B, and C one calendar year from today 100000 times each using the statistics given above and then use print statements to report the following four statistics:\n",
    "\n",
    "(1) the probability that Portfolios A earns a negative return over the next calendar year;<br>\n",
    "(2) the probability that Portfolios B earns a negative return over the next calendar year;<br>\n",
    "(3) the probability that Portfolios C earns a negative return over the next calendar year;<br>\n",
    "(4) the average fraction of portfolio C that is allocated to large-cap US stocks at the end of one calendar year.\n",
    "\n",
    "<b>You will receive 2 points for generating (1), (2), and (3) and 2 more points for generating (4).</b> \n",
    "\n",
    "Hint #1: You can work with the empty lists below or convert some/all of them into list comprehension.<br>\n",
    "Hint #2: In each case, the investment horizon is one calendar year.<br>\n",
    "Hint #3: You are welcome to assume that each portfolio begins with \\\\$1 million, if you would like to do so.<br>\n",
    "Hint #4:  As in the simulations contained in Topic 1.4, please replace any estimated annual return for stocks or bonds that is $\\le$ -100\\% with -99.99\\%."
   ]
  },
  {
   "cell_type": "code",
   "execution_count": null,
   "metadata": {},
   "outputs": [],
   "source": [
    "out_a = []    # contains annual return for portfolio A\n",
    "out_b = []    # contains annual return for portfolio B\n",
    "out_c = []    # contains annual return for portfolio C\n",
    "frc_c = []    # contains fraction of portfolio C allocated to large-cap US stocks.\n",
    "\n",
    "# Your code here\n",
    "for num in range(100000):\n",
    "    ret_a = random.gauss(0.035,0.031)\n",
    "    ret_b = random.gauss(0.101,0.202)\n",
    "    \n",
    "    if ret_a <= -1:\n",
    "        ret_a = -0.9999\n",
    "    if ret_b <= -1:\n",
    "        ret_b = -0.9999\n",
    "        \n",
    "    ret_c = ((0.5)*(1 + ret_a) + (0.5)*(1 + ret_b)) - 1\n",
    "    \n",
    "    val_bond  = 500000*(1 + ret_a)\n",
    "    val_stock = 500000*(1 + ret_b)\n",
    "    frc_stock = val_stock / (val_stock + val_bond)\n",
    "    \n",
    "    out_a.append(ret_a)\n",
    "    out_b.append(ret_b)\n",
    "    out_c.append(ret_c)\n",
    "    frc_c.append(frc_stock)\n",
    "    \n",
    "neg_a = [element for element in out_a if element < 0]\n",
    "neg_b = [element for element in out_b if element < 0]\n",
    "neg_c = [element for element in out_c if element < 0]\n",
    "\n",
    "print(\"(1) Estimated Pr(Portfolios A earns negative return next calendar year) is {:4.1f}%\"\n",
    "      .format(100 * len(neg_a)/len(out_a)))\n",
    "print(\"(2) Estimated Pr(Portfolios B earns negative return next calendar year) is {:4.1f}%\"\n",
    "      .format(100 * len(neg_b)/len(out_b)))\n",
    "print(\"(3) Estimated Pr(Portfolios C earns negative return next calendar year) is {:4.1f}%\\n\"\n",
    "      .format(100 * len(neg_c)/len(out_c)))\n",
    "print(\"(4) Estimated average fraction of Portfolio C allocated to stocks next year is {:4.1f}%\".\n",
    "     format(100 * sum(frc_c)/len(frc_c)))"
   ]
  },
  {
   "cell_type": "code",
   "execution_count": null,
   "metadata": {},
   "outputs": [],
   "source": []
  }
 ],
 "metadata": {
  "kernelspec": {
   "display_name": "Python 3",
   "language": "python",
   "name": "python3"
  },
  "language_info": {
   "codemirror_mode": {
    "name": "ipython",
    "version": 3
   },
   "file_extension": ".py",
   "mimetype": "text/x-python",
   "name": "python",
   "nbconvert_exporter": "python",
   "pygments_lexer": "ipython3",
   "version": "3.7.3"
  }
 },
 "nbformat": 4,
 "nbformat_minor": 2
}
