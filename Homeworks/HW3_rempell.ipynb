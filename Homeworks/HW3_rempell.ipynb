{
 "cells": [
  {
   "cell_type": "markdown",
   "metadata": {},
   "source": [
    "# HW3"
   ]
  },
  {
   "cell_type": "code",
   "execution_count": 1,
   "metadata": {},
   "outputs": [
    {
     "name": "stdout",
     "output_type": "stream",
     "text": [
      "HW3 submission for Leonid (rempell)\n"
     ]
    }
   ],
   "source": [
    "name = \"Leonid\"              # Enter your name\n",
    "user = \"rempell\"              # Enter your BC username\n",
    "print(\"HW3 submission for {} ({})\".format(name,user))"
   ]
  },
  {
   "cell_type": "markdown",
   "metadata": {},
   "source": [
    "Please rename the file so that it includes your BC username. For example, I would change <b>HW3</b> to <b>HW3-reuterj</b>.\n",
    "\n",
    "<b>Submit HW3 as HW3-username.ipynb</b>"
   ]
  },
  {
   "cell_type": "markdown",
   "metadata": {},
   "source": [
    "## <FONT COLOR=\"#800080\">There are 11 possible points, but you only need to earn 10 points for a perfect score.</FONT>"
   ]
  },
  {
   "cell_type": "markdown",
   "metadata": {},
   "source": [
    "### 1. Functions -- String Version\n",
    "\n",
    "Below, I ask you to write three functions. Each function processes a string in a different way. The <b>test</b> function which appears in the cell below is used to test your functions, by comparing the strings that your functions create to the strings that I expect them to create."
   ]
  },
  {
   "cell_type": "code",
   "execution_count": 2,
   "metadata": {
    "scrolled": true
   },
   "outputs": [],
   "source": [
    "def test(got, expected):\n",
    "    if got == expected:\n",
    "        prefix = ' OK '\n",
    "    else:\n",
    "        prefix = '  X '\n",
    "    print(\"{} returned: {} expected: {}\".format(prefix, repr(got), repr(expected)))"
   ]
  },
  {
   "cell_type": "markdown",
   "metadata": {},
   "source": [
    "<b>(1 point) 1a.</b> Define the function <b>both_ends(<i>s</i>)</b>. Given a string 's', return a string made of the first 2 and the last 2 chars of the original string, so 'spring' yields 'spng'. However, if the length of string 's' is less than 2, return the empty string ''."
   ]
  },
  {
   "cell_type": "code",
   "execution_count": 3,
   "metadata": {
    "scrolled": true
   },
   "outputs": [],
   "source": [
    "# def both_ends(s):\n",
    "# Your code here. It needs to include one or more 'return' statements.\n",
    "def both_ends(s):\n",
    "    new_str = ''\n",
    "    if len(s)>=2:\n",
    "        new_str = s[0:2] + s[-2:]\n",
    "    return new_str\n"
   ]
  },
  {
   "cell_type": "code",
   "execution_count": 4,
   "metadata": {
    "scrolled": true
   },
   "outputs": [
    {
     "name": "stdout",
     "output_type": "stream",
     "text": [
      " OK  returned: 'spng' expected: 'spng'\n",
      " OK  returned: 'Helo' expected: 'Helo'\n",
      " OK  returned: '' expected: ''\n",
      " OK  returned: 'AZAZ' expected: 'AZAZ'\n",
      " OK  returned: 'xyyz' expected: 'xyyz'\n",
      " OK  returned: '' expected: ''\n"
     ]
    }
   ],
   "source": [
    "test(both_ends('spring'), 'spng')\n",
    "test(both_ends('Hello'), 'Helo')\n",
    "test(both_ends('a'), '')\n",
    "test(both_ends('AZ'), 'AZAZ')\n",
    "test(both_ends('xyz'), 'xyyz')\n",
    "test(both_ends('w'), '')"
   ]
  },
  {
   "cell_type": "markdown",
   "metadata": {},
   "source": [
    "<b>(1 point) 1b.</b> Define the function <b>recursion(<i>s,k</i>)</b>. Given a string and an integer \"k\", repeat the characters in \"s\" in a consecutive fashion so that the number of the new string is k. For example, recursion('apple', 8) yields: 'appleapp'"
   ]
  },
  {
   "cell_type": "code",
   "execution_count": 5,
   "metadata": {
    "scrolled": true
   },
   "outputs": [],
   "source": [
    "# def recursion(s,k):\n",
    "# Your code here. It needs to include one or more 'return' statements.\n",
    "def recursion(s,k):\n",
    "    new_str = ''\n",
    "    c = 0\n",
    "    while len(new_str) != k:\n",
    "        new_str = new_str + s[c]\n",
    "        c = (c+1)%len(s)\n",
    "    return new_str"
   ]
  },
  {
   "cell_type": "code",
   "execution_count": 6,
   "metadata": {
    "scrolled": true
   },
   "outputs": [
    {
     "name": "stdout",
     "output_type": "stream",
     "text": [
      " OK  returned: \"'sd\" expected: \"'sd\"\n",
      " OK  returned: '2675267526752' expected: '2675267526752'\n",
      " OK  returned: 'a1a1a1' expected: 'a1a1a1'\n",
      " OK  returned: 'appleapp' expected: 'appleapp'\n"
     ]
    }
   ],
   "source": [
    "test(recursion(\"'sd'\",3), \"'sd\")\n",
    "test(recursion(\"2675\",13), \"2675267526752\")\n",
    "test(recursion(\"a1\",6), \"a1a1a1\")\n",
    "test(recursion(\"apple\",8), 'appleapp')"
   ]
  },
  {
   "cell_type": "markdown",
   "metadata": {},
   "source": [
    "<b>(1 point) 1c.</b> Create a function <b>my_findall_str(s,match)</b> where 's' is a string with one or more elements and 'match' is a string containing a single character. The goal is to output a new string that contains all of the index number(s) where 'match' appears in 's'. The index numbers should be separated by commas. For example, my_findall(\"abaabba\",\"b\") should return the string \"1,4,5\".\n",
    "\n",
    "If 'match' does not appear even once in 's', the function should print \"No match found\" and return the empty string.\n",
    "For example, findall(\"abaabba\",\"c\") should return the empty string \"\".\n",
    "\n",
    "You may assume that both 's' and 'match' will be strings. However, if 'match' is longer than 1 character, the function should print \"Match should be a single character\" and return the empty string."
   ]
  },
  {
   "cell_type": "code",
   "execution_count": 7,
   "metadata": {
    "scrolled": true
   },
   "outputs": [],
   "source": [
    "# def my_findall_str(s,match):\n",
    "# Your code here. It needs to include one or more 'return' statements.\n",
    "def my_findall_str(s,match):\n",
    "    start_match = []\n",
    "    \n",
    "    if len(match)>1:\n",
    "        print(\"Match should be a single character\")\n",
    "    else:\n",
    "        for i in range(len(s)):\n",
    "            if s[i] == match[0]:\n",
    "                if s[i:i+len(match)]==match: #code can be converted in future to support patterns such as 'abc'\n",
    "                    start_match.append(str(i)) \n",
    "        if len(start_match) == 0:\n",
    "            print(\"No match found\")\n",
    "    \n",
    "    return \",\".join(start_match)\n",
    "        "
   ]
  },
  {
   "cell_type": "code",
   "execution_count": 8,
   "metadata": {
    "scrolled": true
   },
   "outputs": [
    {
     "name": "stdout",
     "output_type": "stream",
     "text": [
      " OK  returned: '1,4,7,10' expected: '1,4,7,10'\n",
      "Match should be a single character\n",
      " OK  returned: '' expected: ''\n",
      "No match found\n",
      " OK  returned: '' expected: ''\n",
      " OK  returned: '1,6' expected: '1,6'\n"
     ]
    }
   ],
   "source": [
    "test(my_findall_str(\"123123123123\",'2'), '1,4,7,10')\n",
    "test(my_findall_str(\"abcdeabcde\",'ZZ'), '')\n",
    "test(my_findall_str(\"\",'a'), '')\n",
    "test(my_findall_str(\"abcdeabcde\",'b'), '1,6')"
   ]
  },
  {
   "cell_type": "markdown",
   "metadata": {},
   "source": [
    "<b>(1 point) 1d.</b> Define the function <b>fix_start(<i>s</i>)</b>. Given a string 's', return a string where all occurences of its first char have been changed to '\\*', except do not change the first char itself. For example, 'babble' yields 'ba**le'. Assume that the string is length 1 or more.\n",
    "\n",
    "<i>Hint:</i> As we discussed in class, s.replace(stra, strb) returns a version of string 's' where all instances of 'stra' have been replaced by 'strb'."
   ]
  },
  {
   "cell_type": "code",
   "execution_count": 9,
   "metadata": {
    "scrolled": true
   },
   "outputs": [],
   "source": [
    "# def fix_start(s):\n",
    "# Your code here. It needs to include one or more 'return' statements.\n",
    "def fix_start(s):\n",
    "    return s[0] + s[1:].replace(s[0],'*')"
   ]
  },
  {
   "cell_type": "code",
   "execution_count": 10,
   "metadata": {
    "scrolled": true
   },
   "outputs": [
    {
     "name": "stdout",
     "output_type": "stream",
     "text": [
      " OK  returned: 'ba**le' expected: 'ba**le'\n",
      " OK  returned: 'a*rdv*rk' expected: 'a*rdv*rk'\n",
      " OK  returned: 'goo*le' expected: 'goo*le'\n",
      " OK  returned: 'donut' expected: 'donut'\n"
     ]
    }
   ],
   "source": [
    "test(fix_start('babble'), 'ba**le')\n",
    "test(fix_start('aardvark'), 'a*rdv*rk')\n",
    "test(fix_start('google'), 'goo*le')\n",
    "test(fix_start('donut'), 'donut')"
   ]
  },
  {
   "cell_type": "markdown",
   "metadata": {},
   "source": [
    "### 2. Working with Lists"
   ]
  },
  {
   "cell_type": "markdown",
   "metadata": {},
   "source": [
    "<b>(1 point) 2a.</b> Create a list 'a' that contains three elements: your favorite number (as a string), the name of your favorite US state, and the name of your favorite sport. Print the resulting list."
   ]
  },
  {
   "cell_type": "code",
   "execution_count": 11,
   "metadata": {
    "scrolled": true
   },
   "outputs": [],
   "source": [
    "a = ['12', 'NJ', 'Basketball']"
   ]
  },
  {
   "cell_type": "markdown",
   "metadata": {},
   "source": [
    "<b>(1 point) 2b.</b> Use <b>.append()</b> to add your favorite color to the end of list 'a'. Print the new version of list 'a' followed by the length of 'a' (on the same line)."
   ]
  },
  {
   "cell_type": "code",
   "execution_count": 12,
   "metadata": {
    "scrolled": true
   },
   "outputs": [
    {
     "name": "stdout",
     "output_type": "stream",
     "text": [
      "['12', 'NJ', 'Basketball', 'Red'] The length of this list is 4\n"
     ]
    }
   ],
   "source": [
    "a.append('Red')\n",
    "print(a, 'The length of this list is ' + str(len(a)))"
   ]
  },
  {
   "cell_type": "markdown",
   "metadata": {},
   "source": [
    "<b>(1 point) 2c.</b> Use <b>.join()</b> to convert your list 'a' into a single string 'b', where each element is separated by a comma (i.e., \",\"). Print string 'b'."
   ]
  },
  {
   "cell_type": "code",
   "execution_count": 13,
   "metadata": {
    "scrolled": true
   },
   "outputs": [
    {
     "name": "stdout",
     "output_type": "stream",
     "text": [
      "12,NJ,Basketball,Red\n"
     ]
    }
   ],
   "source": [
    "b = ','.join(a)\n",
    "print(b)"
   ]
  },
  {
   "cell_type": "markdown",
   "metadata": {},
   "source": [
    "### 3. For Loops and Lists"
   ]
  },
  {
   "cell_type": "markdown",
   "metadata": {},
   "source": [
    "Note: I am happy for you to construct one or more of the requested lists without a for loop, if you can come up with a way to do so using list comprehension."
   ]
  },
  {
   "cell_type": "code",
   "execution_count": 14,
   "metadata": {
    "scrolled": true
   },
   "outputs": [],
   "source": [
    "l1 = ['a1', '2b', 'CC', '4D', 'e5', '6F', '77', 'gg']"
   ]
  },
  {
   "cell_type": "markdown",
   "metadata": {},
   "source": [
    "<b>(1 point) 3a.</b> Write a <b>for loop</b> that loops over each of the elements in list 'l1' and creates a new list 'l2' that contains any element that begins with a number. You may assume that each element is a string rather than a number."
   ]
  },
  {
   "cell_type": "code",
   "execution_count": 15,
   "metadata": {
    "scrolled": true
   },
   "outputs": [
    {
     "name": "stdout",
     "output_type": "stream",
     "text": [
      "['2b', '4D', '6F', '77']\n"
     ]
    }
   ],
   "source": [
    "l2 = []\n",
    "for i in range(len(l1)):\n",
    "    if l1[i][0].isdigit():\n",
    "        l2.append(l1[i])\n",
    "print(l2)"
   ]
  },
  {
   "cell_type": "markdown",
   "metadata": {},
   "source": [
    "<b>(1 point) 3b.</b> Write a <b>for loop</b> that splits list 'l1' into two new lists ('l3' and 'l4'), where 'l3' contains elements that contain a lowercase letter, and 'l4' contains all of the other elements. Print 'l3' on one line and 'l4' on the next line."
   ]
  },
  {
   "cell_type": "code",
   "execution_count": 16,
   "metadata": {
    "scrolled": true
   },
   "outputs": [
    {
     "name": "stdout",
     "output_type": "stream",
     "text": [
      "['a1', '2b', 'e5', 'gg']\n",
      "['CC', '4D', '6F', '77']\n"
     ]
    }
   ],
   "source": [
    "l3 = []\n",
    "l4 = []\n",
    "for i in range(len(l1)):\n",
    "    if l1[i][0].islower()|l1[i][1].islower():\n",
    "        l3.append(l1[i])\n",
    "    else:\n",
    "        l4.append(l1[i])\n",
    "print(l3)\n",
    "print(l4)"
   ]
  },
  {
   "cell_type": "markdown",
   "metadata": {},
   "source": [
    "<b>(1 point) 3c.</b> Use list(range(100)) to create a list 'l5' containing the numbers 0 to 99. Use a for loop or list comprehension to create 'l6' which contains the subset of numbers divisible by 13. print 'l6'."
   ]
  },
  {
   "cell_type": "code",
   "execution_count": 17,
   "metadata": {
    "scrolled": true
   },
   "outputs": [],
   "source": [
    "l5 = list(range(100))"
   ]
  },
  {
   "cell_type": "code",
   "execution_count": 18,
   "metadata": {
    "scrolled": true
   },
   "outputs": [
    {
     "name": "stdout",
     "output_type": "stream",
     "text": [
      "[0, 13, 26, 39, 52, 65, 78, 91]\n"
     ]
    }
   ],
   "source": [
    "l6 = []\n",
    "for i in range(len(l5)):\n",
    "    if l5[i]%13 == 0:\n",
    "        l6.append(i)\n",
    "print(l6)"
   ]
  },
  {
   "cell_type": "markdown",
   "metadata": {},
   "source": [
    "### 4. Functions -- List Version\n",
    "\n",
    "Below, I ask you to write one function that processes a list instead of a string."
   ]
  },
  {
   "cell_type": "markdown",
   "metadata": {},
   "source": [
    "<b>(1 point) 4.</b> Write function <b>min_max_num_in_list(l_num)</b> that extracts the smallest and largest numbers from 'l_num', which is a list of numbers."
   ]
  },
  {
   "cell_type": "code",
   "execution_count": 19,
   "metadata": {
    "scrolled": true
   },
   "outputs": [],
   "source": [
    "# def min_max_num_in_list(l_num):\n",
    "# Your code here. It needs to include one or more 'return' statements.\n",
    "def min_max_num_in_list(l_num):\n",
    "    max_num = 0\n",
    "    min_num = 0\n",
    "    \n",
    "    for i in range(len(l_num)):\n",
    "        if l_num[i]>max_num:\n",
    "            max_num = l_num[i]\n",
    "        if l_num[i]<min_num:\n",
    "            min_num = l_num[i]\n",
    "\n",
    "    return [min_num,max_num]\n",
    "        "
   ]
  },
  {
   "cell_type": "code",
   "execution_count": 20,
   "metadata": {
    "scrolled": true
   },
   "outputs": [
    {
     "name": "stdout",
     "output_type": "stream",
     "text": [
      " OK  returned: [0, 999] expected: [0, 999]\n",
      " OK  returned: [-20, 9527] expected: [-20, 9527]\n"
     ]
    }
   ],
   "source": [
    "test(min_max_num_in_list(list(range(1000))),[0, 999])\n",
    "test(min_max_num_in_list([11, -20, 9527, 0]),[-20, 9527])"
   ]
  },
  {
   "cell_type": "markdown",
   "metadata": {},
   "source": [
    "### Finally, click on the disk icon to save your notebook, and then choose \"close and halt\" from the File menu.\n",
    "\n",
    "You can now upload a Jupyter Notebook (.ipynb) copy of your notebook to Canvas. In my case, I would upload \"<b>HW3-reuterj.ipynb</b>\"."
   ]
  }
 ],
 "metadata": {
  "kernelspec": {
   "display_name": "Python 3",
   "language": "python",
   "name": "python3"
  },
  "language_info": {
   "codemirror_mode": {
    "name": "ipython",
    "version": 3
   },
   "file_extension": ".py",
   "mimetype": "text/x-python",
   "name": "python",
   "nbconvert_exporter": "python",
   "pygments_lexer": "ipython3",
   "version": "3.7.3"
  }
 },
 "nbformat": 4,
 "nbformat_minor": 4
}
