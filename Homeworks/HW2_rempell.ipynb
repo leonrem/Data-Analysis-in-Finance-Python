{
 "cells": [
  {
   "cell_type": "markdown",
   "metadata": {},
   "source": [
    "# HW2"
   ]
  },
  {
   "cell_type": "code",
   "execution_count": 1,
   "metadata": {},
   "outputs": [
    {
     "name": "stdout",
     "output_type": "stream",
     "text": [
      "HW2 submission for Leonid (rempell)\n"
     ]
    }
   ],
   "source": [
    "name = \"Leonid\"              # Enter your name\n",
    "user = \"rempell\"              # Enter your BC username\n",
    "print(\"HW2 submission for {} ({})\".format(name,user))"
   ]
  },
  {
   "cell_type": "markdown",
   "metadata": {},
   "source": [
    "Click on HW2 at the top of the page, immediately to the right of Jupyter. This will open a window that contains the line \"Enter a new notebook name:\". Please rename the file so that it includes your BC username. \n",
    "\n",
    "For example, I would change the file name from <b>HW2</b> to <b>HW2-reuterj</b>."
   ]
  },
  {
   "cell_type": "markdown",
   "metadata": {},
   "source": [
    "### 1. Variable Types and Print Statements"
   ]
  },
  {
   "cell_type": "code",
   "execution_count": 4,
   "metadata": {},
   "outputs": [],
   "source": [
    "w = 'Douglas Adams'\n",
    "x = \"123456\"\n",
    "y = 42.\n",
    "z = 3"
   ]
  },
  {
   "cell_type": "markdown",
   "metadata": {},
   "source": [
    "<b>(1 point) 1a.</b> Write code that prints the variable type for 'x', 'y', and 'z'. For example, the first row of output should be \"x is of type <class 'str'>\"."
   ]
  },
  {
   "cell_type": "code",
   "execution_count": 4,
   "metadata": {},
   "outputs": [
    {
     "name": "stdout",
     "output_type": "stream",
     "text": [
      "<class 'str'>\n",
      "<class 'float'>\n",
      "<class 'int'>\n"
     ]
    }
   ],
   "source": [
    "print(type(x)) #He wanted in format of \"x is of type <class 'str'>'\"\n",
    "print(type(y)) \n",
    "print(type(z))"
   ]
  },
  {
   "cell_type": "markdown",
   "metadata": {},
   "source": [
    "<b>(1 point) 1b.</b> Write code that prints the 'x' three times in a row using variables 'x' and 'z' and the \"*\" operator."
   ]
  },
  {
   "cell_type": "code",
   "execution_count": 5,
   "metadata": {},
   "outputs": [
    {
     "name": "stdout",
     "output_type": "stream",
     "text": [
      "123456123456123456\n"
     ]
    }
   ],
   "source": [
    "print(x*z)"
   ]
  },
  {
   "cell_type": "markdown",
   "metadata": {},
   "source": [
    "<b>(1 point) 1c.</b> Create new variable 'y_str' which converts 'y' into a string and new variable 'z_str' which converts 'z' into a string and then write a print statement that prints the length of each string on the same line."
   ]
  },
  {
   "cell_type": "code",
   "execution_count": 6,
   "metadata": {},
   "outputs": [
    {
     "name": "stdout",
     "output_type": "stream",
     "text": [
      "4 1\n"
     ]
    }
   ],
   "source": [
    "y_str = str(y) \n",
    "z_str = str(z)\n",
    "print(len(y_str), len(z_str))"
   ]
  },
  {
   "cell_type": "markdown",
   "metadata": {},
   "source": [
    "<b>(1 point) 1d.</b>  Write code that performs the following calculation \n",
    "\n",
    "new_num = $(123456/42)^3$\n",
    "\n",
    "using versions of 'x', 'y', and 'z' and then prints \"'new_num' equals \" (without the \"\"s) followed by the answer."
   ]
  },
  {
   "cell_type": "code",
   "execution_count": 9,
   "metadata": {},
   "outputs": [
    {
     "name": "stdout",
     "output_type": "stream",
     "text": [
      "new_num equal 25397369279.813416\n"
     ]
    }
   ],
   "source": [
    "new_num = (float(x)/y)**3\n",
    "print('new_num equal ' + str(new_num))"
   ]
  },
  {
   "cell_type": "markdown",
   "metadata": {},
   "source": [
    "<b>(1 point) 1e.</b> Write a print statement using variables 'w' and 'y' to generate the following output, including the single quotes:\n",
    "\n",
    "Douglas Adams mixed 42(!) 'Pan Galactic Gargle Blasters' for the Interplanetary World Congress\n",
    "\n",
    "Hint: You will want to use print(\"<i>your text here including two {}s</i>\".format(w,y))</i>. You will also want to make sure that your code prints 42 instead of 42.0."
   ]
  },
  {
   "cell_type": "code",
   "execution_count": 14,
   "metadata": {},
   "outputs": [
    {
     "name": "stdout",
     "output_type": "stream",
     "text": [
      "Douglas Adams mixed 42(!) 'Pan Galactic Gargle Blasters' for the Interplanetary World Congress\n"
     ]
    }
   ],
   "source": [
    "print(\"{} mixed {}(!) 'Pan Galactic Gargle Blasters' for the Interplanetary World Congress\".format(w,int(y)))"
   ]
  },
  {
   "cell_type": "markdown",
   "metadata": {},
   "source": [
    "### 2. Slicing Strings"
   ]
  },
  {
   "cell_type": "code",
   "execution_count": 15,
   "metadata": {},
   "outputs": [],
   "source": [
    "a = 'Roy G Biv'"
   ]
  },
  {
   "cell_type": "markdown",
   "metadata": {},
   "source": [
    "<b>Example.</b> How could you slice 'a' so that you are left with the two letters: 'Ro'?"
   ]
  },
  {
   "cell_type": "code",
   "execution_count": 16,
   "metadata": {},
   "outputs": [
    {
     "data": {
      "text/plain": [
       "'Ro'"
      ]
     },
     "execution_count": 16,
     "metadata": {},
     "output_type": "execute_result"
    }
   ],
   "source": [
    "a[0:2]         # this slice begins with element 0 and ends before element 2"
   ]
  },
  {
   "cell_type": "markdown",
   "metadata": {},
   "source": [
    "<b>(1 point) 2a.</b> How could you slice 'a' so that you are left with the last five characters: 'G Biv'?"
   ]
  },
  {
   "cell_type": "code",
   "execution_count": 21,
   "metadata": {},
   "outputs": [
    {
     "data": {
      "text/plain": [
       "'G Biv'"
      ]
     },
     "execution_count": 21,
     "metadata": {},
     "output_type": "execute_result"
    }
   ],
   "source": [
    "a[4:]"
   ]
  },
  {
   "cell_type": "markdown",
   "metadata": {},
   "source": [
    "<b>(1 points) 2b.</b> How could you slice 'a' so that you are left with uppercase versions of the three letters: 'Roy' and lowercase versions of the three letters \"Biv\"? (Hint: You can slice twice.)"
   ]
  },
  {
   "cell_type": "code",
   "execution_count": 26,
   "metadata": {},
   "outputs": [
    {
     "data": {
      "text/plain": [
       "'ROYbiv'"
      ]
     },
     "execution_count": 26,
     "metadata": {},
     "output_type": "execute_result"
    }
   ],
   "source": [
    "a.upper()[0:3] + a.lower()[6:] #You could also slice first and then uppercase or lowercase which is more effcicent\n",
    "                               #Usually you want to apply the filter first before you mess with the data, so uppercase first is more proper"
   ]
  },
  {
   "cell_type": "markdown",
   "metadata": {},
   "source": [
    "<b>(1 points) 2c.</b> In the header to question 1, I defined variable 'x' to be a string variable equal to \"123456\" and 'z' to be the integer 3. Write code that uses 'x' and 'z' to creates new_str = \"123456123456123456\". Then, create 'new_int' by slicing <b>elements</b> 4 through 10 of 'new_str' and convert into an integer. Print 'new_int'.\n",
    "\n",
    "Hint: In Python, the very first element of a string is indexed as element zero."
   ]
  },
  {
   "cell_type": "code",
   "execution_count": 28,
   "metadata": {},
   "outputs": [
    {
     "data": {
      "text/plain": [
       "5612345"
      ]
     },
     "execution_count": 28,
     "metadata": {},
     "output_type": "execute_result"
    }
   ],
   "source": [
    "new_str = str(x*z)\n",
    "new_int = int(new_str[4:11]) #when you say elements 4 through 10 do you mean including elements 4 and 10? this is the code for that, if 10 is not included then it is just 4:10\n",
    "new_int"
   ]
  },
  {
   "cell_type": "code",
   "execution_count": 9,
   "metadata": {},
   "outputs": [
    {
     "name": "stdout",
     "output_type": "stream",
     "text": [
      "5612345\n"
     ]
    }
   ],
   "source": [
    "print(int((x*z)[4:11])) #written in one line but harder to debug and grade"
   ]
  },
  {
   "cell_type": "markdown",
   "metadata": {},
   "source": [
    "### 3. Your First For Loops and If Statements\n",
    "\n",
    "Below is a string containing letters and numbers, which will serve as the input to the loop."
   ]
  },
  {
   "cell_type": "code",
   "execution_count": 10,
   "metadata": {},
   "outputs": [],
   "source": [
    "loop_str = \"a1B2c2D4e5f1g0h4I3\""
   ]
  },
  {
   "cell_type": "markdown",
   "metadata": {},
   "source": [
    "<b>(1 points) 3a.</b> Write code that uses print statements to print the uppercase version of each letter on its own line but that does not print any of the numbers.\n",
    "\n",
    "Hint: What does the code char.isdigit() return? Can you use this to decide what to print?"
   ]
  },
  {
   "cell_type": "code",
   "execution_count": 44,
   "metadata": {},
   "outputs": [
    {
     "name": "stdout",
     "output_type": "stream",
     "text": [
      "A\n",
      "B\n",
      "C\n",
      "D\n",
      "E\n",
      "F\n",
      "G\n",
      "H\n",
      "I\n"
     ]
    }
   ],
   "source": [
    "for a in loop_str:\n",
    "    if a.isdigit() != 1: #better to use .isalpha() because this code would return a space if it is there\n",
    "        print(a.upper())"
   ]
  },
  {
   "cell_type": "markdown",
   "metadata": {},
   "source": [
    "<b>(1 points) 3b.</b> Write code that adds up all of the numbers contained in 'loop_str' and prints the value of this new variable 'total' at the end of the loop."
   ]
  },
  {
   "cell_type": "code",
   "execution_count": 50,
   "metadata": {},
   "outputs": [
    {
     "name": "stdout",
     "output_type": "stream",
     "text": [
      "total=9\n"
     ]
    }
   ],
   "source": [
    "# Your code goes in this cell\n",
    "# I recommend using \"total = 0\" as the first line of code and \"for char in loop_str:\" as the second line of code\n",
    "# The print statement should include \"total = \" and should not be included within the loop\n",
    "\n",
    "total=0\n",
    "for char in loop_str:\n",
    "    if char.isdigit() == 1:\n",
    "        total = total + 1 #prof wanted total = total + int(char) because he did not want a count, he wanted the actual total of the numbers in the string\n",
    "print(\"total=\" + str(total))"
   ]
  },
  {
   "cell_type": "markdown",
   "metadata": {},
   "source": [
    "### Finally, click on the disk icon to save your notebook, and then choose \"close and halt\" from the File menu.\n",
    "\n",
    "You can now upload a Jupyter Notebook (.ipynb) copy of your notebook to Canvas. In my case, I would upload \"<b>HW2-reuterj.ipynb</b>\"."
   ]
  },
  {
   "cell_type": "code",
   "execution_count": null,
   "metadata": {},
   "outputs": [],
   "source": []
  }
 ],
 "metadata": {
  "kernelspec": {
   "display_name": "Python 3",
   "language": "python",
   "name": "python3"
  },
  "language_info": {
   "codemirror_mode": {
    "name": "ipython",
    "version": 3
   },
   "file_extension": ".py",
   "mimetype": "text/x-python",
   "name": "python",
   "nbconvert_exporter": "python",
   "pygments_lexer": "ipython3",
   "version": "3.7.3"
  }
 },
 "nbformat": 4,
 "nbformat_minor": 4
}
