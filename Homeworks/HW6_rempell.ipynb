{
 "cells": [
  {
   "cell_type": "markdown",
   "metadata": {},
   "source": [
    "# HW6"
   ]
  },
  {
   "cell_type": "code",
   "execution_count": 2,
   "metadata": {},
   "outputs": [
    {
     "name": "stdout",
     "output_type": "stream",
     "text": [
      "HW6 submission for Leonid (rempell)\n"
     ]
    }
   ],
   "source": [
    "name = \"Leonid\"              # Enter your name\n",
    "user = \"rempell\"              # Enter your BC username\n",
    "print(\"HW6 submission for {} ({})\".format(name,user))"
   ]
  },
  {
   "cell_type": "markdown",
   "metadata": {},
   "source": [
    "Please rename the file so that it includes your BC username. For example, I would change <b>HW5</b> to <b>HW5-reuterj</b> and upload <b>HW5-reuterj.ipynb</b> to Canvas."
   ]
  },
  {
   "cell_type": "code",
   "execution_count": 3,
   "metadata": {},
   "outputs": [],
   "source": [
    "# libraries that may or may not be required\n",
    "import math\n",
    "import random\n",
    "import statistics\n",
    "\n"
   ]
  },
  {
   "cell_type": "markdown",
   "metadata": {},
   "source": [
    "<b>(1 point) 1a.</b> Use list comprehension to generate a list 'l1' of length 10, where each element is a randomly chosen integers between 0 and 9. Print(l1)."
   ]
  },
  {
   "cell_type": "code",
   "execution_count": 4,
   "metadata": {},
   "outputs": [
    {
     "name": "stdout",
     "output_type": "stream",
     "text": [
      "[0, 9, 7, 6, 0, 0, 7, 2, 7, 0]\n"
     ]
    }
   ],
   "source": [
    "l1 = [random.randint(0,9) for i in range(10)]\n",
    "print(l1)"
   ]
  },
  {
   "cell_type": "markdown",
   "metadata": {},
   "source": [
    "<b>(1 point) 1b.</b> Use list comprehension if-else (introduced in class on 9/26) to create a new list 'l2' that contains the integer 1 if the corresponding element of 'l1' is odd and contains the integer 0 if it is even. Print(l2)."
   ]
  },
  {
   "cell_type": "code",
   "execution_count": 5,
   "metadata": {},
   "outputs": [
    {
     "name": "stdout",
     "output_type": "stream",
     "text": [
      "[0, 1, 1, 0, 0, 0, 1, 0, 1, 0]\n"
     ]
    }
   ],
   "source": [
    "l2 = [1 if l1[i]%2 != 0 else 0 for i in range(len(l1))]\n",
    "print(l2)"
   ]
  },
  {
   "cell_type": "markdown",
   "metadata": {},
   "source": [
    "<b>(1 point) 1c.</b> Use a <b>for loop</b> of the form <i>for num in range()</i> to create list 'l3' where element 'num' of list 'l3' is equal to the sum of l1[num] and l2[num] (corresponding elements from lists 'l1' and 'l2'). Print(l3)."
   ]
  },
  {
   "cell_type": "code",
   "execution_count": 6,
   "metadata": {},
   "outputs": [
    {
     "name": "stdout",
     "output_type": "stream",
     "text": [
      "[0, 10, 8, 6, 0, 0, 8, 2, 8, 0]\n"
     ]
    }
   ],
   "source": [
    "l3 = []\n",
    "for num in range(len(l1)):\n",
    "    l3.append(l1[num] + l2[num])\n",
    "print(l3)"
   ]
  },
  {
   "cell_type": "markdown",
   "metadata": {},
   "source": [
    "<b>(1 point) 1d.</b> Now, use <b>list comprehension</b> to create list 'l4' where element 'num' of list 'l4' is equal to the sum of l1[num] and l2[num] (corresponding elements from lists 'l1' and 'l2'). Print(l4). Run the code testing whether 'l4' is equal to 'l3'."
   ]
  },
  {
   "cell_type": "code",
   "execution_count": 7,
   "metadata": {},
   "outputs": [
    {
     "name": "stdout",
     "output_type": "stream",
     "text": [
      "[0, 10, 8, 6, 0, 0, 8, 2, 8, 0]\n"
     ]
    }
   ],
   "source": [
    "l4 = [l1[num]+l2[num] for num in range(len(l1))]\n",
    "print(l4)"
   ]
  },
  {
   "cell_type": "code",
   "execution_count": 8,
   "metadata": {},
   "outputs": [
    {
     "data": {
      "text/plain": [
       "True"
      ]
     },
     "execution_count": 8,
     "metadata": {},
     "output_type": "execute_result"
    }
   ],
   "source": [
    "l4 == l3"
   ]
  },
  {
   "cell_type": "markdown",
   "metadata": {},
   "source": [
    "<b>(1 point) 1e.</b> Now, use list comprehension if-else to create a new list 'l5' that contains the integer 1 if the corresponding element of 'l4' is <b>even</b> and contains the integer 0 if it is odd."
   ]
  },
  {
   "cell_type": "code",
   "execution_count": 9,
   "metadata": {},
   "outputs": [],
   "source": [
    "l5 = [1 if l4[i]%2 == 0 else 0 for i in range(len(l4))]"
   ]
  },
  {
   "cell_type": "code",
   "execution_count": 10,
   "metadata": {},
   "outputs": [
    {
     "data": {
      "text/plain": [
       "True"
      ]
     },
     "execution_count": 10,
     "metadata": {},
     "output_type": "execute_result"
    }
   ],
   "source": [
    "l5 == [1, 1, 1, 1, 1, 1, 1, 1, 1, 1]"
   ]
  },
  {
   "cell_type": "markdown",
   "metadata": {},
   "source": [
    "<b>(1 point) 1f.</b> Use 'statistics.mean()' to create a new variable 'l5_mean' that contains the average value of 'l5' and use 'statistics.stdev()' to create a new variable 'l5_stdev' that contains the standard deviation of the values in 'l5'."
   ]
  },
  {
   "cell_type": "code",
   "execution_count": 11,
   "metadata": {},
   "outputs": [],
   "source": [
    "l5_mean = statistics.mean(l5)\n",
    "l5_stdev = statistics.stdev(l5)"
   ]
  },
  {
   "cell_type": "code",
   "execution_count": 12,
   "metadata": {},
   "outputs": [
    {
     "data": {
      "text/plain": [
       "True"
      ]
     },
     "execution_count": 12,
     "metadata": {},
     "output_type": "execute_result"
    }
   ],
   "source": [
    "int(l5_mean) == 1\n",
    "int(l5_stdev) == 0"
   ]
  },
  {
   "cell_type": "markdown",
   "metadata": {},
   "source": [
    "<b>(4 points) 2.</b> Practice simulating multi-period returns for multiple asset classes.\n",
    "\n",
    "- Asset A has an expected annual return of  5\\% and a standard deviation of 2.5\\%.\n",
    "- Asset B has an expected annual return of 25\\% and a standard deviation of 50\\%.\n",
    "\n",
    "Simulate the 5-year net returns on these two assets 10001 times each using 'random.gauss()'. Replace any annual net returns in these lists that are < -1 with -1 before compounding annual returns over the 5-year horizon. Store the 10001 5-year returns in lists 'ret_a' and 'ret_b', respectively.\n",
    "\n",
    "Create a table that reports the mean, standard deviation, min, median, and max 5-year net returns for each asset. Report the statistics for each asset in its own column. The top row should indicate the name of the asset class being summarized. Please report rates of return as percentages with two decimal places."
   ]
  },
  {
   "cell_type": "code",
   "execution_count": 53,
   "metadata": {},
   "outputs": [],
   "source": [
    "ret_a = []\n",
    "ret_b = []\n",
    "\n",
    "def rets(m,sdv,n):\n",
    "    ret = 0\n",
    "    compound = 1\n",
    "    final = 0\n",
    "    for i in range(n):\n",
    "        ret = max(1+random.gauss(m,sdv), -1)\n",
    "        if ret == -1:\n",
    "            compound = 0\n",
    "        else:\n",
    "            compound = compound*ret\n",
    "    if compound - 1 <-1:\n",
    "        final = -1\n",
    "    else:\n",
    "        final = compound - 1\n",
    "    return final\n",
    "\n",
    "ret_a = [rets(.05,.025,5) for i in range(10001)]\n",
    "ret_b = [rets(.25,.5,5) for i in range(10001)]\n",
    "            "
   ]
  },
  {
   "cell_type": "code",
   "execution_count": 54,
   "metadata": {},
   "outputs": [
    {
     "name": "stdout",
     "output_type": "stream",
     "text": [
      "10001 10001\n"
     ]
    }
   ],
   "source": [
    "print(len(ret_a), len(ret_b))"
   ]
  },
  {
   "cell_type": "code",
   "execution_count": 57,
   "metadata": {},
   "outputs": [
    {
     "name": "stdout",
     "output_type": "stream",
     "text": [
      "       Asset A     Asset B\n",
      "mean   27.77%      204.92%   \n",
      "stdv   6.73%       318.64%   \n",
      "min    3.17%      -100.00%   \n",
      "med    27.62%      108.16%   \n",
      "max    57.55%     3287.22%   \n"
     ]
    }
   ],
   "source": [
    "print('       Asset A     Asset B')\n",
    "print('mean   {:.2%}      {:.2%}   '.format((statistics.mean(ret_a)),((statistics.mean(ret_b)))))\n",
    "print('stdv   {:.2%}       {:.2%}   '.format((statistics.stdev(ret_a)),(statistics.stdev(ret_b))))\n",
    "print('min    {:.2%}      {:.2%}   '.format((min(ret_a)),(min(ret_b))))\n",
    "print('med    {:.2%}      {:.2%}   '.format((statistics.median(ret_a)),(statistics.median(ret_b))))\n",
    "print('max    {:.2%}     {:.2%}   '.format((max(ret_a)),(max(ret_b))))"
   ]
  },
  {
   "cell_type": "code",
   "execution_count": null,
   "metadata": {},
   "outputs": [],
   "source": []
  }
 ],
 "metadata": {
  "kernelspec": {
   "display_name": "Python 3",
   "language": "python",
   "name": "python3"
  },
  "language_info": {
   "codemirror_mode": {
    "name": "ipython",
    "version": 3
   },
   "file_extension": ".py",
   "mimetype": "text/x-python",
   "name": "python",
   "nbconvert_exporter": "python",
   "pygments_lexer": "ipython3",
   "version": "3.7.3"
  }
 },
 "nbformat": 4,
 "nbformat_minor": 2
}
