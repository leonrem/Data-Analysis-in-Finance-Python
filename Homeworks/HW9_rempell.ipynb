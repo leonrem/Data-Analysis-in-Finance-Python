{
 "cells": [
  {
   "cell_type": "markdown",
   "metadata": {},
   "source": [
    "# HW9\n",
    "\n",
    "Each of these questions is related to material in Topics 2.2 and 2.3."
   ]
  },
  {
   "cell_type": "code",
   "execution_count": 1,
   "metadata": {},
   "outputs": [
    {
     "name": "stdout",
     "output_type": "stream",
     "text": [
      "HW9 submission for Leonid (rempell)\n"
     ]
    }
   ],
   "source": [
    "name = \"Leonid\"              # Enter your name\n",
    "user = \"rempell\"              # Enter your BC username\n",
    "print(\"HW9 submission for {} ({})\".format(name,user))"
   ]
  },
  {
   "cell_type": "markdown",
   "metadata": {},
   "source": [
    "Please rename the file so that it includes your BC username. For example, I would change <b>HW9</b> to <b>HW9-reuterj</b> and upload <b>HW9-reuterj.ipynb</b> to Canvas."
   ]
  },
  {
   "cell_type": "code",
   "execution_count": 2,
   "metadata": {},
   "outputs": [],
   "source": [
    "import numpy as np"
   ]
  },
  {
   "cell_type": "markdown",
   "metadata": {},
   "source": [
    "<b>(2 points) 1.</b> Create a (10,) array 'a1' that contains the effective annual interest rates [0.01 0.02 ... 0.09, 0.1 ]. Use one or more steps to create a new (10,) array 'a2' that contains the future value of investing \\\\$100 for 10 years at each of these rates. \n",
    "\n",
    "For example, element 0 of 'a2' should equal 110.46221254 $\\left(= \\$100(1.01)^{10} \\right)$."
   ]
  },
  {
   "cell_type": "code",
   "execution_count": 4,
   "metadata": {},
   "outputs": [
    {
     "name": "stdout",
     "output_type": "stream",
     "text": [
      "[110.46221254 121.899442   134.39163793 148.02442849 162.88946268\n",
      " 179.08476965 196.71513573 215.89249973 236.73636746 259.37424601]\n"
     ]
    }
   ],
   "source": [
    "a1 = np.linspace(.01,.1,10)\n",
    "a2 = 100*(1+a1)**10\n",
    "print(a2)"
   ]
  },
  {
   "cell_type": "markdown",
   "metadata": {},
   "source": [
    "<b>(2 points) 2.</b> Use <b>np.random.random()</b> to generate a (3,5) array 'b1' where each element is drawn from uniform (-1,3). Create a new (3,) array 'b2' containing the average values of the three rows. Create a new (5,) array 'b3' containing the average values of the five columns. Count (and print) the number of elements of 'b3' that are positive."
   ]
  },
  {
   "cell_type": "code",
   "execution_count": 23,
   "metadata": {},
   "outputs": [
    {
     "name": "stdout",
     "output_type": "stream",
     "text": [
      "4\n"
     ]
    }
   ],
   "source": [
    "b1 = 3*np.random.random((3,5))-1\n",
    "b2 = np.mean(b1, 1)\n",
    "b3 = np.mean(b1, 0)\n",
    "x = np.count_nonzero(b3>0)\n",
    "print(x)"
   ]
  },
  {
   "cell_type": "markdown",
   "metadata": {},
   "source": [
    "<b>(4 points) 3.</b> \n",
    "\n",
    "- Use <b>np.random.binomial()</b> to simulate the outcome of 82 NBA games for a single team. Begin by assuming that the probability of winning each game is 50%. Simulate the 82-game season 10,000 times. Print the 5th, 25th, 50th, 75th, and 95th percentile of the number of games won. \n",
    "- Repeat this exercise when the probability of winning equals 45% and then again when it equals 60%. \n",
    "- Use the three distributions of number-of-games-won to estimate (i) the probability that a team with a 50% probability of winning wins fewer games in an 82-game seaon than a team with a 45% probability of winning; (ii) the probability that a team a 60% probability of winning wins more games than a team with a 50% probability of winning.\n",
    "\n",
    "Hint: You can ask how often the number of wins of the 45% team is higher than the number of wins of the 50% team by comparing element 0 of both arrays and then comparing element 1 of both arrays, etc."
   ]
  },
  {
   "cell_type": "code",
   "execution_count": 85,
   "metadata": {},
   "outputs": [
    {
     "name": "stdout",
     "output_type": "stream",
     "text": [
      "With a 50.0% win rate, the percentiles are\n",
      " 5th percentile  34.0\n",
      " 25th percentile 38.0\n",
      " 50th percentile 41.0\n",
      " 75th percentile 44.0\n",
      " 95th percentile 48.0\n",
      "\n",
      "With a 45.0% win rate, the percentiles are\n",
      " 5th percentile  29.0\n",
      " 25th percentile 34.0\n",
      " 50th percentile 37.0\n",
      " 75th percentile 40.0\n",
      " 95th percentile 44.0\n",
      "\n",
      "With a 60.0% win rate, the percentiles are\n",
      " 5th percentile  42.0\n",
      " 25th percentile 46.0\n",
      " 50th percentile 49.0\n",
      " 75th percentile 52.0\n",
      " 95th percentile 57.0\n",
      "\n",
      "The probabaility that a team with a 50% chance of winning wins fewer games in an 82-game season than a team with a 45% chance of winning is: 23.61%\n",
      "\n",
      "The probabaility that a team with a 60% chance of winning wins more games in an 82-game season than a team with a 50% chance of winning is: 89.05%\n"
     ]
    }
   ],
   "source": [
    "wins = [.5, .45, .6]\n",
    "percent = [5, 25, 50, 75, 95]\n",
    "dist = []\n",
    "for i in wins:\n",
    "    nba = np.random.binomial(82, i, (10000,))\n",
    "    dist.append(nba)\n",
    "    nba_prc = np.percentile(nba, percent) \n",
    "    print(\"With a {}% win rate, the percentiles are\\n 5th percentile  {}\\n 25th percentile {}\\n 50th percentile {}\\n 75th percentile {}\\n 95th percentile {}\\n\".format(100*i, nba_prc[0], nba_prc[1], nba_prc[2], nba_prc[3], nba_prc[4]))\n",
    "    \n",
    "x = np.count_nonzero(dist[0]<dist[1])\n",
    "y = np.count_nonzero(dist[2]>dist[0])\n",
    "\n",
    "print('The probabaility that a team with a 50% chance of winning wins fewer games in an 82-game season than a team with a 45% chance of winning is: {:.2f}%\\n'.format(x/100))\n",
    "print('The probabaility that a team with a 60% chance of winning wins more games in an 82-game season than a team with a 50% chance of winning is: {:.2f}%'.format(y/100))\n",
    "\n",
    "\n",
    "\n",
    "\n",
    "    "
   ]
  },
  {
   "cell_type": "markdown",
   "metadata": {},
   "source": [
    "<b>(2 points) 4.</b> Use <b>np.random.normal()</b> to generate a (20,) array 'r1' containing draws from the normal distribution, where the mean is 0.10 and the standard deviation is 0.05. Use <b>np.cumprod()</b> to create a new (20,) array 'r2' containing the compound returns implied by 'r1'. The first return in 'r2' corresponds to the 1-year return; the last return in 'r2' corresponds to the 20-year compound return. Print the 20-year compound return."
   ]
  },
  {
   "cell_type": "code",
   "execution_count": 115,
   "metadata": {},
   "outputs": [
    {
     "name": "stdout",
     "output_type": "stream",
     "text": [
      "r1 is:\n",
      " [0.1087005  0.13859288 0.13386555 0.09656343 0.10588    0.08569525\n",
      " 0.06836508 0.12286614 0.11116857 0.12756337 0.12672042 0.08556473\n",
      " 0.14649598 0.14542601 0.13295698 0.10157441 0.13606705 0.12098169\n",
      " 0.13463343 0.15286284]\n",
      "\n",
      "r2 is: [1.1087005  1.2623585  1.43134481 1.56956037 1.73574542 1.88449056\n",
      " 2.0133239  2.26069323 2.51201126 2.83245189 3.19138137 3.46445107\n",
      " 3.97197922 4.54960831 5.15451048 5.67807684 6.450676   7.23108971\n",
      " 8.20463615 9.45882014]\n",
      "\n",
      " The 20 year compound return is: 8.46\n",
      "\n"
     ]
    }
   ],
   "source": [
    "r1 = np.random.normal(0.1, 0.05, (20,))\n",
    "print(\"r1 is:\\n\", r1)\n",
    "\n",
    "r2 = np.cumprod(1+r1)\n",
    "print(\"\\nr2 is:\", r2)\n",
    "\n",
    "print(\"\\n The 20 year compound return is: {:.2f}\\n\".format((r2[19]-1)))\n"
   ]
  },
  {
   "cell_type": "markdown",
   "metadata": {},
   "source": [
    "<b>(1 bonus point).</b> Use 'r2' from question 4 and an additional (20,) array 'r3' of your creation to create new (20,) array 'r4' which contains the geometric average return for years 1 through 20 that are implied by the n-year compound returns in 'r2'. For example, if the first two elements of 'r1' are 0.045 and 0.060, then the 2-year compound return is 0.1077 $(= (1.045)(1.06)-1)$ and the 2-year geometric average return is 0.05247328 $(= ((1.045)(1.06))^{(1/2)} - 1).$ Print the 20-year geometric average return."
   ]
  },
  {
   "cell_type": "code",
   "execution_count": 116,
   "metadata": {},
   "outputs": [
    {
     "name": "stdout",
     "output_type": "stream",
     "text": [
      "The 20 year geometric average return is: 0.12\n"
     ]
    }
   ],
   "source": [
    "r3 = np.arange(1,21)\n",
    "r4 = np.cumprod(1+r1)**(1/r3)\n",
    "print(\"The 20 year geometric average return is: {:.2f}\".format(r4[19]-1))"
   ]
  },
  {
   "cell_type": "code",
   "execution_count": null,
   "metadata": {},
   "outputs": [],
   "source": []
  }
 ],
 "metadata": {
  "kernelspec": {
   "display_name": "Python 3",
   "language": "python",
   "name": "python3"
  },
  "language_info": {
   "codemirror_mode": {
    "name": "ipython",
    "version": 3
   },
   "file_extension": ".py",
   "mimetype": "text/x-python",
   "name": "python",
   "nbconvert_exporter": "python",
   "pygments_lexer": "ipython3",
   "version": "3.7.3"
  }
 },
 "nbformat": 4,
 "nbformat_minor": 2
}
