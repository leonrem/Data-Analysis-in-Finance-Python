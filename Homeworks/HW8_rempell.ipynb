{
 "cells": [
  {
   "cell_type": "markdown",
   "metadata": {},
   "source": [
    "# HW8\n",
    "\n",
    "Each of these questions is related to material in Topic 1.8."
   ]
  },
  {
   "cell_type": "code",
   "execution_count": 2,
   "metadata": {},
   "outputs": [
    {
     "name": "stdout",
     "output_type": "stream",
     "text": [
      "HW8 submission for Leonid (rempell)\n"
     ]
    }
   ],
   "source": [
    "name = \"Leonid\"              # Enter your name\n",
    "user = \"rempell\"              # Enter your BC username\n",
    "print(\"HW8 submission for {} ({})\".format(name,user))"
   ]
  },
  {
   "cell_type": "markdown",
   "metadata": {},
   "source": [
    "Please rename the file so that it includes your BC username. For example, I would change <b>HW8</b> to <b>HW8-reuterj</b> and upload <b>HW8-reuterj.ipynb</b> to Canvas."
   ]
  },
  {
   "cell_type": "code",
   "execution_count": 3,
   "metadata": {},
   "outputs": [],
   "source": [
    "import re"
   ]
  },
  {
   "cell_type": "markdown",
   "metadata": {},
   "source": [
    "<br>\n",
    "<b>Fun with Regex</b>\n",
    "\n",
    "After creating your code, please run the code that verifies that your answer matches my answer."
   ]
  },
  {
   "cell_type": "markdown",
   "metadata": {},
   "source": [
    "<b>(1 point) 1a.</b> Use <b>re.findall()</b> to extract each of the letters from string 'a'. Each letter should be its own element in the new list 'l1' (i.e., the first element of 'l1' should be 'a' and the second element should be 'b')."
   ]
  },
  {
   "cell_type": "code",
   "execution_count": 5,
   "metadata": {},
   "outputs": [],
   "source": [
    "a = '01ab23cd4e56fgh789ijklmno'"
   ]
  },
  {
   "cell_type": "code",
   "execution_count": 7,
   "metadata": {},
   "outputs": [
    {
     "name": "stdout",
     "output_type": "stream",
     "text": [
      "Help on function findall in module re:\n",
      "\n",
      "findall(pattern, string, flags=0)\n",
      "    Return a list of all non-overlapping matches in the string.\n",
      "    \n",
      "    If one or more capturing groups are present in the pattern, return\n",
      "    a list of groups; this will be a list of tuples if the pattern\n",
      "    has more than one group.\n",
      "    \n",
      "    Empty matches are included in the result.\n",
      "\n"
     ]
    }
   ],
   "source": [
    "help(re.findall)"
   ]
  },
  {
   "cell_type": "code",
   "execution_count": 14,
   "metadata": {},
   "outputs": [],
   "source": [
    "l1 = re.findall('\\D',a)"
   ]
  },
  {
   "cell_type": "code",
   "execution_count": 15,
   "metadata": {},
   "outputs": [
    {
     "data": {
      "text/plain": [
       "True"
      ]
     },
     "execution_count": 15,
     "metadata": {},
     "output_type": "execute_result"
    }
   ],
   "source": [
    "l1 == ['a', 'b', 'c', 'd', 'e', 'f', 'g', 'h', 'i', 'j', 'k', 'l', 'm', 'n', 'o']"
   ]
  },
  {
   "cell_type": "markdown",
   "metadata": {},
   "source": [
    "<b>(1 point) 1b.</b> Use <b>re.findall()</b> twice. First, extract all of the collections of letters (e.g., 'fgh') from string 'a' and store them in new list 'l2'. Second, extract all of the numbers (e.g., '56') from string 'a' and store them in new list 'l3'. "
   ]
  },
  {
   "cell_type": "code",
   "execution_count": 19,
   "metadata": {},
   "outputs": [
    {
     "name": "stdout",
     "output_type": "stream",
     "text": [
      "['ab', 'cd', 'e', 'fgh', 'ijklmno']\n"
     ]
    }
   ],
   "source": [
    "l2 = re.findall('[a-z]+',a)\n",
    "print(l2)"
   ]
  },
  {
   "cell_type": "code",
   "execution_count": 20,
   "metadata": {},
   "outputs": [
    {
     "data": {
      "text/plain": [
       "True"
      ]
     },
     "execution_count": 20,
     "metadata": {},
     "output_type": "execute_result"
    }
   ],
   "source": [
    "l2 == ['ab', 'cd', 'e', 'fgh', 'ijklmno']"
   ]
  },
  {
   "cell_type": "code",
   "execution_count": 21,
   "metadata": {},
   "outputs": [],
   "source": [
    "l3 = re.findall('\\d+',a)"
   ]
  },
  {
   "cell_type": "code",
   "execution_count": 22,
   "metadata": {},
   "outputs": [
    {
     "data": {
      "text/plain": [
       "True"
      ]
     },
     "execution_count": 22,
     "metadata": {},
     "output_type": "execute_result"
    }
   ],
   "source": [
    "l3 == ['01', '23', '4', '56', '789']"
   ]
  },
  {
   "cell_type": "markdown",
   "metadata": {},
   "source": [
    "<b>(1 point) 1c.</b> Use <b>re.findall()</b> to convert the string 'b' into a list of tuples where tuple is of the form (number,item name). Name this list 'l4'."
   ]
  },
  {
   "cell_type": "code",
   "execution_count": 212,
   "metadata": {},
   "outputs": [],
   "source": [
    "b = '5 Golden Rings\\n4 Calling Birds\\n3 French Hens\\n2 Turtle Doves\\n1 Partridge in a Pear Tree\\n'"
   ]
  },
  {
   "cell_type": "code",
   "execution_count": 189,
   "metadata": {},
   "outputs": [
    {
     "name": "stdout",
     "output_type": "stream",
     "text": [
      "[('5', 'Golden Rings'), ('4', 'Calling Birds'), ('3', 'French Hens'), ('2', 'Turtle Doves'), ('1', 'Partridge in a Pear Tree')]\n"
     ]
    }
   ],
   "source": [
    "l4 = re.findall(r'(\\d)\\s(.+)',b)\n",
    "print(l4)"
   ]
  },
  {
   "cell_type": "code",
   "execution_count": 190,
   "metadata": {},
   "outputs": [
    {
     "data": {
      "text/plain": [
       "True"
      ]
     },
     "execution_count": 190,
     "metadata": {},
     "output_type": "execute_result"
    }
   ],
   "source": [
    "l4 == [('5', 'Golden Rings'), ('4', 'Calling Birds'), ('3', 'French Hens'), ('2', 'Turtle Doves'), ('1', 'Partridge in a Pear Tree')]"
   ]
  },
  {
   "cell_type": "markdown",
   "metadata": {},
   "source": [
    "<b>(1 point) 1d.</b> Use <b>re.findall()</b> to create a list containing all words in string 'c' that begin with an uppercase character and are more than five letters long. Name this list 'l5'."
   ]
  },
  {
   "cell_type": "code",
   "execution_count": 191,
   "metadata": {},
   "outputs": [],
   "source": [
    "c = 'On the seventh day of Christmas\\nmy true love sent to me:\\nSeven Swans a Swimming\\n'"
   ]
  },
  {
   "cell_type": "code",
   "execution_count": 195,
   "metadata": {},
   "outputs": [],
   "source": [
    "l5 = re.findall(r'[A-Z]\\w{5,}',c)"
   ]
  },
  {
   "cell_type": "code",
   "execution_count": 196,
   "metadata": {},
   "outputs": [
    {
     "data": {
      "text/plain": [
       "True"
      ]
     },
     "execution_count": 196,
     "metadata": {},
     "output_type": "execute_result"
    }
   ],
   "source": [
    "l5 == ['Christmas', 'Swimming']"
   ]
  },
  {
   "cell_type": "markdown",
   "metadata": {},
   "source": [
    "<b>(2 points) 2.</b> Use <b>re.findall()</b> that extracts both of the email addresses from string 'd'. You may take advantage of the fact that both email addresses have one period to the left of the @ and one period to the right, but should not hardcode any other features of the email addresses. Name the list containing email addresses 'l6'. "
   ]
  },
  {
   "cell_type": "code",
   "execution_count": 197,
   "metadata": {},
   "outputs": [],
   "source": [
    "d = 'billy@@ ! -- ggateeew Bill.Gates@MSFT.com ##@abc bg@MSFT...net tim.cook@apple.com abc.def.ghi@'"
   ]
  },
  {
   "cell_type": "code",
   "execution_count": 210,
   "metadata": {},
   "outputs": [],
   "source": [
    "l6 = re.findall(r'\\w+\\.+\\w+.@\\w+\\.com',d)"
   ]
  },
  {
   "cell_type": "code",
   "execution_count": 211,
   "metadata": {},
   "outputs": [
    {
     "data": {
      "text/plain": [
       "True"
      ]
     },
     "execution_count": 211,
     "metadata": {},
     "output_type": "execute_result"
    }
   ],
   "source": [
    "l6 == ['Bill.Gates@MSFT.com', 'tim.cook@apple.com']"
   ]
  },
  {
   "cell_type": "markdown",
   "metadata": {},
   "source": [
    "<b>(2 points) 3.</b> Use <b>re.findall()</b> to extract the three dollar amounts from string 'e'. Ideally, you would use a single regex to match all three numbers. Your answer should retain the dollar signs, commas, and periods associated with each number. Name the list containing these three dollar amounts 'l7'."
   ]
  },
  {
   "cell_type": "code",
   "execution_count": 272,
   "metadata": {},
   "outputs": [
    {
     "name": "stdout",
     "output_type": "stream",
     "text": [
      "10, 2.0, 3.00, $3.14, 42, $1,234,567, 867-5390, 1,234,567, 31.4, $1000000, 4\n"
     ]
    }
   ],
   "source": [
    "e = '10, 2.0, 3.00, $3.14, 42, $1,234,567, 867-5390, 1,234,567, 31.4, $1000000, 4'\n",
    "print(e)"
   ]
  },
  {
   "cell_type": "code",
   "execution_count": 299,
   "metadata": {},
   "outputs": [
    {
     "name": "stdout",
     "output_type": "stream",
     "text": [
      "['$3.14', '$1,234,567', '$1000000']\n"
     ]
    }
   ],
   "source": [
    "l7 = re.findall(r'\\$\\d[,]\\d+[,]\\d+|\\$\\d+\\.\\d+|\\$\\d+|\\$\\.+',e)\n",
    "print(l7)"
   ]
  },
  {
   "cell_type": "code",
   "execution_count": 300,
   "metadata": {},
   "outputs": [
    {
     "data": {
      "text/plain": [
       "True"
      ]
     },
     "execution_count": 300,
     "metadata": {},
     "output_type": "execute_result"
    }
   ],
   "source": [
    "l7 == ['$3.14', '$1,234,567', '$1000000']"
   ]
  },
  {
   "cell_type": "markdown",
   "metadata": {},
   "source": [
    "<b>(2 points) 4.</b> Use <b>re.findall()</b> to extract product names and dollar sales (denominated in $millions) for the three months ended 6/29/19 from \"HW8_AAPL.txt'. The resulting list 'l8' should be a list containing four tuples of the form (product name, sales). Exclude total net sales from your list (before, during, or after using <b>re.findall()</b>). Ignore anything else in the file."
   ]
  },
  {
   "cell_type": "code",
   "execution_count": 316,
   "metadata": {},
   "outputs": [
    {
     "data": {
      "text/plain": [
       "'/Users/leonrem/Desktop/Data Analytics/Homeworks'"
      ]
     },
     "execution_count": 316,
     "metadata": {},
     "output_type": "execute_result"
    }
   ],
   "source": [
    "import os\n",
    "os.getcwd()"
   ]
  },
  {
   "cell_type": "code",
   "execution_count": 454,
   "metadata": {
    "scrolled": true
   },
   "outputs": [
    {
     "name": "stdout",
     "output_type": "stream",
     "text": [
      "AAPL Disaggregated Revenue (from 10-Q filed 07/31/19)\n",
      "\n",
      "Three months ended              6/29/19        6/30/18\n",
      "iPhone (1)\t\t\t \t25,986\t   29,470\n",
      "Mac (1)\t\t\t\t\t\t 5,820\t    5,258\n",
      "iPad (1)\t\t\t 5,023\t    4,634\t\t\n",
      "Wearables (2)\t 5,525\t    3,733\n",
      "Services (3)\t\t\t\t11,455\t   10,170\n",
      "     Total net sales (4)\t53,809\t   53,265\n",
      "     \n",
      "(1) Products net sales include amortization of the deferred value of unspecified software upgrade rights, which are bundled in the sales price of the respective product.\n",
      "(2) Wearables, Home and Accessories net sales include sales of AirPods, Apple TV, Apple Watch, Beats products, HomePod, iPod touch and Apple-branded and third-party accessories.\n",
      "(3) Services net sales include sales from the Company’s digital content stores and streaming services, AppleCare, Apple Pay, licensing and other services. Services net sales also include amortization of the deferred value of Maps, Siri and free iCloud services, which are bundled in the sales price of certain products.\n"
     ]
    }
   ],
   "source": [
    "file = \"HW8_AAPL.txt\"\n",
    "f = open(file, 'r')\n",
    "lines = f.read()\n",
    "f.close()\n",
    "sales = lines\n",
    "print(sales)"
   ]
  },
  {
   "cell_type": "code",
   "execution_count": 547,
   "metadata": {},
   "outputs": [
    {
     "name": "stdout",
     "output_type": "stream",
     "text": [
      "[('iPhone', '25,986'), ('Mac', '5,820'), ('iPad', '5,023'), ('Wearables', '5,525'), ('Services', '11,455'), ('sales', '53,809')]\n"
     ]
    }
   ],
   "source": [
    "l8 = re.findall(r\"([A-Za-z]*) \\(\\d\\)\\s+(\\d*\\,\\d*)\", sales)\n",
    "print(l8)"
   ]
  },
  {
   "cell_type": "code",
   "execution_count": 551,
   "metadata": {},
   "outputs": [],
   "source": [
    "del l8[5]"
   ]
  },
  {
   "cell_type": "code",
   "execution_count": 552,
   "metadata": {},
   "outputs": [
    {
     "data": {
      "text/plain": [
       "True"
      ]
     },
     "execution_count": 552,
     "metadata": {},
     "output_type": "execute_result"
    }
   ],
   "source": [
    "l8 == [('iPhone', '25,986'), ('Mac', '5,820'), ('iPad', '5,023'), ('Wearables', '5,525'), ('Services', '11,455')]"
   ]
  }
 ],
 "metadata": {
  "kernelspec": {
   "display_name": "Python 3",
   "language": "python",
   "name": "python3"
  },
  "language_info": {
   "codemirror_mode": {
    "name": "ipython",
    "version": 3
   },
   "file_extension": ".py",
   "mimetype": "text/x-python",
   "name": "python",
   "nbconvert_exporter": "python",
   "pygments_lexer": "ipython3",
   "version": "3.7.3"
  }
 },
 "nbformat": 4,
 "nbformat_minor": 2
}
