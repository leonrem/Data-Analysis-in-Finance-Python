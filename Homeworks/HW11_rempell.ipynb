{
 "cells": [
  {
   "cell_type": "markdown",
   "metadata": {},
   "source": [
    "# HW11\n",
    "\n",
    "Each of these questions is related to material in Topics 2.5 and 2.7."
   ]
  },
  {
   "cell_type": "code",
   "execution_count": 2,
   "metadata": {},
   "outputs": [
    {
     "name": "stdout",
     "output_type": "stream",
     "text": [
      "HW11 submission for Leonid (rempell)\n"
     ]
    }
   ],
   "source": [
    "name = \"Leonid\"              # Enter your name\n",
    "user = \"rempell\"              # Enter your BC username\n",
    "print(\"HW11 submission for {} ({})\".format(name,user))"
   ]
  },
  {
   "cell_type": "markdown",
   "metadata": {},
   "source": [
    "Please rename the file so that it includes your BC username. For example, I would change <b>HW11</b> to <b>HW11-reuterj</b> and upload <b>HW11-reuterj.ipynb</b> to Canvas."
   ]
  },
  {
   "cell_type": "markdown",
   "metadata": {},
   "source": [
    "## Lots of useful code"
   ]
  },
  {
   "cell_type": "code",
   "execution_count": 3,
   "metadata": {},
   "outputs": [],
   "source": [
    "import os\n",
    "import numpy as np\n",
    "import statsmodels.api as sm"
   ]
  },
  {
   "cell_type": "code",
   "execution_count": 4,
   "metadata": {},
   "outputs": [],
   "source": [
    "# Formats how numbers are displayed by numpy\n",
    "def float_formatter(x):\n",
    "    return \"{:7.4f}\".format(x)\n",
    "np.set_printoptions(formatter={'float_kind':float_formatter})"
   ]
  },
  {
   "cell_type": "code",
   "execution_count": 5,
   "metadata": {},
   "outputs": [],
   "source": [
    "# Function that runs OLS regression\n",
    "# Note: y and x should be structured arrays with data sorted in columns\n",
    "\n",
    "def reg_m(y, x):\n",
    "    X = sm.add_constant(x)    # adds column of ones to X\n",
    "    results = sm.OLS(y, X).fit()                # creates object containing regression results\n",
    "    return results\n",
    "\n",
    "#reg_out = reg_m(y,X)\n",
    "#reg_out.summary()\n",
    "#reg_out.params\n",
    "#reg_out.pvalues"
   ]
  },
  {
   "cell_type": "code",
   "execution_count": 6,
   "metadata": {},
   "outputs": [
    {
     "name": "stdout",
     "output_type": "stream",
     "text": [
      "(1119,) (1119,) (1,)\n",
      "0.0296 0.0144\n",
      "192607 201909\n"
     ]
    }
   ],
   "source": [
    "# Imports daily return data from Fama and French\n",
    "# Begins in 19260701 and ends in 20190930\n",
    "\n",
    "f = open('Factors_Monthly.csv', 'r')\n",
    "f_list = f.readlines()\n",
    "f.close()\n",
    "\n",
    "ff1 = [element.rstrip().split(',') for element in f_list][1:]\n",
    "ff2 = sorted([[l[0], l[1], float(l[2])/100, float(l[3])/100, float(l[4])/100, float(l[5])/100] for l in ff1])\n",
    "\n",
    "mktrf_yymm = np.array([tup[0] for tup in ff2])    # date strings\n",
    "mktrf_yyyy = np.array([tup[1] for tup in ff2])    # date strings\n",
    "\n",
    "mktrf_cols = np.array([\"MKTRF\"])\n",
    "mktrf_ret  = np.array([tup[3] for tup in ff2])\n",
    "\n",
    "print(mktrf_ret.shape, mktrf_yymm.shape, mktrf_cols.shape)\n",
    "print(mktrf_ret[0], mktrf_ret[-1])\n",
    "print(mktrf_yymm[0], mktrf_yymm[-1])"
   ]
  },
  {
   "cell_type": "markdown",
   "metadata": {},
   "source": [
    "<b>(3 points) Question 1.</b> Pick a consecutive 120 month period that occurs between January 1928 and September 2019 and pick a single calendar month. Use monthly return data for 'mrktf_ret' (created above) to test whether the excess return on the market is statistically significantly different during this calendar month than during the other eleven months. Run the appropriate regression, print your chosen month, print the estimated coefficient on the indicator variable for your chosen month, and print the p-value from the hypothesis test that this coefficient is equal to zero (in a two-sided test, which is the default assumption when reporting p-values)."
   ]
  },
  {
   "cell_type": "code",
   "execution_count": 7,
   "metadata": {},
   "outputs": [
    {
     "name": "stdout",
     "output_type": "stream",
     "text": [
      "192607 07 7\n"
     ]
    }
   ],
   "source": [
    "# I recommend using list comprehension to create variable that equals one during chosen month and zero otherwise\n",
    "# This is a trick for converting an array back into a list\n",
    "listdate = mktrf_yymm.tolist()\n",
    "print(listdate[0], listdate[0][-2:], int(listdate[0][-2:]))"
   ]
  },
  {
   "cell_type": "code",
   "execution_count": 8,
   "metadata": {},
   "outputs": [
    {
     "name": "stdout",
     "output_type": "stream",
     "text": [
      "The chosen month was June and the period is the 120 month period following January 1998\n",
      "\n",
      "                            OLS Regression Results                            \n",
      "==============================================================================\n",
      "Dep. Variable:                      y   R-squared:                       0.001\n",
      "Model:                            OLS   Adj. R-squared:                 -0.007\n",
      "Method:                 Least Squares   F-statistic:                    0.1212\n",
      "Date:                Tue, 17 Dec 2019   Prob (F-statistic):              0.728\n",
      "Time:                        00:08:44   Log-Likelihood:                 200.42\n",
      "No. Observations:                 120   AIC:                            -396.8\n",
      "Df Residuals:                     118   BIC:                            -391.3\n",
      "Df Model:                           1                                         \n",
      "Covariance Type:            nonrobust                                         \n",
      "==============================================================================\n",
      "                 coef    std err          t      P>|t|      [0.025      0.975]\n",
      "------------------------------------------------------------------------------\n",
      "const         -0.0014      0.004     -0.311      0.757      -0.010       0.007\n",
      "x1            -0.0053      0.015     -0.348      0.728      -0.035       0.025\n",
      "==============================================================================\n",
      "Omnibus:                       12.139   Durbin-Watson:                   1.665\n",
      "Prob(Omnibus):                  0.002   Jarque-Bera (JB):               12.847\n",
      "Skew:                          -0.698   Prob(JB):                      0.00162\n",
      "Kurtosis:                       3.786   Cond. No.                         3.65\n",
      "==============================================================================\n",
      "\n",
      "Warnings:\n",
      "[1] Standard Errors assume that the covariance matrix of the errors is correctly specified.\n",
      "\n",
      "The estimated coeffcient of June on returns during this preiod is: -0.0053\n",
      "The p value of June on returns during this preiod is:  0.7284\n"
     ]
    }
   ],
   "source": [
    "r = mktrf_ret.tolist()\n",
    "start = 0\n",
    "for i in range(len(listdate)):\n",
    "    if listdate[i][0:4] == '1998':\n",
    "        start = i\n",
    "        \n",
    "g = r[start:start+120]\n",
    "\n",
    "june = [0 for element in range(1,121,1)]\n",
    "\n",
    "x = 6\n",
    "june[x] = 1\n",
    "while x <= len(june):\n",
    "    x = x+12\n",
    "    if x <= len(june):\n",
    "        june[x] = 1\n",
    "    \n",
    "mr = np.array(g)\n",
    "j = np.array(june)\n",
    "\n",
    "reg_out = reg_m(np.reshape(mr,(120,1)),np.reshape(j,(120,1)))\n",
    "\n",
    "print('The chosen month was June and the period is the 120 month period following January 1998\\n')\n",
    "print(reg_out.summary())\n",
    "print('\\nThe estimated coeffcient of June on returns during this preiod is: {}'.format(float_formatter(reg_out.params[1])))\n",
    "print('The p value of June on returns during this preiod is: {}'.format(float_formatter(reg_out.pvalues[1])))"
   ]
  },
  {
   "cell_type": "markdown",
   "metadata": {},
   "source": [
    "<b>(3 points) Question 2.</b> Pick one of your two stocks from Project 3 Part 1. Use all non-missing daily returns for this stock between October 2015 and September 2019 to estimate the Fama-French three-factor model. Recall that the dependent variable should be the daily stock return in excess of the daily risk-free rate of return.\n",
    "\n",
    "Print a table with three columns. Column one will contain “alpha” “beta on MKTRF”, “beta on SMB”, and “beta on HML”, column two will contain the corresponding estimated coefficients, and column three will contain the p-values from the hypothesis tests that the estimated coefficients for “alpha” is equal to zero, …, from the hypothesis test that the estimated coefficients for “beta on HML” is equal to zero."
   ]
  },
  {
   "cell_type": "code",
   "execution_count": 9,
   "metadata": {},
   "outputs": [],
   "source": [
    "os.chdir('/Users/leonrem/Desktop/Data Analytics/Projects/Project 3')   # Where .npy are stored on my computer\n",
    "ff_rets = np.load('Project3_ret.npy')\n",
    "ff_cols = np.load('Project3_ret_cols.npy')\n",
    "ff_date = np.load('Project3_ret_rows.npy')\n",
    "costco = np.load('cost.npy')\n",
    "dates = np.load('dates_cost.npy')"
   ]
  },
  {
   "cell_type": "code",
   "execution_count": 10,
   "metadata": {},
   "outputs": [
    {
     "name": "stdout",
     "output_type": "stream",
     "text": [
      "True\n",
      "True\n",
      "True\n"
     ]
    }
   ],
   "source": [
    "# Code that I use to test that stock return array is the same size as ff_date array\n",
    "print(ff_date.shape==dates.shape)\n",
    "print(ff_date[0]==dates[0])\n",
    "print(ff_date[-1]==dates[-1])"
   ]
  },
  {
   "cell_type": "code",
   "execution_count": 11,
   "metadata": {},
   "outputs": [
    {
     "name": "stdout",
     "output_type": "stream",
     "text": [
      "MKTRF\n",
      "[[ 0.0013 -0.0045 -0.0004 ...  0.0063 -0.0656 -0.0074]\n",
      " [ 0.0148  0.0034 -0.0084 ... -0.0011 -0.0169 -0.0071]\n",
      " [ 0.0193  0.0062  0.0077 ...  0.0130 -0.0736  0.0254]\n",
      " ...\n",
      " [-0.0041 -0.0096  0.0011 ... -0.0434 -0.0243 -0.0155]\n",
      " [-0.0062 -0.0035  0.0088 ...  0.0164  0.0479 -0.0072]\n",
      " [ 0.0050 -0.0014 -0.0049 ...  0.0051  0.0295 -0.0057]]\n"
     ]
    }
   ],
   "source": [
    "print(ff_cols[0])\n",
    "print(ff_rets)"
   ]
  },
  {
   "cell_type": "code",
   "execution_count": 12,
   "metadata": {
    "scrolled": true
   },
   "outputs": [
    {
     "name": "stdout",
     "output_type": "stream",
     "text": [
      "\t\t     Coef.   P-value\n",
      "\n",
      "alpha\t            0.0008   0.0333\n",
      "beta on MKTRF      -0.0365   0.4253\n",
      "beta on SMB         0.1870   0.0149\n",
      "beta on HML        -0.0103   0.8794\n"
     ]
    }
   ],
   "source": [
    "rf    = ff_rets[:,ff_cols=='RF']\n",
    "dep_var = costco.reshape(1006,1) - rf\n",
    "mktrf = ff_rets[:,ff_cols=='MKTRF']\n",
    "smb = ff_rets[:,ff_cols=='SMB']\n",
    "hml = ff_rets[:,ff_cols=='HML']\n",
    "\n",
    "X = np.hstack((mktrf,smb,hml))\n",
    "\n",
    "reg_out = reg_m(dep_var,X)\n",
    "\n",
    "vars = ['alpha\\t     ','beta on MKTRF','beta on SMB  ','beta on HML  ']\n",
    "print(\"\\t\\t     Coef.   P-value\")\n",
    "print(\"\")\n",
    "for num in range(len(vars)):\n",
    "    print(\"{}      {:7.4f}  {:7.4f}\".\n",
    "         format(vars[num],reg_out.params[num],reg_out.pvalues[num]))"
   ]
  },
  {
   "cell_type": "code",
   "execution_count": 13,
   "metadata": {},
   "outputs": [
    {
     "data": {
      "text/html": [
       "<table class=\"simpletable\">\n",
       "<caption>OLS Regression Results</caption>\n",
       "<tr>\n",
       "  <th>Dep. Variable:</th>            <td>y</td>        <th>  R-squared:         </th> <td>   0.006</td>\n",
       "</tr>\n",
       "<tr>\n",
       "  <th>Model:</th>                   <td>OLS</td>       <th>  Adj. R-squared:    </th> <td>   0.003</td>\n",
       "</tr>\n",
       "<tr>\n",
       "  <th>Method:</th>             <td>Least Squares</td>  <th>  F-statistic:       </th> <td>   2.027</td>\n",
       "</tr>\n",
       "<tr>\n",
       "  <th>Date:</th>             <td>Tue, 17 Dec 2019</td> <th>  Prob (F-statistic):</th>  <td> 0.108</td> \n",
       "</tr>\n",
       "<tr>\n",
       "  <th>Time:</th>                 <td>00:09:01</td>     <th>  Log-Likelihood:    </th> <td>  3013.8</td>\n",
       "</tr>\n",
       "<tr>\n",
       "  <th>No. Observations:</th>      <td>  1006</td>      <th>  AIC:               </th> <td>  -6020.</td>\n",
       "</tr>\n",
       "<tr>\n",
       "  <th>Df Residuals:</th>          <td>  1002</td>      <th>  BIC:               </th> <td>  -6000.</td>\n",
       "</tr>\n",
       "<tr>\n",
       "  <th>Df Model:</th>              <td>     3</td>      <th>                     </th>     <td> </td>   \n",
       "</tr>\n",
       "<tr>\n",
       "  <th>Covariance Type:</th>      <td>nonrobust</td>    <th>                     </th>     <td> </td>   \n",
       "</tr>\n",
       "</table>\n",
       "<table class=\"simpletable\">\n",
       "<tr>\n",
       "    <td></td>       <th>coef</th>     <th>std err</th>      <th>t</th>      <th>P>|t|</th>  <th>[0.025</th>    <th>0.975]</th>  \n",
       "</tr>\n",
       "<tr>\n",
       "  <th>const</th> <td>    0.0008</td> <td>    0.000</td> <td>    2.131</td> <td> 0.033</td> <td> 6.46e-05</td> <td>    0.002</td>\n",
       "</tr>\n",
       "<tr>\n",
       "  <th>x1</th>    <td>   -0.0365</td> <td>    0.046</td> <td>   -0.798</td> <td> 0.425</td> <td>   -0.126</td> <td>    0.053</td>\n",
       "</tr>\n",
       "<tr>\n",
       "  <th>x2</th>    <td>    0.1870</td> <td>    0.077</td> <td>    2.439</td> <td> 0.015</td> <td>    0.037</td> <td>    0.337</td>\n",
       "</tr>\n",
       "<tr>\n",
       "  <th>x3</th>    <td>   -0.0103</td> <td>    0.068</td> <td>   -0.152</td> <td> 0.879</td> <td>   -0.144</td> <td>    0.123</td>\n",
       "</tr>\n",
       "</table>\n",
       "<table class=\"simpletable\">\n",
       "<tr>\n",
       "  <th>Omnibus:</th>       <td>219.904</td> <th>  Durbin-Watson:     </th> <td>   1.920</td>\n",
       "</tr>\n",
       "<tr>\n",
       "  <th>Prob(Omnibus):</th> <td> 0.000</td>  <th>  Jarque-Bera (JB):  </th> <td>1675.666</td>\n",
       "</tr>\n",
       "<tr>\n",
       "  <th>Skew:</th>          <td>-0.783</td>  <th>  Prob(JB):          </th> <td>    0.00</td>\n",
       "</tr>\n",
       "<tr>\n",
       "  <th>Kurtosis:</th>      <td> 9.126</td>  <th>  Cond. No.          </th> <td>    203.</td>\n",
       "</tr>\n",
       "</table><br/><br/>Warnings:<br/>[1] Standard Errors assume that the covariance matrix of the errors is correctly specified."
      ],
      "text/plain": [
       "<class 'statsmodels.iolib.summary.Summary'>\n",
       "\"\"\"\n",
       "                            OLS Regression Results                            \n",
       "==============================================================================\n",
       "Dep. Variable:                      y   R-squared:                       0.006\n",
       "Model:                            OLS   Adj. R-squared:                  0.003\n",
       "Method:                 Least Squares   F-statistic:                     2.027\n",
       "Date:                Tue, 17 Dec 2019   Prob (F-statistic):              0.108\n",
       "Time:                        00:09:01   Log-Likelihood:                 3013.8\n",
       "No. Observations:                1006   AIC:                            -6020.\n",
       "Df Residuals:                    1002   BIC:                            -6000.\n",
       "Df Model:                           3                                         \n",
       "Covariance Type:            nonrobust                                         \n",
       "==============================================================================\n",
       "                 coef    std err          t      P>|t|      [0.025      0.975]\n",
       "------------------------------------------------------------------------------\n",
       "const          0.0008      0.000      2.131      0.033    6.46e-05       0.002\n",
       "x1            -0.0365      0.046     -0.798      0.425      -0.126       0.053\n",
       "x2             0.1870      0.077      2.439      0.015       0.037       0.337\n",
       "x3            -0.0103      0.068     -0.152      0.879      -0.144       0.123\n",
       "==============================================================================\n",
       "Omnibus:                      219.904   Durbin-Watson:                   1.920\n",
       "Prob(Omnibus):                  0.000   Jarque-Bera (JB):             1675.666\n",
       "Skew:                          -0.783   Prob(JB):                         0.00\n",
       "Kurtosis:                       9.126   Cond. No.                         203.\n",
       "==============================================================================\n",
       "\n",
       "Warnings:\n",
       "[1] Standard Errors assume that the covariance matrix of the errors is correctly specified.\n",
       "\"\"\""
      ]
     },
     "execution_count": 13,
     "metadata": {},
     "output_type": "execute_result"
    }
   ],
   "source": [
    "reg_out.summary()"
   ]
  },
  {
   "cell_type": "markdown",
   "metadata": {},
   "source": [
    "<b>(4 points) Question 3.</b> Use the daily returns for your other stock from Project 3 Part 1 to estimate an extended version of the Fama-French three-factor model that allows you to test whether the alpha on this stock is statistically significantly higher or lower during the last two years of the sample period than during the first two years. To implement this test, you must add an additional independent variable that takes the value of zero during the first half of your data (201510 to 201709) and takes the value of one during the second half of your data (201710 to 201909). Write an if-else statement that prints the p-value associated with this hypothesis test and states whether the coefficient is statistically significant at the 10-percent level or below."
   ]
  },
  {
   "cell_type": "code",
   "execution_count": 14,
   "metadata": {},
   "outputs": [],
   "source": [
    "ea = np.load('ea.npy')\n",
    "dates_ea = np.load('dates_ea.npy')"
   ]
  },
  {
   "cell_type": "code",
   "execution_count": 15,
   "metadata": {},
   "outputs": [
    {
     "name": "stdout",
     "output_type": "stream",
     "text": [
      "True\n",
      "True\n",
      "True\n"
     ]
    }
   ],
   "source": [
    "print(ff_date.shape==dates_ea.shape)\n",
    "print(ff_date[0]==dates_ea[0])\n",
    "print(ff_date[-1]==dates_ea[-1])"
   ]
  },
  {
   "cell_type": "code",
   "execution_count": 16,
   "metadata": {},
   "outputs": [
    {
     "name": "stdout",
     "output_type": "stream",
     "text": [
      "20151001 20190930\n"
     ]
    }
   ],
   "source": [
    "# You want to distinguish dates through 20170930 from those after 20170930\n",
    "listdate = ff_date.tolist()\n",
    "print(listdate[0], listdate[-1])"
   ]
  },
  {
   "cell_type": "code",
   "execution_count": 17,
   "metadata": {},
   "outputs": [
    {
     "name": "stdout",
     "output_type": "stream",
     "text": [
      "The p-value associated with the new interval variable is: 0.3398\n",
      "Therefore, the coefficent associated with this variable is not statistically significant,\n",
      "and the alpha of this stock is not significantly higher during the second half of the sample period.\n"
     ]
    },
    {
     "data": {
      "text/html": [
       "<table class=\"simpletable\">\n",
       "<caption>OLS Regression Results</caption>\n",
       "<tr>\n",
       "  <th>Dep. Variable:</th>            <td>y</td>        <th>  R-squared:         </th> <td>   0.007</td>\n",
       "</tr>\n",
       "<tr>\n",
       "  <th>Model:</th>                   <td>OLS</td>       <th>  Adj. R-squared:    </th> <td>   0.003</td>\n",
       "</tr>\n",
       "<tr>\n",
       "  <th>Method:</th>             <td>Least Squares</td>  <th>  F-statistic:       </th> <td>   1.748</td>\n",
       "</tr>\n",
       "<tr>\n",
       "  <th>Date:</th>             <td>Tue, 17 Dec 2019</td> <th>  Prob (F-statistic):</th>  <td> 0.137</td> \n",
       "</tr>\n",
       "<tr>\n",
       "  <th>Time:</th>                 <td>00:09:18</td>     <th>  Log-Likelihood:    </th> <td>  3014.3</td>\n",
       "</tr>\n",
       "<tr>\n",
       "  <th>No. Observations:</th>      <td>  1006</td>      <th>  AIC:               </th> <td>  -6019.</td>\n",
       "</tr>\n",
       "<tr>\n",
       "  <th>Df Residuals:</th>          <td>  1001</td>      <th>  BIC:               </th> <td>  -5994.</td>\n",
       "</tr>\n",
       "<tr>\n",
       "  <th>Df Model:</th>              <td>     4</td>      <th>                     </th>     <td> </td>   \n",
       "</tr>\n",
       "<tr>\n",
       "  <th>Covariance Type:</th>      <td>nonrobust</td>    <th>                     </th>     <td> </td>   \n",
       "</tr>\n",
       "</table>\n",
       "<table class=\"simpletable\">\n",
       "<tr>\n",
       "    <td></td>       <th>coef</th>     <th>std err</th>      <th>t</th>      <th>P>|t|</th>  <th>[0.025</th>    <th>0.975]</th>  \n",
       "</tr>\n",
       "<tr>\n",
       "  <th>const</th> <td>    0.0005</td> <td>    0.001</td> <td>    0.835</td> <td> 0.404</td> <td>   -0.001</td> <td>    0.002</td>\n",
       "</tr>\n",
       "<tr>\n",
       "  <th>x1</th>    <td>   -0.0359</td> <td>    0.046</td> <td>   -0.784</td> <td> 0.433</td> <td>   -0.126</td> <td>    0.054</td>\n",
       "</tr>\n",
       "<tr>\n",
       "  <th>x2</th>    <td>    0.1895</td> <td>    0.077</td> <td>    2.470</td> <td> 0.014</td> <td>    0.039</td> <td>    0.340</td>\n",
       "</tr>\n",
       "<tr>\n",
       "  <th>x3</th>    <td>   -0.0075</td> <td>    0.068</td> <td>   -0.111</td> <td> 0.912</td> <td>   -0.141</td> <td>    0.126</td>\n",
       "</tr>\n",
       "<tr>\n",
       "  <th>x4</th>    <td>    0.0007</td> <td>    0.001</td> <td>    0.955</td> <td> 0.340</td> <td>   -0.001</td> <td>    0.002</td>\n",
       "</tr>\n",
       "</table>\n",
       "<table class=\"simpletable\">\n",
       "<tr>\n",
       "  <th>Omnibus:</th>       <td>222.311</td> <th>  Durbin-Watson:     </th> <td>   1.922</td>\n",
       "</tr>\n",
       "<tr>\n",
       "  <th>Prob(Omnibus):</th> <td> 0.000</td>  <th>  Jarque-Bera (JB):  </th> <td>1692.386</td>\n",
       "</tr>\n",
       "<tr>\n",
       "  <th>Skew:</th>          <td>-0.794</td>  <th>  Prob(JB):          </th> <td>    0.00</td>\n",
       "</tr>\n",
       "<tr>\n",
       "  <th>Kurtosis:</th>      <td> 9.152</td>  <th>  Cond. No.          </th> <td>    232.</td>\n",
       "</tr>\n",
       "</table><br/><br/>Warnings:<br/>[1] Standard Errors assume that the covariance matrix of the errors is correctly specified."
      ],
      "text/plain": [
       "<class 'statsmodels.iolib.summary.Summary'>\n",
       "\"\"\"\n",
       "                            OLS Regression Results                            \n",
       "==============================================================================\n",
       "Dep. Variable:                      y   R-squared:                       0.007\n",
       "Model:                            OLS   Adj. R-squared:                  0.003\n",
       "Method:                 Least Squares   F-statistic:                     1.748\n",
       "Date:                Tue, 17 Dec 2019   Prob (F-statistic):              0.137\n",
       "Time:                        00:09:18   Log-Likelihood:                 3014.3\n",
       "No. Observations:                1006   AIC:                            -6019.\n",
       "Df Residuals:                    1001   BIC:                            -5994.\n",
       "Df Model:                           4                                         \n",
       "Covariance Type:            nonrobust                                         \n",
       "==============================================================================\n",
       "                 coef    std err          t      P>|t|      [0.025      0.975]\n",
       "------------------------------------------------------------------------------\n",
       "const          0.0005      0.001      0.835      0.404      -0.001       0.002\n",
       "x1            -0.0359      0.046     -0.784      0.433      -0.126       0.054\n",
       "x2             0.1895      0.077      2.470      0.014       0.039       0.340\n",
       "x3            -0.0075      0.068     -0.111      0.912      -0.141       0.126\n",
       "x4             0.0007      0.001      0.955      0.340      -0.001       0.002\n",
       "==============================================================================\n",
       "Omnibus:                      222.311   Durbin-Watson:                   1.922\n",
       "Prob(Omnibus):                  0.000   Jarque-Bera (JB):             1692.386\n",
       "Skew:                          -0.794   Prob(JB):                         0.00\n",
       "Kurtosis:                       9.152   Cond. No.                         232.\n",
       "==============================================================================\n",
       "\n",
       "Warnings:\n",
       "[1] Standard Errors assume that the covariance matrix of the errors is correctly specified.\n",
       "\"\"\""
      ]
     },
     "execution_count": 17,
     "metadata": {},
     "output_type": "execute_result"
    }
   ],
   "source": [
    "halftime = []\n",
    "for i in range(len(listdate)):\n",
    "    if int(listdate[i]) >= 20171000:\n",
    "        halftime.append(1)\n",
    "    else:\n",
    "        halftime.append(0)\n",
    "\n",
    "interval = np.array(halftime).reshape(1006,1)\n",
    "\n",
    "X = np.hstack((mktrf,smb,hml,interval))\n",
    "\n",
    "dep_var1 = ea.reshape(1006,1) - rf\n",
    "\n",
    "reg_out = reg_m(dep_var,X)\n",
    "\n",
    "print('The p-value associated with the new interval variable is:{}'.format(float_formatter(reg_out.pvalues[-1])))\n",
    "\n",
    "if (reg_out.params[-1]) >= 0.1:\n",
    "    print('Therefore, the coefficent associated with this variable is not statistically significant,')\n",
    "    if reg_out.params[0]>0:\n",
    "        print('and the alpha of this stock is not significantly higher during the second half of the sample period.')\n",
    "    else:\n",
    "        print('and the alpha of this stock is not significantly lower during the second half of the sample period.\\n')\n",
    "else:\n",
    "    print('Therefore, the coefficent associated with this variable is statistically significant,')\n",
    "    if reg_out.params[0]>0:\n",
    "            print('and the alpha of this stock is significantly higher during the second half of the sample period.')\n",
    "    else:\n",
    "        print('and the alpha of this stock is significantly lower during the second half of the sample period.\\n')\n",
    "\n",
    "reg_out.summary()      \n",
    "      \n",
    "\n",
    "      "
   ]
  },
  {
   "cell_type": "code",
   "execution_count": null,
   "metadata": {},
   "outputs": [],
   "source": []
  }
 ],
 "metadata": {
  "kernelspec": {
   "display_name": "Python 3",
   "language": "python",
   "name": "python3"
  },
  "language_info": {
   "codemirror_mode": {
    "name": "ipython",
    "version": 3
   },
   "file_extension": ".py",
   "mimetype": "text/x-python",
   "name": "python",
   "nbconvert_exporter": "python",
   "pygments_lexer": "ipython3",
   "version": "3.7.3"
  }
 },
 "nbformat": 4,
 "nbformat_minor": 2
}
