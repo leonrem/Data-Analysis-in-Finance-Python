{
 "cells": [
  {
   "cell_type": "markdown",
   "metadata": {},
   "source": [
    "# Project 2 - Part 1\n",
    "\n",
    "<b>You may work on these project in groups of 1-4 students (including you).</b>"
   ]
  },
  {
   "cell_type": "code",
   "execution_count": null,
   "metadata": {},
   "outputs": [],
   "source": [
    "# I reworked the code that prints your names\n",
    "\n",
    "name_l = [\"Member 1\", \"Member 2\", \"Member 3\", \"Member 4\"]     # Please add group names to this list; delete \"Member 2\" if group of one\n",
    "name_s = name_l[0] + \", \"\n",
    "if len(name_l) > 1:\n",
    "    for name in name_l[1:]:\n",
    "        name_s = name_s + name + \", \"\n",
    "\n",
    "print(\"Project 2 Part 1 submission for {}.\".format(name_s[0:-2]))"
   ]
  },
  {
   "cell_type": "markdown",
   "metadata": {},
   "source": [
    "<b>Rules: When answering the questions below, you are welcome to re-use functions contained in notebooks 1.1a - 2.1, or any of the prior HWs. This is intended to be a group project which means that you may collaborate with your the people in your group. However, you are not allowed to collaborate on this project with any others classmates or to seek advice from any of your other friends.</b>"
   ]
  },
  {
   "cell_type": "code",
   "execution_count": 1,
   "metadata": {},
   "outputs": [],
   "source": [
    "# Libraries that you may or may not need in Part 1\n",
    "import os\n",
    "import random\n",
    "import math\n",
    "import statistics"
   ]
  },
  {
   "cell_type": "markdown",
   "metadata": {},
   "source": [
    "<b>(0 points) 1.</b> Pick a president from this set of recent two-term presidents: Reagan, Clinton, Bush, and Obama."
   ]
  },
  {
   "cell_type": "code",
   "execution_count": null,
   "metadata": {},
   "outputs": [],
   "source": [
    "# pres = \"Reagan\"       # This is just an example. Choose whoever you like."
   ]
  },
  {
   "cell_type": "markdown",
   "metadata": {},
   "source": [
    "<b>(2 points) 2.</b> Create a for loop that loops over the State of the Union (SOTU) speeches in the Project2 folder (created and populated by the code for Topic 1.10) and print the names of the files that you will be analyzing. Please specify each file name as an absolute path.\n",
    "\n",
    "- Use <b>os.listdir()</b> to create a list of all possible speeches.\n",
    "- Use a for loop and the string 'pres' to decide which file names to print.\n",
    "- Use <b>os.path.join()</b> to create an absolute file path.\n",
    "- Print one absolute path per line."
   ]
  },
  {
   "cell_type": "code",
   "execution_count": null,
   "metadata": {},
   "outputs": [],
   "source": [
    "# Your code here"
   ]
  },
  {
   "cell_type": "markdown",
   "metadata": {},
   "source": [
    "<b>(1 point) 3.</b> Import each of the four word lists (1.6_LM_positive.txt, 1.6_LM_negative.txt, 1.6_LM_litigious.txt, 1.6_LM_uncertainty.txt) as a separate <b>list of words</b>. Please name these lists 'pos', 'neg', 'lit', and 'unc'."
   ]
  },
  {
   "cell_type": "code",
   "execution_count": null,
   "metadata": {},
   "outputs": [],
   "source": [
    "# Your code here"
   ]
  },
  {
   "cell_type": "markdown",
   "metadata": {},
   "source": [
    "<b>(4 points) 4.</b> Modify the for loop created in question 2 so that it calculates the number of positive words, negative words, litigious words, and uncertainty words in each of the SOTU speeches. <b>Before converting each SOTU into a list of words, please remove as much punctuation as possible. You are welcome to exclude any strings that consist entirely of digits, but you are not required to do so.</b>\n",
    "\n",
    "Create a list of tuples where there is one tuple per SOTU speech and each tuple is of the form:\n",
    "\n",
    "(pres, year, fraction of positive words, fraction of negative words, fraction of uncertain words, fraction of litigious words). \n",
    "\n",
    "Obviously, to calculate the fraction of positive words, you need to calculate both the number of positive words and the total number of words.\n",
    "\n",
    "Print the list so that there is one tuple per line. There is no need to use any <b>.format()</b> statements."
   ]
  },
  {
   "cell_type": "code",
   "execution_count": null,
   "metadata": {},
   "outputs": [],
   "source": [
    "# Your code here"
   ]
  },
  {
   "cell_type": "markdown",
   "metadata": {},
   "source": [
    "<b>(3 points) 5.</b> Import both 'Indicator_djia_return.csv' and 'Indicator_unemp_rate.csv'. Create a list of tuples of the form:\n",
    "\n",
    "(year, DJIA return this year, DJIA return last year, unemployment rate this year, unemployment rate last year, change in unemployment rate between last year and this year, <b>change in unemployment rate between this year and next year)</b>\n",
    "\n",
    "Limit this list to the seven or eight years for which you observe SOTU for your president.\n",
    "\n",
    "Print the list so that there is one tuple per line. There is no need to use any <b>.format()</b> statements."
   ]
  },
  {
   "cell_type": "code",
   "execution_count": null,
   "metadata": {},
   "outputs": [],
   "source": [
    "# Your code here"
   ]
  },
  {
   "cell_type": "markdown",
   "metadata": {},
   "source": [
    "<b>(0 points) 6.</b> If you would like to be eligible for the bonus point in Part 2, you need to tell us what additional economic indicator that you plan to analyze in Part 2 and provide the URL of a website where you expect to be able to download the data. (You do not need to begin processing these data yet.)"
   ]
  },
  {
   "cell_type": "code",
   "execution_count": null,
   "metadata": {},
   "outputs": [],
   "source": [
    "# Please update these strings\n",
    "data = 'Name of economic indicator here'\n",
    "url  = 'URL pointing to website containing these data'"
   ]
  },
  {
   "cell_type": "code",
   "execution_count": null,
   "metadata": {},
   "outputs": [],
   "source": [
    "print('We plan to analyze \"{}\",\\nwhich is available at \"{}\".'.format(data,url))"
   ]
  },
  {
   "cell_type": "code",
   "execution_count": null,
   "metadata": {},
   "outputs": [],
   "source": []
  }
 ],
 "metadata": {
  "kernelspec": {
   "display_name": "Python 3",
   "language": "python",
   "name": "python3"
  },
  "language_info": {
   "codemirror_mode": {
    "name": "ipython",
    "version": 3
   },
   "file_extension": ".py",
   "mimetype": "text/x-python",
   "name": "python",
   "nbconvert_exporter": "python",
   "pygments_lexer": "ipython3",
   "version": "3.7.3"
  }
 },
 "nbformat": 4,
 "nbformat_minor": 2
}
