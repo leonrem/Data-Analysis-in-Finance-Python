{
 "cells": [
  {
   "cell_type": "markdown",
   "metadata": {},
   "source": [
    "# Solutions to Project 2 - Part 1"
   ]
  },
  {
   "cell_type": "code",
   "execution_count": 1,
   "metadata": {},
   "outputs": [
    {
     "name": "stdout",
     "output_type": "stream",
     "text": [
      "Project 2 Part 1 submission for Jon Reuter.\n"
     ]
    }
   ],
   "source": [
    "# I reworked the code that prints your names\n",
    "\n",
    "name_l = [\"Jon Reuter\"]     # Please add group names to this list; delete \"Member 2\" if group of one\n",
    "name_s = name_l[0] + \", \"\n",
    "if len(name_l) > 1:\n",
    "    for name in name_l[1:]:\n",
    "        name_s = name_s + name + \", \"\n",
    "\n",
    "print(\"Project 2 Part 1 submission for {}.\".format(name_s[0:-2]))"
   ]
  },
  {
   "cell_type": "markdown",
   "metadata": {},
   "source": [
    "<b>Rules: When answering the questions below, you are welcome to re-use functions contained in notebooks 1.1a - 2.1, or any of the prior HWs. This is intended to be a group project which means that you may collaborate with your the people in your group. However, you are not allowed to collaborate on this project with any others classmates or to seek advice from any of your other friends.</b>"
   ]
  },
  {
   "cell_type": "code",
   "execution_count": 2,
   "metadata": {},
   "outputs": [],
   "source": [
    "# Libraries that you may or may not need in Part 1\n",
    "import os\n",
    "import re\n",
    "import random\n",
    "import math\n",
    "import statistics"
   ]
  },
  {
   "cell_type": "markdown",
   "metadata": {},
   "source": [
    "<b>(0 points) 1.</b> Pick a president from this set of recent two-term presidents: Reagan, Clinton, Bush, and Obama."
   ]
  },
  {
   "cell_type": "code",
   "execution_count": 3,
   "metadata": {},
   "outputs": [],
   "source": [
    "pres = \"Obama\"       # This is just an example. Choose whomever you like."
   ]
  },
  {
   "cell_type": "markdown",
   "metadata": {},
   "source": [
    "<b>(2 points) 2.</b> Create a for loop that loops over the State of the Union (SOTU) speeches in the Project2 folder (created and populated by the code for Topic 1.10) and print the names of the files that you will be analyzing. Please specify each file name as an absolute path.\n",
    "\n",
    "- Use <b>os.listdir()</b> to create a list of all possible speeches.\n",
    "- Use a for loop and the string 'pres' to decide which file names to print.\n",
    "- Use <b>os.path.join()</b> to create an absolute file path.\n",
    "- Print one absolute path per line."
   ]
  },
  {
   "cell_type": "code",
   "execution_count": 4,
   "metadata": {},
   "outputs": [],
   "source": [
    "os.chdir(\"/Users/reuterj/Documents/Coding/Python/JupyterNotebook/Project2\")"
   ]
  },
  {
   "cell_type": "code",
   "execution_count": 5,
   "metadata": {},
   "outputs": [],
   "source": [
    "files = os.listdir(os.getcwd())"
   ]
  },
  {
   "cell_type": "code",
   "execution_count": 6,
   "metadata": {},
   "outputs": [
    {
     "name": "stdout",
     "output_type": "stream",
     "text": [
      "/Users/reuterj/Documents/Coding/Python/JupyterNotebook/Project2/Obama_2015.txt\n",
      "/Users/reuterj/Documents/Coding/Python/JupyterNotebook/Project2/Obama_2014.txt\n",
      "/Users/reuterj/Documents/Coding/Python/JupyterNotebook/Project2/Obama_2016.txt\n",
      "/Users/reuterj/Documents/Coding/Python/JupyterNotebook/Project2/Obama_2013.txt\n",
      "/Users/reuterj/Documents/Coding/Python/JupyterNotebook/Project2/Obama_2012.txt\n",
      "/Users/reuterj/Documents/Coding/Python/JupyterNotebook/Project2/Obama_2010.txt\n",
      "/Users/reuterj/Documents/Coding/Python/JupyterNotebook/Project2/Obama_2011.txt\n",
      "/Users/reuterj/Documents/Coding/Python/JupyterNotebook/Project2/Obama_2009.txt\n"
     ]
    }
   ],
   "source": [
    "filesabs = []\n",
    "for f in files:\n",
    "    if pres in f:\n",
    "        print(os.path.join(os.getcwd(), f))\n",
    "        filesabs.append(os.path.join(os.getcwd(), f))"
   ]
  },
  {
   "cell_type": "markdown",
   "metadata": {},
   "source": [
    "<b>(1 point) 3.</b> Import each of the four word lists (1.6_LM_positive.txt, 1.6_LM_negative.txt, 1.6_LM_litigious.txt, 1.6_LM_uncertainty.txt) as a separate <b>list of words</b>. Please name these lists 'pos', 'neg', 'lit', and 'unc'."
   ]
  },
  {
   "cell_type": "code",
   "execution_count": 7,
   "metadata": {},
   "outputs": [],
   "source": [
    "os.chdir(\"/Users/reuterj/Documents/Coding/Python/JupyterNotebook/\")"
   ]
  },
  {
   "cell_type": "code",
   "execution_count": 8,
   "metadata": {},
   "outputs": [],
   "source": [
    "def cat_list(file):\n",
    "    f = open(file, 'r')\n",
    "    lines = f.readlines()        # Converts file into list where each element is a separate line\n",
    "    f.close()  \n",
    "    lines = [element.rstrip() for element in lines]     # removes space characters on right side of string\n",
    "    return lines"
   ]
  },
  {
   "cell_type": "code",
   "execution_count": 9,
   "metadata": {},
   "outputs": [],
   "source": [
    "pos = cat_list('1.6_LM_positive.txt')\n",
    "neg = cat_list('1.6_LM_negative.txt')\n",
    "lit = cat_list('1.6_LM_litigious.txt')\n",
    "unc = cat_list('1.6_LM_uncertainty.txt')"
   ]
  },
  {
   "cell_type": "code",
   "execution_count": 10,
   "metadata": {},
   "outputs": [
    {
     "name": "stdout",
     "output_type": "stream",
     "text": [
      "354 2355 903 297\n"
     ]
    }
   ],
   "source": [
    "print(len(pos), len(neg), len(lit), len(unc))"
   ]
  },
  {
   "cell_type": "markdown",
   "metadata": {},
   "source": [
    "<b>(4 points) 4.</b> Modify the for loop created in question 2 so that it calculates the number of positive words, negative words, litigious words, and uncertainty words in each of the SOTU speeches. <b>Before converting each SOTU into a list of words, please remove as much punctuation as possible. You are welcome to exclude any strings that consist entirely of digits, but you are not required to do so.</b>\n",
    "\n",
    "Create a list of tuples where there is one tuple per SOTU speech and each tuple is of the form:\n",
    "\n",
    "(pres, year, fraction of positive words, fraction of negative words, fraction of uncertain words, fraction of litigious words). \n",
    "\n",
    "Obviously, to calculate the fraction of positive words, you need to calculate both the number of positive words and the total number of words.\n",
    "\n",
    "Print the list so that there is one tuple per line. There is no need to use any <b>.format()</b> statements."
   ]
  },
  {
   "cell_type": "code",
   "execution_count": 11,
   "metadata": {},
   "outputs": [],
   "source": [
    "os.chdir(\"/Users/reuterj/Documents/Coding/Python/JupyterNotebook/Project2\")"
   ]
  },
  {
   "cell_type": "code",
   "execution_count": 12,
   "metadata": {},
   "outputs": [],
   "source": [
    "def cat_text(file):\n",
    "    f = open(file, 'r')\n",
    "    text = f.read()\n",
    "    text = text.replace(\"\\n\",\" \")\n",
    "    text = text.replace(\":\",\" \")\n",
    "    text = text.replace(\";\",\" \")\n",
    "    text = text.replace(\",\",\" \")\n",
    "    text = text.replace(\".\",\" \")\n",
    "    text = text.replace('\"',\" \")\n",
    "    text = text.replace(\"-\",\" \")\n",
    "    text = text.replace(\"   \",\"  \")\n",
    "    text = text.replace(\"  \",\" \")\n",
    "    text = text.upper()\n",
    "    f.close()\n",
    "    return text"
   ]
  },
  {
   "cell_type": "code",
   "execution_count": 13,
   "metadata": {
    "scrolled": true
   },
   "outputs": [],
   "source": [
    "sotu = []\n",
    "\n",
    "for f in sorted(filesabs):\n",
    "    \n",
    "    year = int(re.findall('(\\d{4})',f)[0])\n",
    "    \n",
    "    sotu_text  = cat_text(f)\n",
    "    sotu_words = sotu_text.split(\" \")\n",
    "    sotu_words = [element for element in sotu_words if element != \"\"]\n",
    "    \n",
    "    count_pos = 0\n",
    "    count_neg = 0\n",
    "    count_lit = 0\n",
    "    count_unc = 0\n",
    "    count_all = 0\n",
    "    \n",
    "    for w in sotu_words:\n",
    "        if w in pos:\n",
    "            count_pos += 1\n",
    "        if w in neg:\n",
    "            count_neg += 1\n",
    "        if w in lit:\n",
    "            count_lit += 1\n",
    "        if w in unc:\n",
    "            count_unc += 1\n",
    "        count_all += 1\n",
    "\n",
    "    frac_pos = round(count_pos / count_all,4)\n",
    "    frac_neg = round(count_neg / count_all,4)\n",
    "    frac_lit = round(count_lit / count_all,4)\n",
    "    frac_unc = round(count_unc / count_all,4)\n",
    "        \n",
    "    sotu.append((pres, year, frac_pos, frac_neg, frac_lit, frac_unc))    "
   ]
  },
  {
   "cell_type": "code",
   "execution_count": 14,
   "metadata": {},
   "outputs": [
    {
     "name": "stdout",
     "output_type": "stream",
     "text": [
      "('Obama', 2009, 0.0135, 0.0283, 0.0025, 0.005)\n",
      "('Obama', 2010, 0.0122, 0.0281, 0.0027, 0.0048)\n",
      "('Obama', 2011, 0.0186, 0.0153, 0.0032, 0.0074)\n",
      "('Obama', 2012, 0.0114, 0.0194, 0.0026, 0.0057)\n",
      "('Obama', 2013, 0.0136, 0.0157, 0.0032, 0.0037)\n",
      "('Obama', 2014, 0.0193, 0.0159, 0.0023, 0.006)\n",
      "('Obama', 2015, 0.0166, 0.0182, 0.0024, 0.0058)\n",
      "('Obama', 2016, 0.0168, 0.0214, 0.0024, 0.0068)\n"
     ]
    }
   ],
   "source": [
    "for line in sotu:\n",
    "    print(line)"
   ]
  },
  {
   "cell_type": "markdown",
   "metadata": {},
   "source": [
    "<b>(3 points) 5.</b> Import both 'Indicator_djia_return.csv' and 'Indicator_unemp_rate.csv'. Create a list of tuples of the form:\n",
    "\n",
    "(year, DJIA return this year, DJIA return last year, unemployment rate this year, unemployment rate last year, change in unemployment rate between last year and this year, <b>change in unemployment rate between this year and next year)</b>\n",
    "\n",
    "Limit this list to the seven or eight years for which you observe SOTU for your president.\n",
    "\n",
    "Print the list so that there is one tuple per line. There is no need to use any <b>.format()</b> statements."
   ]
  },
  {
   "cell_type": "code",
   "execution_count": 15,
   "metadata": {},
   "outputs": [],
   "source": [
    "year_min = min([t[1] for t in sotu])\n",
    "year_max = max([t[1] for t in sotu])"
   ]
  },
  {
   "cell_type": "code",
   "execution_count": 16,
   "metadata": {},
   "outputs": [
    {
     "name": "stdout",
     "output_type": "stream",
     "text": [
      "('year', 'ret', 'ret_l1')\n",
      "(2009, 0.1882, -0.3384)\n",
      "(2010, 0.1102, 0.1882)\n",
      "(2011, 0.0553, 0.1102)\n",
      "(2012, 0.0726, 0.0553)\n",
      "(2013, 0.265, 0.0726)\n",
      "(2014, 0.0752, 0.265)\n",
      "(2015, -0.0223, 0.0752)\n",
      "(2016, 0.1342, -0.0223)\n"
     ]
    }
   ],
   "source": [
    "djia = cat_list('Indicator_djia_return.csv')[1:]\n",
    "djia = sorted(djia)\n",
    "\n",
    "djia2 = []\n",
    "for line in djia:\n",
    "    (year,ret) = line.split(\",\")\n",
    "    djia2.append((int(year), float(ret)))\n",
    "\n",
    "for num in range(1, len(djia2)):\n",
    "    djia2[num] = (djia2[num][0], djia2[num][1], djia2[num-1][1])\n",
    "    \n",
    "djia3 = [t for t in djia2 if t[0]>= year_min and t[0]<= year_max]\n",
    "djia3 = [('year','ret','ret_l1')] + djia3\n",
    "\n",
    "for line in djia3:\n",
    "    print(line)"
   ]
  },
  {
   "cell_type": "code",
   "execution_count": 17,
   "metadata": {},
   "outputs": [
    {
     "name": "stdout",
     "output_type": "stream",
     "text": [
      "('year', 'rate', 'rate_l1', 'rate_f1', 'chg_rate', 'chg_rate_f1')\n",
      "(2009, 0.093, 0.058, 0.096, 0.035, 0.003)\n",
      "(2010, 0.096, 0.093, 0.089, 0.003, -0.007)\n",
      "(2011, 0.089, 0.096, 0.081, -0.007, -0.008)\n",
      "(2012, 0.081, 0.089, 0.074, -0.008, -0.007)\n",
      "(2013, 0.074, 0.081, 0.062, -0.007, -0.012)\n",
      "(2014, 0.062, 0.074, 0.053, -0.012, -0.009)\n",
      "(2015, 0.053, 0.062, 0.049, -0.009, -0.004)\n",
      "(2016, 0.049, 0.053, 0.044, -0.004, -0.005)\n"
     ]
    }
   ],
   "source": [
    "unemp = cat_list('Indicator_unemp_rate.csv')[1:]\n",
    "unemp = sorted(unemp)\n",
    "\n",
    "unemp2 = []\n",
    "for line in unemp:\n",
    "    (year,rate) = line.split(\",\")\n",
    "    unemp2.append((int(year), float(rate)))\n",
    "    \n",
    "for num in range(1, len(unemp2)-1):\n",
    "    unemp2[num] = (unemp2[num][0], unemp2[num][1], unemp2[num-1][1], unemp2[num+1][1], \n",
    "                   round(unemp2[num][1]-unemp2[num-1][1],4), round(unemp2[num+1][1]-unemp2[num][1],4))\n",
    "    \n",
    "unemp3 = [t for t in unemp2 if t[0]>= year_min and t[0]<= year_max]\n",
    "\n",
    "unemp3 = [('year','rate','rate_l1','rate_f1','chg_rate','chg_rate_f1')] + unemp3\n",
    "\n",
    "for line in unemp3:\n",
    "    print(line)"
   ]
  },
  {
   "cell_type": "markdown",
   "metadata": {},
   "source": [
    "### Code below (added after class on 10/31/19 ) combines two lists of tuples into single list of longer tuples\n",
    "\n",
    "- unemp3[num][1:] removes the calendar year from the second tuple\n",
    "- Please let me know if you find a slicker way to combine the tuples"
   ]
  },
  {
   "cell_type": "code",
   "execution_count": 18,
   "metadata": {},
   "outputs": [
    {
     "name": "stdout",
     "output_type": "stream",
     "text": [
      "('year', 'ret', 'ret_l1', 'rate', 'rate_l1', 'rate_f1', 'chg_rate', 'chg_rate_f1')\n",
      "(2009, 0.1882, -0.3384, 0.093, 0.058, 0.096, 0.035, 0.003)\n",
      "(2010, 0.1102, 0.1882, 0.096, 0.093, 0.089, 0.003, -0.007)\n",
      "(2011, 0.0553, 0.1102, 0.089, 0.096, 0.081, -0.007, -0.008)\n",
      "(2012, 0.0726, 0.0553, 0.081, 0.089, 0.074, -0.008, -0.007)\n",
      "(2013, 0.265, 0.0726, 0.074, 0.081, 0.062, -0.007, -0.012)\n",
      "(2014, 0.0752, 0.265, 0.062, 0.074, 0.053, -0.012, -0.009)\n",
      "(2015, -0.0223, 0.0752, 0.053, 0.062, 0.049, -0.009, -0.004)\n",
      "(2016, 0.1342, -0.0223, 0.049, 0.053, 0.044, -0.004, -0.005)\n"
     ]
    }
   ],
   "source": [
    "variables = []\n",
    "for num in range(len(djia3)):\n",
    "    variables.append(tuple(list(djia3[num]) + list(unemp3[num][1:])))\n",
    "    \n",
    "for line in variables:\n",
    "    print(line)"
   ]
  },
  {
   "cell_type": "markdown",
   "metadata": {},
   "source": [
    "<b>(0 points) 6.</b> If you would like to be eligible for the bonus point in Part 2, you need to tell us what additional economic indicator that you plan to analyze in Part 2 and provide the URL of a website where you expect to be able to download the data. (You do not need to begin processing these data yet.)"
   ]
  },
  {
   "cell_type": "code",
   "execution_count": 19,
   "metadata": {},
   "outputs": [],
   "source": [
    "# Please update these strings\n",
    "data = 'Name of economic indicator here'\n",
    "url  = 'URL pointing to website containing these data'"
   ]
  },
  {
   "cell_type": "code",
   "execution_count": 20,
   "metadata": {},
   "outputs": [
    {
     "name": "stdout",
     "output_type": "stream",
     "text": [
      "We plan to analyze \"Name of economic indicator here\",\n",
      "which is available at \"URL pointing to website containing these data\".\n"
     ]
    }
   ],
   "source": [
    "print('We plan to analyze \"{}\",\\nwhich is available at \"{}\".'.format(data,url))"
   ]
  },
  {
   "cell_type": "markdown",
   "metadata": {},
   "source": [
    "<br>\n",
    "\n",
    "# Solutions to Project 2 - Part 2"
   ]
  },
  {
   "cell_type": "markdown",
   "metadata": {},
   "source": [
    "# Your solution to Project 2 Part 2 should be appended to the end of your (corrected, if necessary) solutions to Project 2 Part 1."
   ]
  },
  {
   "cell_type": "markdown",
   "metadata": {},
   "source": [
    "<b>(3 points) 7.</b> Define a function <b>corr(l1,l2)</b> that calculates the correlation between two lists of numbers. You are welcome to use <b>statistics.mean()</b> and <b>statistics.stdev()</b>, but you should <b>not</b> use any <b>numpy</b> functions. As a result, your function will need to calculate the covariance between 'l1' and 'l2'. Also, your function should return zero if either (or both) of the standard deviations is equal to zero."
   ]
  },
  {
   "cell_type": "code",
   "execution_count": 21,
   "metadata": {},
   "outputs": [],
   "source": [
    "def corr(l1,l2):\n",
    "    \n",
    "    l1_mean = statistics.mean(l1)\n",
    "    l1_sd   = statistics.stdev(l1)\n",
    "\n",
    "    l2_mean = statistics.mean(l2)\n",
    "    l2_sd   = statistics.stdev(l2)\n",
    "\n",
    "    cov = 0\n",
    "    for num in range(len(l1)):\n",
    "        cov = cov + (l1[num] - l1_mean)*(l2[num] - l2_mean)\n",
    "    cov = cov / (len(l1) - 1)\n",
    "\n",
    "    if (l1_sd * l2_sd) > 0:\n",
    "        return cov / (l1_sd * l2_sd)\n",
    "    else:\n",
    "        return 0"
   ]
  },
  {
   "cell_type": "markdown",
   "metadata": {},
   "source": [
    "<b>(1 point) 8.</b> Calculate and print the correlation between lagged returns and current returns on DJIA over your 7 or 8 year period. This correlation (and the correlations in questions 9 and 10) should be formatted using {:5.2f} so that a perfect positive correlation appears as  1.00 and a perfect negative correlation appears as -1.00.\n"
   ]
  },
  {
   "cell_type": "code",
   "execution_count": 22,
   "metadata": {},
   "outputs": [],
   "source": [
    "dn = [tup[1] for tup in variables[1:]]  # djia_now\n",
    "dl = [tup[2] for tup in variables[1:]]  # djia_lag"
   ]
  },
  {
   "cell_type": "code",
   "execution_count": 23,
   "metadata": {},
   "outputs": [
    {
     "name": "stdout",
     "output_type": "stream",
     "text": [
      "The autocorrelation in annual returns on DJIA is -0.39. Efficient markets predict 0.00.\n"
     ]
    }
   ],
   "source": [
    "print(\"The autocorrelation in annual returns on DJIA is {:5.2f}. Efficient markets predict 0.00.\".format(corr(dn,dl)))"
   ]
  },
  {
   "cell_type": "markdown",
   "metadata": {},
   "source": [
    "<b>(6 points) 9.</b> Use print statments to create a \"table\" containing the pairwise correlation between each of the sentiment measures (% pos, % neg, % lit, % unc) and each of the following measures (stock return last year, stock return this year, change in level of unemployment rate from last year to this year, change in level of unemployment rate from this year to next year:"
   ]
  },
  {
   "cell_type": "code",
   "execution_count": 24,
   "metadata": {},
   "outputs": [],
   "source": [
    "sp = [tup[2] for tup in sotu]       # sotu_pos\n",
    "sn = [tup[3] for tup in sotu]       # sotu_neg\n",
    "sl = [tup[4] for tup in sotu]       # sotu_lit\n",
    "su = [tup[5] for tup in sotu]       # sotu_unc\n",
    "\n",
    "un = [tup[6] for tup in variables[1:]] # uchg_now\n",
    "uf = [tup[7] for tup in variables[1:]] # uchg_fut"
   ]
  },
  {
   "cell_type": "code",
   "execution_count": 25,
   "metadata": {},
   "outputs": [
    {
     "name": "stdout",
     "output_type": "stream",
     "text": [
      "PAIRWISE CORRELATIONS FOR OBAMA STATE OF THE UNION SPEECHES\n",
      "\n",
      "                                     Pos     Neg     Lit     Unc\n",
      "                                   -----   -----   -----   -----\n",
      "Return DJIA year t-1                0.32   -0.53    0.11    0.13\n",
      "Return DJIA year t                 -0.39    0.21    0.39   -0.64\n",
      "Change unemployment rate t-1 to t  -0.37    0.79   -0.13   -0.28\n",
      "Change unemployment rate t to t+1  -0.15    0.69   -0.50    0.10\n"
     ]
    }
   ],
   "source": [
    "print(\"PAIRWISE CORRELATIONS FOR {} STATE OF THE UNION SPEECHES\\n\".format(pres.upper()))\n",
    "print(\"                                     Pos     Neg     Lit     Unc\")\n",
    "print(\"                                   -----   -----   -----   -----\")\n",
    "print(\"Return DJIA year t-1               {:5.2f}   {:5.2f}   {:5.2f}   {:5.2f}\".format(corr(sp,dl),corr(sn,dl),corr(sl,dl),corr(su,dl)))\n",
    "print(\"Return DJIA year t                 {:5.2f}   {:5.2f}   {:5.2f}   {:5.2f}\".format(corr(sp,dn),corr(sn,dn),corr(sl,dn),corr(su,dn)))\n",
    "print(\"Change unemployment rate t-1 to t  {:5.2f}   {:5.2f}   {:5.2f}   {:5.2f}\".format(corr(sp,un),corr(sn,un),corr(sl,un),corr(su,un)))\n",
    "print(\"Change unemployment rate t to t+1  {:5.2f}   {:5.2f}   {:5.2f}   {:5.2f}\".format(corr(sp,uf),corr(sn,uf),corr(sl,uf),corr(su,uf)))"
   ]
  },
  {
   "cell_type": "markdown",
   "metadata": {},
   "source": [
    "<b>(OPTIONAL 2 points) 10.</b> Use print statements to create a comparable table of pairwise correlations based on current and lagged values of your measure of economic activity (or, if you think it is more appropriate, based on changes between years t-1 and t and between years t and t+1). To answer this question you should begin by importing your data into Python and creating a list of tuples where each tuple is of the form (year, current value, lagged value) or (year, change in value from year t-1 to year t, change in value from year t to t+1)."
   ]
  },
  {
   "cell_type": "code",
   "execution_count": 26,
   "metadata": {},
   "outputs": [],
   "source": [
    "# your code here"
   ]
  },
  {
   "cell_type": "code",
   "execution_count": null,
   "metadata": {},
   "outputs": [],
   "source": []
  }
 ],
 "metadata": {
  "kernelspec": {
   "display_name": "Python 3",
   "language": "python",
   "name": "python3"
  },
  "language_info": {
   "codemirror_mode": {
    "name": "ipython",
    "version": 3
   },
   "file_extension": ".py",
   "mimetype": "text/x-python",
   "name": "python",
   "nbconvert_exporter": "python",
   "pygments_lexer": "ipython3",
   "version": "3.7.3"
  }
 },
 "nbformat": 4,
 "nbformat_minor": 2
}
