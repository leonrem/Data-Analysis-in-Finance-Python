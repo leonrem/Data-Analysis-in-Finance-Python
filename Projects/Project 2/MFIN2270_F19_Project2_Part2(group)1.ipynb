{
 "cells": [
  {
   "cell_type": "markdown",
   "metadata": {},
   "source": [
    "# Project 2 - Part 1\n",
    "\n",
    "<b>You may work on these project in groups of 1-4 students (including you).</b>"
   ]
  },
  {
   "cell_type": "code",
   "execution_count": 1,
   "metadata": {},
   "outputs": [
    {
     "name": "stdout",
     "output_type": "stream",
     "text": [
      "Project 2 Part 1 submission for Zach Christopher, Angela Zhang, Alex Xu, Leonid Rempel.\n"
     ]
    }
   ],
   "source": [
    "# I reworked the code that prints your names\n",
    "\n",
    "name_l = [\"Zach Christopher\", \"Angela Zhang\",\"Alex Xu\",\"Leonid Rempel\"]     # Please add group names to this list; delete \"Member 2\" if group of one\n",
    "name_s = name_l[0] + \", \"\n",
    "if len(name_l) > 1:\n",
    "    for name in name_l[1:]:\n",
    "        name_s = name_s + name + \", \"\n",
    "\n",
    "print(\"Project 2 Part 1 submission for {}.\".format(name_s[0:-2]))"
   ]
  },
  {
   "cell_type": "markdown",
   "metadata": {},
   "source": [
    "<b>Rules: When answering the questions below, you are welcome to re-use functions contained in notebooks 1.1a - 2.1, or any of the prior HWs. This is intended to be a group project which means that you may collaborate with your the people in your group. However, you are not allowed to collaborate on this project with any others classmates or to seek advice from any of your other friends.</b>"
   ]
  },
  {
   "cell_type": "code",
   "execution_count": 2,
   "metadata": {},
   "outputs": [],
   "source": [
    "# Libraries that you may or may not need in Part 1\n",
    "import os\n",
    "import random\n",
    "import math\n",
    "import statistics as st\n",
    "import re"
   ]
  },
  {
   "cell_type": "markdown",
   "metadata": {},
   "source": [
    "<b>(0 points) 1.</b> Pick a president from this set of recent two-term presidents: Reagan, Clinton, Bush, and Obama."
   ]
  },
  {
   "cell_type": "code",
   "execution_count": 3,
   "metadata": {},
   "outputs": [],
   "source": [
    "pres = \"Obama\"       "
   ]
  },
  {
   "cell_type": "markdown",
   "metadata": {},
   "source": [
    "<b>(2 points) 2.</b> Create a for loop that loops over the State of the Union (SOTU) speeches in the Project2 folder (created and populated by the code for Topic 1.10) and print the names of the files that you will be analyzing. Please specify each file name as an absolute path.\n",
    "\n",
    "- Use <b>os.listdir()</b> to create a list of all possible speeches.\n",
    "- Use a for loop and the string 'pres' to decide which file names to print.\n",
    "- Use <b>os.path.join()</b> to create an absolute file path.\n",
    "- Print one absolute path per line."
   ]
  },
  {
   "cell_type": "code",
   "execution_count": 4,
   "metadata": {},
   "outputs": [
    {
     "name": "stdout",
     "output_type": "stream",
     "text": [
      "/Users/leonrem/Desktop/Data Analytics/Projects/Project 2/MFIN2270_F19_Project2_Part1-Solutions-Obama.ipynb\n",
      "/Users/leonrem/Desktop/Data Analytics/Projects/Project 2/Obama_2009.txt\n",
      "/Users/leonrem/Desktop/Data Analytics/Projects/Project 2/Obama_2010.txt\n",
      "/Users/leonrem/Desktop/Data Analytics/Projects/Project 2/Obama_2011.txt\n",
      "/Users/leonrem/Desktop/Data Analytics/Projects/Project 2/Obama_2012.txt\n",
      "/Users/leonrem/Desktop/Data Analytics/Projects/Project 2/Obama_2013.txt\n",
      "/Users/leonrem/Desktop/Data Analytics/Projects/Project 2/Obama_2014.txt\n",
      "/Users/leonrem/Desktop/Data Analytics/Projects/Project 2/Obama_2015.txt\n",
      "/Users/leonrem/Desktop/Data Analytics/Projects/Project 2/Obama_2016.txt\n"
     ]
    }
   ],
   "source": [
    "d = os.getcwd()\n",
    "files = os.listdir(d)\n",
    "path = [os.path.join(d, element) for element in files if pres in element]\n",
    "for x in path:\n",
    "    print(x)"
   ]
  },
  {
   "cell_type": "markdown",
   "metadata": {},
   "source": [
    "<b>(1 point) 3.</b> Import each of the four word lists (1.6_LM_positive.txt, 1.6_LM_negative.txt, 1.6_LM_litigious.txt, 1.6_LM_uncertainty.txt) as a separate <b>list of words</b>. Please name these lists 'pos', 'neg', 'lit', and 'unc'."
   ]
  },
  {
   "cell_type": "code",
   "execution_count": 5,
   "metadata": {},
   "outputs": [],
   "source": [
    "def Input(filename):\n",
    "    f = open(filename, 'r')\n",
    "    lines = f.readlines()\n",
    "    lines = [l.strip() for l in lines]\n",
    "    f.close()\n",
    "    return lines\n",
    "\n",
    "list_neg = Input('1.6_LM_negative.txt')\n",
    "list_pos = Input('1.6_LM_positive.txt')\n",
    "list_lit = Input('1.6_LM_litigious.txt')\n",
    "list_unc = Input('1.6_LM_uncertainty.txt')\n",
    "all_list = [list_neg,list_pos,list_lit,list_unc]"
   ]
  },
  {
   "cell_type": "markdown",
   "metadata": {},
   "source": [
    "<b>(4 points) 4.</b> Modify the for loop created in question 2 so that it calculates the number of positive words, negative words, litigious words, and uncertainty words in each of the SOTU speeches. <b>Before converting each SOTU into a list of words, please remove as much punctuation as possible. You are welcome to exclude any strings that consist entirely of digits, but you are not required to do so.</b>\n",
    "\n",
    "Create a list of tuples where there is one tuple per SOTU speech and each tuple is of the form:\n",
    "\n",
    "(pres, year, fraction of positive words, fraction of negative words, fraction of uncertain words, fraction of litigious words). \n",
    "\n",
    "Obviously, to calculate the fraction of positive words, you need to calculate both the number of positive words and the total number of words.\n",
    "\n",
    "Print the list so that there is one tuple per line. There is no need to use any <b>.format()</b> statements."
   ]
  },
  {
   "cell_type": "code",
   "execution_count": 6,
   "metadata": {},
   "outputs": [],
   "source": [
    "def cat_string(file):\n",
    "    f = open(file, 'r')\n",
    "    text = f.read()\n",
    "    f.close()\n",
    "    return text"
   ]
  },
  {
   "cell_type": "code",
   "execution_count": 7,
   "metadata": {},
   "outputs": [],
   "source": [
    "speeches = []\n",
    "for file in path:\n",
    "    try: \n",
    "        s = cat_string(file[-14:])\n",
    "        yr = re.findall('\\d+', file[-14:])\n",
    "        yr = yr[0]\n",
    "        speeches.append((int(yr), s))\n",
    "        speeches = sorted(speeches)\n",
    "    except: \n",
    "        pass"
   ]
  },
  {
   "cell_type": "code",
   "execution_count": 8,
   "metadata": {},
   "outputs": [
    {
     "name": "stdout",
     "output_type": "stream",
     "text": [
      "5902\n",
      "7076\n",
      "6900\n",
      "6956\n",
      "6420\n",
      "6778\n",
      "6721\n",
      "5438\n",
      "('Obama', 2009, 0.013554727211114876, 0.02846492714334124, 0.002541511352084039, 0.005083022704168078)\n",
      "('Obama', 2010, 0.012295081967213115, 0.02826455624646693, 0.0026851328434143585, 0.004804974561899378)\n",
      "('Obama', 2011, 0.018695652173913044, 0.01536231884057971, 0.003188405797101449, 0.007391304347826087)\n",
      "('Obama', 2012, 0.011500862564692352, 0.019551466359977, 0.002587694077055779, 0.005750431282346176)\n",
      "('Obama', 2013, 0.013707165109034268, 0.01604361370716511, 0.0032710280373831778, 0.003738317757009346)\n",
      "('Obama', 2014, 0.01947477131897315, 0.01622897609914429, 0.002360578341693715, 0.006048982000590145)\n",
      "('Obama', 2015, 0.016664186876952834, 0.01830084808808213, 0.0023805981252789763, 0.005802707930367505)\n",
      "('Obama', 2016, 0.016917984553144538, 0.021883045237219567, 0.002390584773813902, 0.00680397204854726)\n"
     ]
    }
   ],
   "source": [
    "final_list = []\n",
    "for speech in speeches: \n",
    "    s = speech[1]\n",
    "    s = s.replace('\\n', '|')\n",
    "    s = s.replace(\"|\",\" \")\n",
    "    s = s.replace(\". \",\" \").replace(\", \",\" \").replace(\" -- \",\" \")\n",
    "    s = s.replace(\"  \",\" \").replace(\"  \",\" \")\n",
    "    s = s.split(\" \")\n",
    "    s_len = len(s)\n",
    "    print(s_len)\n",
    "    count_neg = 0\n",
    "    count_pos = 0\n",
    "    count_lit = 0\n",
    "    count_unc = 0\n",
    "    a = re.findall('\\w+', speech[1])\n",
    "    \n",
    "    for word in a:\n",
    "        if word.upper() in list_neg:\n",
    "            count_neg += 1\n",
    "        if word.upper() in list_pos:\n",
    "            count_pos += 1\n",
    "        if word.upper() in list_lit:\n",
    "            count_lit += 1\n",
    "        if word.upper() in list_unc:\n",
    "            count_unc += 1\n",
    "    final_list.append((pres,speech[0],count_pos/s_len,count_neg/s_len,count_lit/s_len,count_unc/s_len))\n",
    "\n",
    "for x in final_list:\n",
    "    print(x)"
   ]
  },
  {
   "cell_type": "markdown",
   "metadata": {},
   "source": [
    "<b>(3 points) 5.</b> Import both 'Indicator_djia_return.csv' and 'Indicator_unemp_rate.csv'. Create a list of tuples of the form:\n",
    "\n",
    "(year, DJIA return this year, DJIA return last year, unemployment rate this year, unemployment rate last year, change in unemployment rate between last year and this year, <b>change in unemployment rate between this year and next year)</b>\n",
    "\n",
    "Limit this list to the seven or eight years for which you observe SOTU for your president.\n",
    "\n",
    "Print the list so that there is one tuple per line. There is no need to use any <b>.format()</b> statements."
   ]
  },
  {
   "cell_type": "code",
   "execution_count": 9,
   "metadata": {},
   "outputs": [],
   "source": [
    "ret_list = sorted(Input('Indicator_djia_return.csv'))\n",
    "unemp_list = sorted(Input('Indicator_unemp_rate.csv'))\n",
    "unemp_list = unemp_list[:-1]\n",
    "ret_list = ret_list[:-1]\n",
    "f_ret_list = []\n",
    "f_unemp_list = []\n",
    "\n",
    "for element in ret_list:\n",
    "    format_element = element.split(',')\n",
    "    f_ret_list.append(format_element)   \n",
    "f_ret_list = [x for x in f_ret_list if int(x[0]) in list(range(2008,2018))]\n",
    "\n",
    "for element in unemp_list:\n",
    "    format_element = element.split(',')\n",
    "    f_unemp_list.append(format_element)   \n",
    "f_unemp_list = [x for x in f_unemp_list if int(x[0]) in list(range(2008,2018))]\n",
    "\n"
   ]
  },
  {
   "cell_type": "code",
   "execution_count": 28,
   "metadata": {},
   "outputs": [
    {
     "name": "stdout",
     "output_type": "stream",
     "text": [
      "('2009', 0.1882, -0.3384, 0.093, 0.058, 0.035, 0.003)\n",
      "('2010', 0.1102, 0.1882, 0.096, 0.093, 0.003, -0.007)\n",
      "('2011', 0.0553, 0.1102, 0.089, 0.096, -0.007, -0.008)\n",
      "('2012', 0.0726, 0.0553, 0.081, 0.089, -0.008, -0.007)\n",
      "('2013', 0.265, 0.0726, 0.074, 0.081, -0.007, -0.012)\n",
      "('2014', 0.0752, 0.265, 0.062, 0.074, -0.012, -0.009)\n",
      "('2015', -0.0223, 0.0752, 0.053, 0.062, -0.009, -0.004)\n",
      "('2016', 0.1342, -0.0223, 0.049, 0.053, -0.004, -0.005)\n"
     ]
    }
   ],
   "source": [
    "ret_rate = []\n",
    "for i in range(1,9):\n",
    "    yr = f_ret_list[i][0]\n",
    "    ret = float(f_ret_list[i][1])\n",
    "    ret_last = float(f_ret_list[i-1][1])\n",
    "    unemp_rate = float(f_unemp_list[i][1])\n",
    "    unemp_rate_last = float(f_unemp_list[i-1][1])\n",
    "    last_change = (float(f_unemp_list[i][1])-float(f_unemp_list[i-1][1]))\n",
    "    next_change = (float(f_unemp_list[i+1][1])-float(f_unemp_list[i][1]))\n",
    "    x = (yr,ret,ret_last,unemp_rate,unemp_rate_last,round(last_change,4),round(next_change,4))\n",
    "    ret_rate.append(x)\n",
    "\n",
    "for element in ret_rate:\n",
    "    print(element)\n",
    "    \n",
    "    "
   ]
  },
  {
   "cell_type": "markdown",
   "metadata": {},
   "source": [
    "<b>(0 points) 6.</b> If you would like to be eligible for the bonus point in Part 2, you need to tell us what additional economic indicator that you plan to analyze in Part 2 and provide the URL of a website where you expect to be able to download the data. (You do not need to begin processing these data yet.)"
   ]
  },
  {
   "cell_type": "code",
   "execution_count": 11,
   "metadata": {},
   "outputs": [],
   "source": [
    "# Please update these strings\n",
    "data = 'Inflation, Consumer Prices'\n",
    "url  = 'https://fred.stlouisfed.org/series/FPCPITOTLZGUSA'"
   ]
  },
  {
   "cell_type": "code",
   "execution_count": 12,
   "metadata": {},
   "outputs": [
    {
     "name": "stdout",
     "output_type": "stream",
     "text": [
      "We plan to analyze \"Inflation, Consumer Prices\",\n",
      "which is available at \"https://fred.stlouisfed.org/series/FPCPITOTLZGUSA\".\n"
     ]
    }
   ],
   "source": [
    "print('We plan to analyze \"{}\",\\nwhich is available at \"{}\".'.format(data,url))"
   ]
  },
  {
   "cell_type": "markdown",
   "metadata": {},
   "source": [
    "<b>(3 points) 7.</b> Define a function <b>corr(l1,l2)</b> that calculates the correlation between two lists of numbers. You are welcome to use <b>statistics.mean()</b> and <b>statistics.stdev()</b>, but you should <b>not</b> use any <b>numpy</b> functions. As a result, your function will need to calculate the covariance between 'l1' and 'l2'. Also, your function should return zero if either (or both) of the standard deviations is equal to zero."
   ]
  },
  {
   "cell_type": "code",
   "execution_count": 13,
   "metadata": {},
   "outputs": [],
   "source": [
    "def corr(l1,l2):\n",
    "    l1_m = st.mean(l1)\n",
    "    l2_m = st.mean(l2)\n",
    "    l1_std = st.stdev(l1)\n",
    "    l2_std = st.stdev(l2)\n",
    "    if l1_std == 0 or l2_std == 0:\n",
    "        return 0\n",
    "    numerator = 0.0\n",
    "    denom = l1_std * l2_std\n",
    "    for x in range(len(l1)):\n",
    "        numerator += (l1[x] -l1_m) * (l2[x] -l2_m)\n",
    "    return((numerator/(len(l1)-1))/denom)"
   ]
  },
  {
   "cell_type": "markdown",
   "metadata": {},
   "source": [
    "<b>(1 point) 8.</b> Calculate and print the correlation between lagged returns and current returns on DJIA over your 7 or 8 year period. This correlation (and the correlations in questions 9 and 10) should be formatted using {:5.2f} so that a perfect positive correlation appears as  1.00 and a perfect negative correlation appears as -1.00.\n",
    "\n",
    "Hint: I find it easiest when answering questions 8 and 9 to create eight separate lists, four containing a separate measure of sentiment, two containing measures related to DJIA returns, and two containing measures related to changes in the unemployment rate. To answer this question, you just need to calculate the pairwise correlation of the two DJIA return series."
   ]
  },
  {
   "cell_type": "code",
   "execution_count": 50,
   "metadata": {},
   "outputs": [
    {
     "name": "stdout",
     "output_type": "stream",
     "text": [
      "The correlation between lagged returns and current returns on the DJIA for the 8 year period is: -0.39\n"
     ]
    }
   ],
   "source": [
    "lagged_ret = [i[2] for i in ret_rate]\n",
    "current_ret = [i[1] for i in ret_rate]\n",
    "\n",
    "print('The correlation between lagged returns and current returns on the DJIA for the 8 year period is: {:5.2f}'.format(corr(lagged_ret,current_ret)))"
   ]
  },
  {
   "cell_type": "markdown",
   "metadata": {},
   "source": [
    "<b>(6 points) 9.</b> Use print statments to create a \"table\" containing the pairwise correlation between each of the sentiment measures (% pos, % neg, % lit, % unc) and each of the following measures (stock return last year, stock return this year, change in level of unemployment rate from last year to this year, change in level of unemployment rate from this year to next year:"
   ]
  },
  {
   "cell_type": "code",
   "execution_count": 48,
   "metadata": {},
   "outputs": [
    {
     "name": "stdout",
     "output_type": "stream",
     "text": [
      "\t\t\t%pos\t%neg\t%lit\t%unc\n",
      "Stock Return Last\t32.60\t-52.72\t 9.41\t11.87\t\n",
      "Stock Return Next\t-38.95\t22.27\t45.22\t-63.23\t\n",
      "Unep Rate Last Chng\t-37.87\t78.38\t-10.76\t-26.52\t\n",
      "Unep Rate Next Chng\t-15.43\t68.21\t-50.66\t11.02\t\n"
     ]
    }
   ],
   "source": [
    "sent_neg = []\n",
    "sent_pos = []\n",
    "sent_lit = []\n",
    "sent_unc = []\n",
    "\n",
    "for element in final_list:\n",
    "    sent_pos.append(element[2])\n",
    "    sent_neg.append(element[3])\n",
    "    sent_lit.append(element[4])\n",
    "    sent_unc.append(element[5])\n",
    "\n",
    "unemp_lagged = [i[5] for i in ret_rate]\n",
    "unemp_future = [i[6] for i in ret_rate]\n",
    "\n",
    "print(\"\\t\\t\\t%pos\\t%neg\\t%lit\\t%unc\")\n",
    "print(\"Stock Return Last\\t{:5.2f}\\t{:5.2f}\\t{:5.2f}\\t{:5.2f}\\t\".format(corr(sent_pos,lagged_ret)*100,corr(sent_neg,lagged_ret)*100,corr(sent_lit,lagged_ret)*100,corr(sent_unc,lagged_ret)*100))\n",
    "print(\"Stock Return Next\\t{:5.2f}\\t{:5.2f}\\t{:5.2f}\\t{:5.2f}\\t\".format(corr(sent_pos,current_ret)*100,corr(sent_neg,current_ret)*100,corr(sent_lit,current_ret)*100,corr(sent_unc,current_ret)*100))\n",
    "print(\"Unep Rate Last Chng\\t{:5.2f}\\t{:5.2f}\\t{:5.2f}\\t{:5.2f}\\t\".format(corr(sent_pos,unemp_lagged)*100,corr(sent_neg,unemp_lagged)*100,corr(sent_lit,unemp_lagged)*100,corr(sent_unc,unemp_lagged)*100))\n",
    "print(\"Unep Rate Next Chng\\t{:5.2f}\\t{:5.2f}\\t{:5.2f}\\t{:5.2f}\\t\".format(corr(sent_pos,unemp_future)*100,corr(sent_neg,unemp_future)*100,corr(sent_lit,unemp_future)*100,corr(sent_unc,unemp_future)*100))\n",
    "\n",
    "\n",
    "\n"
   ]
  },
  {
   "cell_type": "markdown",
   "metadata": {},
   "source": [
    "<b>(OPTIONAL 2 points) 10.</b> Use print statements to create a comparable table of pairwise correlations based on current and lagged values of your measure of economic activity (or, if you think it is more appropriate, based on changes between years t-1 and t and between years t and t+1). To answer this question you should begin by importing your additional data source into Python and creating a list of tuples where each tuple is of the form (year, current value, lagged value) or (year, change in value from year t-1 to year t, change in value from year t to t+1).\n",
    "\n",
    "Note that this tuple must contain the same set of years as the data used to calculate correlations in question 9."
   ]
  },
  {
   "cell_type": "code",
   "execution_count": 47,
   "metadata": {},
   "outputs": [
    {
     "name": "stdout",
     "output_type": "stream",
     "text": [
      "\t\t%pos\t%neg\t%lit\t%unc\n",
      "CPI Last\t23.38\t-45.87\t13.79\t45.89\t\n",
      "CPI Next\t32.02\t-26.38\t25.37\t38.37\t\n"
     ]
    }
   ],
   "source": [
    "fred_inflation = 'FPCPITOTLZGUSA.csv'\n",
    "\n",
    "inf = Input(fred_inflation)\n",
    "\n",
    "inf_rates = []\n",
    "for i in inf:\n",
    "    try:\n",
    "        inf_rates.append((int(i[0:4]),float(i[11:])))\n",
    "    except:\n",
    "        pass\n",
    "\n",
    "last_change_inf = []\n",
    "next_change_inf = []\n",
    "    \n",
    "for i in range(len(inf_rates)):\n",
    "    if inf_rates[i][0] in range(2008,2018):\n",
    "        last_change_inf.append(float(inf_rates[i][1])-float(inf_rates[i-1][1]))\n",
    "        next_change_inf.append(float(inf_rates[i+1][1])-float(inf_rates[i][1]))\n",
    "\n",
    "print(\"\\t\\t%pos\\t%neg\\t%lit\\t%unc\")\n",
    "print(\"CPI Last\\t{:5.2f}\\t{:5.2f}\\t{:5.2f}\\t{:5.2f}\\t\".format(corr(sent_pos,last_change_inf)*100,corr(sent_neg,last_change_inf)*100,corr(sent_lit,last_change_inf)*100,corr(sent_unc,last_change_inf)*100))\n",
    "print(\"CPI Next\\t{:5.2f}\\t{:5.2f}\\t{:5.2f}\\t{:5.2f}\\t\".format(corr(sent_pos,next_change_inf)*100,corr(sent_neg,next_change_inf)*100,corr(sent_lit,next_change_inf)*100,corr(sent_unc,next_change_inf)*100))\n",
    "\n"
   ]
  },
  {
   "cell_type": "code",
   "execution_count": null,
   "metadata": {},
   "outputs": [],
   "source": []
  }
 ],
 "metadata": {
  "kernelspec": {
   "display_name": "Python 3",
   "language": "python",
   "name": "python3"
  },
  "language_info": {
   "codemirror_mode": {
    "name": "ipython",
    "version": 3
   },
   "file_extension": ".py",
   "mimetype": "text/x-python",
   "name": "python",
   "nbconvert_exporter": "python",
   "pygments_lexer": "ipython3",
   "version": "3.7.3"
  }
 },
 "nbformat": 4,
 "nbformat_minor": 2
}
