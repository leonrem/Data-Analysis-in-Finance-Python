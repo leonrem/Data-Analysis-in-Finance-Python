{
 "cells": [
  {
   "cell_type": "markdown",
   "metadata": {},
   "source": [
    "# Preparing for Project 3\n",
    "\n",
    "This notebook (eventually) creates arrays containing daily returns for\n",
    "- MKTRF\n",
    "- RF\n",
    "- HML\n",
    "- SMB\n",
    "- Bitcoin\n",
    "- Ethereum\n",
    "- Gold\n",
    "\n",
    "Note: I spend most of the code working with lists and then convert into arrays at the end"
   ]
  },
  {
   "cell_type": "code",
   "execution_count": 45,
   "metadata": {},
   "outputs": [],
   "source": [
    "import numpy as np"
   ]
  },
  {
   "cell_type": "markdown",
   "metadata": {},
   "source": [
    "### Daily Fama-French Factor returns\n",
    "\n",
    "- The code immediately below imports daily factor returns that I recently downloaded from Professor Ken French's website\n",
    "- It provides MKTRF, RF, HML, and SMB\n",
    "- I retain daily returns for January 2000 to September 2019"
   ]
  },
  {
   "cell_type": "code",
   "execution_count": 46,
   "metadata": {},
   "outputs": [],
   "source": [
    "f = open('Project3_F-F_Factors_daily.txt', 'r')\n",
    "f_list = f.readlines()\n",
    "f.close()"
   ]
  },
  {
   "cell_type": "code",
   "execution_count": 47,
   "metadata": {},
   "outputs": [
    {
     "name": "stdout",
     "output_type": "stream",
     "text": [
      "['DATE,MKTRF,SMB,HML,RF\\n', '19260701,0.10,-0.24,-0.28,0.009\\n', '19260702,0.45,-0.32,-0.08,0.009\\n', '19260706,0.17,0.27,-0.35,0.009\\n', '19260707,0.09,-0.59,0.03,0.009\\n']\n"
     ]
    }
   ],
   "source": [
    "print(f_list[0:5])"
   ]
  },
  {
   "cell_type": "code",
   "execution_count": 48,
   "metadata": {},
   "outputs": [],
   "source": [
    "ff1 = [element.rstrip().split(',') for element in f_list][1:]"
   ]
  },
  {
   "cell_type": "code",
   "execution_count": 49,
   "metadata": {},
   "outputs": [
    {
     "name": "stdout",
     "output_type": "stream",
     "text": [
      "['19260701', '0.10', '-0.24', '-0.28', '0.009']\n",
      "['20190930', '0.50', '-0.14', '-0.49', '0.009']\n"
     ]
    }
   ],
   "source": [
    "print(ff1[0])\n",
    "print(ff1[-1])"
   ]
  },
  {
   "cell_type": "code",
   "execution_count": 50,
   "metadata": {},
   "outputs": [],
   "source": [
    "ff2 = [[l[0], float(l[1])/100, float(l[2])/100, float(l[3])/100, float(l[4])/100] for l in ff1]"
   ]
  },
  {
   "cell_type": "code",
   "execution_count": 51,
   "metadata": {},
   "outputs": [
    {
     "name": "stdout",
     "output_type": "stream",
     "text": [
      "['19260701', 0.001, -0.0024, -0.0028000000000000004, 8.999999999999999e-05]\n",
      "['20190930', 0.005, -0.0014000000000000002, -0.0049, 8.999999999999999e-05]\n"
     ]
    }
   ],
   "source": [
    "print(ff2[0])\n",
    "print(ff2[-1])"
   ]
  },
  {
   "cell_type": "code",
   "execution_count": 52,
   "metadata": {
    "scrolled": true
   },
   "outputs": [
    {
     "name": "stdout",
     "output_type": "stream",
     "text": [
      "['20000103', -0.0070999999999999995, 0.0038, -0.0085, 0.00021]\n",
      "['20190930', 0.005, -0.0014000000000000002, -0.0049, 8.999999999999999e-05]\n"
     ]
    }
   ],
   "source": [
    "ff3 = sorted(l for l in ff2 if l[0][0:2]=='20')\n",
    "print(ff3[0])\n",
    "print(ff3[-1])"
   ]
  },
  {
   "cell_type": "code",
   "execution_count": 53,
   "metadata": {},
   "outputs": [],
   "source": [
    "ff_dates = [l[0] for l in ff3]   # list of US trading dates since January 2000"
   ]
  },
  {
   "cell_type": "markdown",
   "metadata": {},
   "source": [
    "## Daily Bitcoin closing prices\n",
    "\n",
    "- I use a dictionary to convert monthly abbreviations into numbers\n",
    "- I use regular expressions to extract daily date strings, opening prices, and closing prices\n",
    "- I retain (numerical) date strings and closing prices\n",
    "- <b>Note: I only keep the subset of trading dates that appear in the US data from Professor French</b>"
   ]
  },
  {
   "cell_type": "code",
   "execution_count": null,
   "metadata": {},
   "outputs": [],
   "source": [
    "import re"
   ]
  },
  {
   "cell_type": "code",
   "execution_count": 54,
   "metadata": {},
   "outputs": [
    {
     "name": "stdout",
     "output_type": "stream",
     "text": [
      "dict_keys(['Jan', 'Feb', 'Mar', 'Apr', 'May', 'Jun', 'Jul', 'Aug', 'Sep', 'Oct', 'Nov', 'Dec'])\n"
     ]
    }
   ],
   "source": [
    "# Maps month abbreviations into strings\n",
    "\n",
    "mmm = {'Jan':'01', 'Feb':'02', 'Mar':'03', 'Apr':'04', 'May':'05', 'Jun':'06',\n",
    "       'Jul':'07', 'Aug':'08', 'Sep':'09', 'Oct':'10', 'Nov':'11', 'Dec':'12'}\n",
    "print(mmm.keys())"
   ]
  },
  {
   "cell_type": "code",
   "execution_count": 55,
   "metadata": {},
   "outputs": [],
   "source": [
    "# First line of the file: \"Date\tOpen*\tHigh\tLow\tClose**\tVolume\tMarket Cap\"\n",
    "\n",
    "b = open('Project3_Bitcoin_daily.txt', 'r')\n",
    "b_text = b.read()\n",
    "b_text = b_text.replace(',','')\n",
    "b.close()"
   ]
  },
  {
   "cell_type": "code",
   "execution_count": 56,
   "metadata": {},
   "outputs": [],
   "source": [
    "# If we want all of the data preserved\n",
    "bitcoin0 = re.findall('([A-Z][a-z]{2}) (\\d{2}) (\\d{4})\\n([\\d\\.]+)\\n([\\d\\.]+)\\n([\\d\\.]+)\\n([\\d\\.]+)\\n([\\d\\.]+)\\n([\\d\\.]+)',b_text)\n",
    "\n",
    "# If we only want date, open, and close then we need to delete a few () but not change the pattern\n",
    "bitcoin1 = re.findall('([A-Z][a-z]{2}) (\\d{2}) (\\d{4})\\n([\\d\\.]+)\\n[\\d\\.]+\\n[\\d\\.]+\\n([\\d\\.]+)\\n[\\d\\.]+\\n[\\d\\.]+',b_text)\n"
   ]
  },
  {
   "cell_type": "code",
   "execution_count": 57,
   "metadata": {},
   "outputs": [
    {
     "name": "stdout",
     "output_type": "stream",
     "text": [
      "('Oct', '02', '2019', '8344.21', '8393.04') 2132\n"
     ]
    }
   ],
   "source": [
    "print(bitcoin1[0], len(bitcoin1))"
   ]
  },
  {
   "cell_type": "code",
   "execution_count": 58,
   "metadata": {},
   "outputs": [],
   "source": [
    "bitcoin2 = [[(tup[2]+mmm[tup[0]]+tup[1]), float(tup[4])] for tup in bitcoin1]   # list of lists"
   ]
  },
  {
   "cell_type": "code",
   "execution_count": 59,
   "metadata": {
    "scrolled": true
   },
   "outputs": [
    {
     "name": "stdout",
     "output_type": "stream",
     "text": [
      "['20131201', 955.85]\n",
      "['20131202', 1043.33]\n",
      "['20191002', 8393.04]\n"
     ]
    }
   ],
   "source": [
    "bitcoin3 = sorted(bitcoin2)\n",
    "print(bitcoin3[0])\n",
    "print(bitcoin3[1])\n",
    "print(bitcoin3[-1])"
   ]
  },
  {
   "cell_type": "code",
   "execution_count": 60,
   "metadata": {},
   "outputs": [
    {
     "name": "stdout",
     "output_type": "stream",
     "text": [
      "2132\n",
      "1467\n"
     ]
    }
   ],
   "source": [
    "print(len(bitcoin3))\n",
    "bitcoin4 = [l for l in bitcoin3 if l[0] in ff_dates]  # throw out dates for which there is no FF return\n",
    "print(len(bitcoin4))"
   ]
  },
  {
   "cell_type": "code",
   "execution_count": 61,
   "metadata": {},
   "outputs": [
    {
     "name": "stdout",
     "output_type": "stream",
     "text": [
      "[['20131202', 1043.33], ['20131203', 1078.28], ['20131204', 1151.17], ['20131205', 1045.11], ['20131206', 829.45]]\n"
     ]
    }
   ],
   "source": [
    "print(bitcoin4[0:5])"
   ]
  },
  {
   "cell_type": "markdown",
   "metadata": {},
   "source": [
    "## Daily Ethereum closing prices\n",
    "\n",
    "- Applies the code above to Ethereum instead of Bitcoin"
   ]
  },
  {
   "cell_type": "code",
   "execution_count": 62,
   "metadata": {},
   "outputs": [],
   "source": [
    "e = open('Project3_Ethereum_daily.txt', 'r')\n",
    "e_text = e.read()\n",
    "e_text = e_text.replace(',','')\n",
    "e.close()"
   ]
  },
  {
   "cell_type": "code",
   "execution_count": 63,
   "metadata": {},
   "outputs": [
    {
     "name": "stdout",
     "output_type": "stream",
     "text": [
      "('Oct', '02', '2019', '177.22', '180.71') 1518\n"
     ]
    }
   ],
   "source": [
    "ethereum1 = re.findall('([A-Z][a-z]{2}) (\\d{2}) (\\d{4})\\n([\\d\\.]+)\\n[\\d\\.]+\\n[\\d\\.]+\\n([\\d\\.]+)\\n[\\d\\.]+\\n[\\d\\.]+',e_text)\n",
    "print(ethereum1[0], len(ethereum1))"
   ]
  },
  {
   "cell_type": "code",
   "execution_count": 64,
   "metadata": {},
   "outputs": [],
   "source": [
    "ethereum2 = [[(tup[2]+mmm[tup[0]]+tup[1]), float(tup[4])] for tup in ethereum1]   # list of lists"
   ]
  },
  {
   "cell_type": "code",
   "execution_count": 65,
   "metadata": {},
   "outputs": [
    {
     "name": "stdout",
     "output_type": "stream",
     "text": [
      "['20150807', 2.77]\n",
      "['20191002', 180.71]\n"
     ]
    }
   ],
   "source": [
    "ethereum3 = sorted(ethereum2)\n",
    "print(ethereum3[0])\n",
    "print(ethereum3[-1])"
   ]
  },
  {
   "cell_type": "code",
   "execution_count": 66,
   "metadata": {},
   "outputs": [
    {
     "name": "stdout",
     "output_type": "stream",
     "text": [
      "1518\n",
      "1044\n"
     ]
    }
   ],
   "source": [
    "print(len(ethereum3))\n",
    "ethereum4 = [l for l in ethereum3 if l[0] in ff_dates]\n",
    "print(len(ethereum4))"
   ]
  },
  {
   "cell_type": "markdown",
   "metadata": {},
   "source": [
    "## Daily Gold closing prices\n",
    "\n",
    "- Extracts data on gold prices downloaded from FRED\n",
    "- We are able to read each row as its own line and then process\n",
    "- Note: In my versin of these data, closing price equals -99 when market closed"
   ]
  },
  {
   "cell_type": "code",
   "execution_count": 67,
   "metadata": {},
   "outputs": [],
   "source": [
    "g = open('Project3_Gold_daily.txt', 'r')\n",
    "g_list = g.readlines()\n",
    "g.close()"
   ]
  },
  {
   "cell_type": "code",
   "execution_count": 68,
   "metadata": {},
   "outputs": [
    {
     "name": "stdout",
     "output_type": "stream",
     "text": [
      "['DATE,GOLDAMGBD228NLBM\\n', '2013-12-02,1237.500\\n', '2013-12-03,1219.000\\n', '2013-12-04,1213.000\\n', '2013-12-05,1234.000\\n']\n"
     ]
    }
   ],
   "source": [
    "print(g_list[0:5])"
   ]
  },
  {
   "cell_type": "code",
   "execution_count": 69,
   "metadata": {},
   "outputs": [],
   "source": [
    "gold1 = [element.rstrip().split(',') for element in g_list][1:]"
   ]
  },
  {
   "cell_type": "code",
   "execution_count": 70,
   "metadata": {},
   "outputs": [
    {
     "name": "stdout",
     "output_type": "stream",
     "text": [
      "['2013-12-02', '1237.500']\n",
      "['2019-11-08', '1466.85']\n"
     ]
    }
   ],
   "source": [
    "print(gold1[0])\n",
    "print(gold1[-1])"
   ]
  },
  {
   "cell_type": "code",
   "execution_count": 71,
   "metadata": {},
   "outputs": [],
   "source": [
    "gold2 = [[l[0].replace('-',''), float(l[1])] for l in gold1]"
   ]
  },
  {
   "cell_type": "code",
   "execution_count": 72,
   "metadata": {},
   "outputs": [
    {
     "name": "stdout",
     "output_type": "stream",
     "text": [
      "['20131202', 1237.5]\n",
      "['20191108', 1466.85]\n"
     ]
    }
   ],
   "source": [
    "print(gold2[0])\n",
    "print(gold2[-1])"
   ]
  },
  {
   "cell_type": "code",
   "execution_count": 73,
   "metadata": {},
   "outputs": [
    {
     "name": "stdout",
     "output_type": "stream",
     "text": [
      "['20131202', 1237.5]\n",
      "['20191108', 1466.85]\n"
     ]
    }
   ],
   "source": [
    "gold3 = sorted(gold2)\n",
    "print(gold3[0])\n",
    "print(gold3[-1])"
   ]
  },
  {
   "cell_type": "code",
   "execution_count": 74,
   "metadata": {},
   "outputs": [
    {
     "name": "stdout",
     "output_type": "stream",
     "text": [
      "1550\n",
      "1467\n",
      "['20131202', 1237.5]\n",
      "['20190930', 1487.6]\n"
     ]
    }
   ],
   "source": [
    "print(len(gold3))\n",
    "gold4 = [l for l in gold3 if l[0] in ff_dates]\n",
    "print(len(gold4))\n",
    "\n",
    "print(gold4[0])\n",
    "print(gold4[-1])"
   ]
  },
  {
   "cell_type": "code",
   "execution_count": 75,
   "metadata": {},
   "outputs": [
    {
     "data": {
      "text/plain": [
       "25"
      ]
     },
     "execution_count": 75,
     "metadata": {},
     "output_type": "execute_result"
    }
   ],
   "source": [
    "len([l for l in gold4 if l[1]==-99])   # count of missing closing prices"
   ]
  },
  {
   "cell_type": "markdown",
   "metadata": {},
   "source": [
    "## Converting lists of closing prices into lists of daily returns"
   ]
  },
  {
   "cell_type": "markdown",
   "metadata": {},
   "source": [
    "### Daily Bitcoin returns"
   ]
  },
  {
   "cell_type": "code",
   "execution_count": 76,
   "metadata": {
    "scrolled": true
   },
   "outputs": [
    {
     "name": "stdout",
     "output_type": "stream",
     "text": [
      "['20131203', 0.03349850957990275]\n",
      "['20190930', 0.005092191447978456]\n"
     ]
    }
   ],
   "source": [
    "btc_dret = []\n",
    "for num in range(1,len(bitcoin4),1):\n",
    "    btc_dret.append([bitcoin4[num][0], (bitcoin4[num][1]/bitcoin4[num-1][1] - 1)])    \n",
    "print(btc_dret[0])\n",
    "print(btc_dret[-1])"
   ]
  },
  {
   "cell_type": "markdown",
   "metadata": {},
   "source": [
    "### Daily Ethereum returns"
   ]
  },
  {
   "cell_type": "code",
   "execution_count": 77,
   "metadata": {
    "scrolled": true
   },
   "outputs": [
    {
     "name": "stdout",
     "output_type": "stream",
     "text": [
      "['20150810', -0.7442425992779784]\n",
      "['20190930', 0.029534657432316314]\n"
     ]
    }
   ],
   "source": [
    "eth_dret = []\n",
    "for num in range(1,len(ethereum4),1):\n",
    "    eth_dret.append([ethereum4[num][0], (ethereum4[num][1]/ethereum4[num-1][1] - 1)])    \n",
    "print(eth_dret[0])\n",
    "print(eth_dret[-1])"
   ]
  },
  {
   "cell_type": "markdown",
   "metadata": {},
   "source": [
    "### Daily Gold returns\n",
    "\n",
    "Note: Uses last nonmissing closing price"
   ]
  },
  {
   "cell_type": "code",
   "execution_count": 78,
   "metadata": {},
   "outputs": [
    {
     "name": "stdout",
     "output_type": "stream",
     "text": [
      "['20131203', -0.014949494949494935]\n",
      "['20190930', -0.005714667646960603]\n"
     ]
    }
   ],
   "source": [
    "gold_dret = []\n",
    "for num in range(1,len(gold4),1):\n",
    "    if gold4[num][1]==-99 or gold4[num-1][1]==-99:\n",
    "        gold_dret.append([gold4[num][0], -99])\n",
    "    else:\n",
    "        gold_dret.append([gold4[num][0], (gold4[num][1]/gold4[num-1][1]) - 1])\n",
    "print(gold_dret[0])\n",
    "print(gold_dret[-1])"
   ]
  },
  {
   "cell_type": "markdown",
   "metadata": {},
   "source": [
    "## Creating Array with Daily Return Data for 201510 to 201909\n",
    "\n",
    "- These data will form the basis for Project3\n",
    "- You will need to incorporate daily returns for at least one stock of your choosing\n",
    "- That stock must trade on NYSE or AMEX and must have multiple daily closing prices for each of these months"
   ]
  },
  {
   "cell_type": "code",
   "execution_count": 79,
   "metadata": {},
   "outputs": [],
   "source": [
    "ff_dates2 = [element for element in ff_dates if element[0:4] in ['2016','2017','2018','2019'] \n",
    "            or element[0:6] in ['201510','201511','201512']]"
   ]
  },
  {
   "cell_type": "code",
   "execution_count": 80,
   "metadata": {},
   "outputs": [],
   "source": [
    "ff_dret2   = [element for element in ff3 if element[0] in ff_dates2]\n",
    "btc_dret2  = [element for element in btc_dret if element[0] in ff_dates2]\n",
    "eth_dret2  = [element for element in eth_dret if element[0] in ff_dates2]\n",
    "gold_dret2 = [element for element in gold_dret if element[0] in ff_dates2]"
   ]
  },
  {
   "cell_type": "code",
   "execution_count": 81,
   "metadata": {},
   "outputs": [
    {
     "name": "stdout",
     "output_type": "stream",
     "text": [
      "1006 1006 1006 1006\n"
     ]
    }
   ],
   "source": [
    "print(len(ff_dret2), len(btc_dret2), len(eth_dret2), len(gold_dret2))"
   ]
  },
  {
   "cell_type": "code",
   "execution_count": 82,
   "metadata": {},
   "outputs": [],
   "source": [
    "date     = np.array(ff_dates2)\n",
    "ret_cols = np.array([\"MKTRF\",\"SMB\",\"HML\",\"RF\",\"BTC\",\"ETH\",\"GOLD\"])\n",
    "ret      = np.zeros((len(ff_dates2),7))\n",
    "\n",
    "for num in range(len(date)):\n",
    "    ret[num,0] = ff_dret2[num][1]\n",
    "    ret[num,1] = ff_dret2[num][2]\n",
    "    ret[num,2] = ff_dret2[num][3]\n",
    "    ret[num,3] = ff_dret2[num][4]\n",
    "    ret[num,4] = btc_dret2[num][1]\n",
    "    ret[num,5] = eth_dret2[num][1]\n",
    "    ret[num,6] = gold_dret2[num][1]    "
   ]
  },
  {
   "cell_type": "code",
   "execution_count": 83,
   "metadata": {},
   "outputs": [],
   "source": [
    "np.save('Project3_ret.npy', ret)\n",
    "np.save('Project3_ret_cols', ret_cols)"
   ]
  },
  {
   "cell_type": "code",
   "execution_count": 84,
   "metadata": {},
   "outputs": [
    {
     "data": {
      "text/plain": [
       "(1006, 7)"
      ]
     },
     "execution_count": 84,
     "metadata": {},
     "output_type": "execute_result"
    }
   ],
   "source": [
    "ret.shape"
   ]
  },
  {
   "cell_type": "code",
   "execution_count": null,
   "metadata": {},
   "outputs": [],
   "source": []
  }
 ],
 "metadata": {
  "kernelspec": {
   "display_name": "Python 3",
   "language": "python",
   "name": "python3"
  },
  "language_info": {
   "codemirror_mode": {
    "name": "ipython",
    "version": 3
   },
   "file_extension": ".py",
   "mimetype": "text/x-python",
   "name": "python",
   "nbconvert_exporter": "python",
   "pygments_lexer": "ipython3",
   "version": "3.7.3"
  }
 },
 "nbformat": 4,
 "nbformat_minor": 2
}
