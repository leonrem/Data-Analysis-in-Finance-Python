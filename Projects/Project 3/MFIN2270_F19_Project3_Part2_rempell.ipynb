{
 "cells": [
  {
   "cell_type": "markdown",
   "metadata": {},
   "source": [
    "# Project 3 - Part 2\n",
    "\n",
    "<b>Yes, this is a group assignment. You may have up to five group members.</b>"
   ]
  },
  {
   "cell_type": "code",
   "execution_count": 1,
   "metadata": {},
   "outputs": [
    {
     "name": "stdout",
     "output_type": "stream",
     "text": [
      "Project 2 Part 1 submission for Leonid Rempel, Angela Zhang, Zach Christopher, Alex Xu.\n"
     ]
    }
   ],
   "source": [
    "name_l = [\"Leonid Rempel\", \"Angela Zhang\", \"Zach Christopher\", \"Alex Xu\"]     # Please add group names to this list; delete \"Member 2\" if group of one\n",
    "name_s = name_l[0] + \", \"\n",
    "if len(name_l) > 1:\n",
    "    for name in name_l[1:]:\n",
    "        name_s = name_s + name + \", \"\n",
    "\n",
    "print(\"Project 2 Part 1 submission for {}.\".format(name_s[0:-2]))"
   ]
  },
  {
   "cell_type": "markdown",
   "metadata": {},
   "source": [
    "Please rename the file so that it includes the BC username of whomever submits it. I would submit <b>MFIN2270_F19_Project3_Part2-reuterj</b>."
   ]
  },
  {
   "cell_type": "code",
   "execution_count": 2,
   "metadata": {},
   "outputs": [],
   "source": [
    "%matplotlib inline\n",
    "import numpy as np\n",
    "import matplotlib.pyplot as plt\n",
    "import statsmodels.api as sm"
   ]
  },
  {
   "cell_type": "code",
   "execution_count": 3,
   "metadata": {},
   "outputs": [],
   "source": [
    "def reg_m(y, x):\n",
    "    X = np.hstack((np.ones((len(x),1)), x))     # adds column of ones to X\n",
    "    results = sm.OLS(y, X).fit()                # creates object containing regression results\n",
    "    return results"
   ]
  },
  {
   "cell_type": "code",
   "execution_count": 4,
   "metadata": {},
   "outputs": [],
   "source": [
    "# Formats how numbers are displayed by numpy\n",
    "def float_formatter(x):\n",
    "    return \"{:7.4f}\".format(x)\n",
    "np.set_printoptions(formatter={'float_kind':float_formatter})"
   ]
  },
  {
   "cell_type": "markdown",
   "metadata": {},
   "source": [
    "<b>(3 points) Question 1. More Experience Estimating CAPM Alphas and Betas</b> \n",
    "\n",
    "- <b>Step 1.</b> Load all of the daily stock return data for your group members and the daily factor returns data created in Project3_daily.ipynb. This will involving using np.load() to separately load each array of daily returns that were created and submitted for Project 3 Part 1, as well as Project3_ret.npy, etc.\n",
    "- <b>Step 2.</b> Estimate a single CAPM alpha and CAPM beta for each of your stocks, using all nonmissing daily returns between 20151001 and 20190930 and the corresponding nonmissing 'MKTRF' returns from Project3_ret.npy. If your group consists of four members and one stock pick overlaps for two group members, you will estimate seven unique alphas and betas. If you solve Project 3 Part 2 on your own, you will estimate two unique alphas and betas.\n",
    "- <b>Step 3.</b> Create a table using print statements that contains five columns. Column one contains the ticker of each stock, column two contains the alpha, column three contains the p-value for alpha (from <b>reg_m()</b>), column four contains the beta, and column five contains the p-value for beta (from <b>reg_m()</b>). \n",
    "\n",
    "<i>Hint: This question should remind you very much of a question from HW11.</i>"
   ]
  },
  {
   "cell_type": "code",
   "execution_count": 5,
   "metadata": {},
   "outputs": [],
   "source": [
    "ff_rets = np.load('Project3_ret.npy')\n",
    "ff_cols = np.load('Project3_ret_cols.npy')\n",
    "ff_date = np.load('Project3_ret_rows.npy')\n",
    "rf    = ff_rets[:,ff_cols=='RF']\n",
    "mktrf = ff_rets[:,ff_cols=='MKTRF']"
   ]
  },
  {
   "cell_type": "code",
   "execution_count": 6,
   "metadata": {},
   "outputs": [
    {
     "name": "stdout",
     "output_type": "stream",
     "text": [
      "Dates are all the same\n"
     ]
    }
   ],
   "source": [
    "amzn = np.load('amzn_daily.npy')\n",
    "costco = np.load('cost.npy')\n",
    "ea = np.load('ea.npy')\n",
    "ibm = np.load('ibm.npy')\n",
    "google = np.load('goog_daily.npy')\n",
    "ulta = np.load('ulta_daily.npy')\n",
    "wayfair = np.load('wayfair.npy')\n",
    "\n",
    "l = [amzn,costco,ea,ibm,google,ulta,wayfair]\n",
    "\n",
    "dates_am = np.load('amzn_dates.npy')\n",
    "dates_c = np.load('dates_cost.npy')\n",
    "dates_e = np.load('dates_ea.npy')\n",
    "dates_i = np.load('ibm_date.npy')\n",
    "dates_g = np.load('goog_dates.npy')\n",
    "dates_u = np.load('ulta_dates.npy')\n",
    "dates_w = np.load('wayfair_date.npy')\n",
    "\n",
    "if np.array_equal(dates_am, ff_date) & np.array_equal(dates_c,ff_date) & np.array_equal(dates_e, ff_date) & np.array_equal(dates_i,ff_date) & np.array_equal(dates_g,ff_date) & np.array_equal(dates_u,ff_date) & np.array_equal(dates_w,ff_date):\n",
    "    print('Dates are all the same')"
   ]
  },
  {
   "cell_type": "code",
   "execution_count": 7,
   "metadata": {
    "scrolled": false
   },
   "outputs": [],
   "source": [
    "amzn_rf = (amzn - rf[0]).reshape(1006,1)\n",
    "costco_rf = (costco - rf[0]).reshape(1006,1)\n",
    "ea_rf = (ea-rf[0]).reshape(1006,1)\n",
    "ibm_rf = (ibm-rf[0]).reshape(1006,1)\n",
    "google_rf = (google - rf[0]).reshape(1006,1)\n",
    "ulta_rf = (ulta - rf[0]).reshape(1006,1)\n",
    "wayfair_rf = (wayfair-rf[0]).reshape(1006,1)\n",
    "\n",
    "capms = [('AMZN',amzn_rf), ('COST',costco_rf), ('EA',ea_rf), ('IBM',ibm_rf), ('GOOG',google_rf), ('ULTA',ulta_rf), ('W',wayfair_rf)]\n",
    "\n",
    "end = []\n",
    "for element in capms:\n",
    "    reg_out = reg_m(element[1],mktrf)\n",
    "    a = reg_out.params[0]\n",
    "    b = reg_out.params[1]\n",
    "    ap = reg_out.pvalues[0]\n",
    "    bp = reg_out.pvalues[1]\n",
    "    end.append((element[0],[a,ap,b,bp]))"
   ]
  },
  {
   "cell_type": "code",
   "execution_count": 8,
   "metadata": {},
   "outputs": [
    {
     "name": "stdout",
     "output_type": "stream",
     "text": [
      "\t Ticker   Alpha   P-Value_Alpha   Beta     P-Value_Beta\n",
      "\t  AMZN \t 0.0007\t     0.1082      1.3464      0.0000\n",
      "\t  COST \t 0.0008\t     0.0298     -0.0129      0.7730\n",
      "\t  EA \t 0.0007\t     0.2807     -0.2369      0.0013\n",
      "\t  IBM \t 0.0003\t     0.5220     -0.0111      0.8172\n",
      "\t  GOOG \t 0.0002\t     0.5273      1.1746      0.0000\n",
      "\t  ULTA \t 0.0002\t     0.7412      0.9190      0.0000\n",
      "\t  W \t 0.0017\t     0.1270      0.0146      0.9085\n"
     ]
    }
   ],
   "source": [
    "print('\\t Ticker   Alpha   P-Value_Alpha   Beta     P-Value_Beta')\n",
    "for x in end:\n",
    "    print('\\t  {} \\t{}\\t    {}     {}     {}'.format(x[0],float_formatter(x[1][0]),float_formatter(x[1][1]),float_formatter(x[1][2]),float_formatter(x[1][3])))\n"
   ]
  },
  {
   "cell_type": "markdown",
   "metadata": {},
   "source": [
    "<b>(4 points) Question 2. Towards a Deeper Understanding of Confidence Intervals</b> \n",
    "\n",
    "- Assume that the monthly excess returns for hypothetical company GOAT are equal to 0.25% plus 0.85 times the monthly excess return on the market plus an idiosyncratic return component: \n",
    "\n",
    "$\\hspace{1in} r^{GOAT}_{t} - r^{rf}_{t} = 0.0025 + (0.85)\\left(^{MKT}_{t} - r^{rf}_{t}\\right) + \\epsilon_t$.\n",
    "\n",
    "- Assume that the monthly excess return on the market is normally distributed with a mean of 1.0% and a standard deviation of 0.5%. Assume that the monthly idiosyncratic return component is normally distributed with a mean of 0.0% and a standard deviation of 0.5%.\n",
    "- <b>Step 1.</b> Simulate 120 monthly excess returns on the market (${MKT}_{t} - r^{rf}_{t}$) and 120 monthly idiosyncratic returns ($\\epsilon_t$). Use these two sets of simulated returns and the parameters above to calculate 120 monthly excess returns for GOAT. Use the simulated data to estimate the CAPM beta and the 90% confidence intervals (alpha = 0.10) for the CAPM beta (the true value of which is 0.85). Create a variable that equals one when the 90% confidence interval includes 0.85 and 0 otherwise.\n",
    "- <b>Step 2.</b> Repeat this exercise 10000 times. Print a sentence that reports the fraction of the 10,000 estimated 90% confidence intervals that include 0.85."
   ]
  },
  {
   "cell_type": "code",
   "execution_count": 9,
   "metadata": {},
   "outputs": [
    {
     "name": "stdout",
     "output_type": "stream",
     "text": [
      "The fraction of times that the estimated 90% CI include 0.85 out of 10000 simulations is: 0.9009\n"
     ]
    }
   ],
   "source": [
    "results = []\n",
    "for i in range(10000):\n",
    "    monthly_excess_ret = np.full((1, 120), 0.0025)\n",
    "    goat_beta = 0.85\n",
    "    \n",
    "    mrkt_excess_ret = np.random.normal(0.01, 0.005, 120)\n",
    "    ei_ret = np.random.normal(0, 0.05, 120)\n",
    "\n",
    "    monthly_excess_ret = monthly_excess_ret + goat_beta*mrkt_excess_ret + ei_ret\n",
    "\n",
    "    reg_out = reg_m(np.reshape(monthly_excess_ret,(120,1)), np.reshape(mrkt_excess_ret, (120,1)))\n",
    "\n",
    "    lower_c = reg_out.conf_int(alpha=0.1)[1,0]\n",
    "    upper_c = reg_out.conf_int(alpha=0.1)[1,1]\n",
    "\n",
    "    if goat_beta <= upper_c and goat_beta >= lower_c:\n",
    "        results.append(1)\n",
    "    else: \n",
    "        results.append(0)\n",
    "\n",
    "print('The fraction of times that the estimated 90% CI include 0.85 out of 10000 simulations is: {}'.format(sum(results)/len(results)))\n"
   ]
  },
  {
   "cell_type": "markdown",
   "metadata": {},
   "source": [
    "<b>(8 points) Question 3. Plotting (Risk, Return) Combinations and Calculating Sharpe Ratios</b>\n",
    "\n",
    "- Choose one and only one of the stocks from question 1. I will refer to this stock as 'STOCK'. It will work best if this stock does not have any missing return data between 20151001 and 20190930.\n",
    "- <b>Step 1.</b> Use daily return data for the two-year period 20151001 through 20170930 to calculate (i) the average daily return on 'STOCK' (before subtracting off the risk-free rate), (ii) the average daily return on 'RF', and (iii) the covariance matrix based on daily returns for 'STOCK' and 'RF'. Assume that these estimated means, variances, and covariances correspond to the expected daily returns, variances, and covariance for these two assets.\n",
    "- <b>Step 2.</b> Use the estimated means, variances, and covariances to calculate the expected return and standard deviation of 101 portfolios (numbered 0 to 100). Portfolio 0 allocates 100% to 'STOCK' and 0% to 'RF', Portfolio 1 allocates 99% to 'STOCK' and 1% to 'RF', ..., Portfolio 50 allocates 50% to 'STOCK' and 50% to 'RF', ..., Portfolio 99 allocates 1% to 'STOCK' and 99% to 'RF', and Portfolio 100 allocates 0% to 'STOCK' and 100% to 'RF'. Store the expected returns an array named 'er' and the standard deviations in an array named 'sd'. My advice is to \n",
    "- Recall that the expected return of a portfolio that invests $w_a$ in asset $a$ and $1-w_a$ in asset $b$ is equal to: \n",
    "\n",
    "$\\hspace{1in} w_a E[r_a] + (1-w_a) E[r_b]$\n",
    "\n",
    "- and the variance of a portfolio that invests $w_a$ in asset $a$ and $1-w_a$ in asset $b$ is equal to: \n",
    "\n",
    "$\\hspace{1in} w_a^2 \\ Var(a) + (1 - w_a)^2 \\ Var(b) + 2 \\ w_a \\ (1 - w_a) \\ Cov(a,b)$.\n",
    "\n",
    "- <b>Step 3.</b> Plot the 101 expected returns (y-axis) and standard deviations (x-axis). Your plot should include a descriptive title.\n",
    "- <b>Step 4.</b> Define each portfolio's Sharpe Ratio (SR) as the average daily return (between 20151001 and 20170930) minus the average daily risk-free rate between (20151001 and 20170930), divided by the standard deviation of the daily portfolio return (between 20151001 and 20170930). Create an array 'sr' containing the SRs of each of your 101 portfolios. These SRs can be calculated directly from the statistics that you have already calculated. \n",
    "- <b>Step 5.</b> Determine, and use a print statement to report, which of the 101 portfolios has the highest SR. "
   ]
  },
  {
   "cell_type": "code",
   "execution_count": 10,
   "metadata": {},
   "outputs": [
    {
     "data": {
      "image/png": "[encoded data removed]",
      "text/plain": [
       "<Figure size 432x288 with 1 Axes>"
      ]
     },
     "metadata": {
      "needs_background": "light"
     },
     "output_type": "display_data"
    },
    {
     "name": "stdout",
     "output_type": "stream",
     "text": [
      "The highest sharpe ratio among the portfolios is 0.0394 which is given by the portfoltio where the weight\n",
      "on the stock is 1.0\n"
     ]
    }
   ],
   "source": [
    "rf = ff_rets[:,ff_cols =='RF'].reshape(1,1006)\n",
    "c = costco.tolist()\n",
    "r = rf[0].tolist()\n",
    "d = dates_c.tolist()\n",
    "\n",
    "#print(d[int(len(d)/2)])\n",
    "\n",
    "# 20170930 is roughly half of the data, int(len(dates))/2 + 1\n",
    "\n",
    "halfway = int(len(d)/2)+1\n",
    "\n",
    "#print(dates_c[halfway]) - which returns october 2nd\n",
    "\n",
    "# 20170930 is a saturday, there are no returns for that day\n",
    "\n",
    "nc = []\n",
    "nrf = []\n",
    "nd = []\n",
    "\n",
    "for i in range(0,halfway,1):\n",
    "    nc.append(c[i])\n",
    "    nrf.append(r[i])\n",
    "    nd.append(d[i])\n",
    "    \n",
    "#print(nd[-1])\n",
    "\n",
    "costco = np.array(nc)\n",
    "rf = np.array(nrf)\n",
    "    \n",
    "stock = costco\n",
    "avg_s = np.mean(costco)\n",
    "var_s = np.var(costco)\n",
    "\n",
    "avg_rf = np.mean(rf)\n",
    "var_rf = np.var(rf)\n",
    "\n",
    "cov_p = np.cov(stock, rf)[0,1]\n",
    "\n",
    "# print(avg_s)\n",
    "# print(avg_rf)\n",
    "# print(var_s)\n",
    "# print(var_rf)\n",
    "# print(cov_p)\n",
    "\n",
    "w = [element/100 for element in range(0,101,1)]\n",
    "a = [w[-i] for i in range(1,102,1)]\n",
    "\n",
    "w_stock = np.array(w)\n",
    "w_rf = np.array(a)\n",
    "\n",
    "er = w_stock*avg_s + w_rf*avg_rf\n",
    "port_vars = (w_stock**2)*var_s + (w_rf**2)*var_rf + 2*w_stock*w_rf*cov_p\n",
    "sd = port_vars**0.5\n",
    "\n",
    "\n",
    "plt.scatter(sd*100, er*100, color='navy')\n",
    "plt.xlabel('Portfolio Stadard Deviations in Percents')\n",
    "plt.ylabel('Portfolio Returns in Percents')\n",
    "plt.title('Portfolio Retruns and Standard Deviations')\n",
    "plt.show()\n",
    "\n",
    "sr = (er-avg_rf)/sd\n",
    "\n",
    "print('The highest sharpe ratio among the portfolios is{} which is given by the portfoltio where the weight\\non the stock is {}'.format(float_formatter(np.amax(sr)),w[np.argmax(sr)]))\n"
   ]
  },
  {
   "cell_type": "markdown",
   "metadata": {},
   "source": [
    "<b>(1 point) Bonus Question.</b> Assume that you decide to invest $1 million in the portfolio in question 3 that had the highest SR as of 20170930. What is the actual two-year return of this portfolio between 20170930 and 20190930 (under the assumption that you do not rebalance your portfolio)?"
   ]
  },
  {
   "cell_type": "code",
   "execution_count": 11,
   "metadata": {},
   "outputs": [
    {
     "name": "stdout",
     "output_type": "stream",
     "text": [
      "The actual two year return on the 100% Costco weighted portfolio is 501600656.5630\n"
     ]
    }
   ],
   "source": [
    "#The Portfolio with the highest SR is where I invest all the $1 million into good ol' costco, which has an alpha value that is significant at the 5% level\n",
    "\n",
    "n_costco = np.load('cost.npy')\n",
    "\n",
    "n_dates_c = np.load('dates_cost.npy')\n",
    "\n",
    "c1 = n_costco.tolist()\n",
    "d1 = n_dates_c.tolist()\n",
    "\n",
    "nnc = []\n",
    "nnd = []\n",
    "\n",
    "h = int(len(d1)/2) + 1\n",
    "\n",
    "while h < len(d):\n",
    "    nnc.append(c1[h])\n",
    "    nnd.append(d1[h])\n",
    "    h=h+1\n",
    " \n",
    "#print(nnd[0])\n",
    "#print(nnd[-1])\n",
    "    \n",
    "stock = np.array(nnc)\n",
    "\n",
    "stock = stock+1\n",
    "ret = 1000000*np.sum(stock)-1000000\n",
    "\n",
    "print('The actual two year return on the 100% Costco weighted portfolio is {}'.format(float_formatter(ret)))\n"
   ]
  },
  {
   "cell_type": "code",
   "execution_count": null,
   "metadata": {},
   "outputs": [],
   "source": []
  }
 ],
 "metadata": {
  "kernelspec": {
   "display_name": "Python 3",
   "language": "python",
   "name": "python3"
  },
  "language_info": {
   "codemirror_mode": {
    "name": "ipython",
    "version": 3
   },
   "file_extension": ".py",
   "mimetype": "text/x-python",
   "name": "python",
   "nbconvert_exporter": "python",
   "pygments_lexer": "ipython3",
   "version": "3.7.3"
  }
 },
 "nbformat": 4,
 "nbformat_minor": 2
}
