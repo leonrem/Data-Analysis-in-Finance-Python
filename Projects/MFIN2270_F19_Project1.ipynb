{
 "cells": [
  {
   "cell_type": "markdown",
   "metadata": {},
   "source": [
    "# Project 1\n",
    "\n",
    "<b>You may work on these project in groups of 1-4 students (including you).</b>"
   ]
  },
  {
   "cell_type": "code",
   "execution_count": 1,
   "metadata": {},
   "outputs": [
    {
     "name": "stdout",
     "output_type": "stream",
     "text": [
      "Project1 submission for Angela Zhang, Zachary Christopher, Alex Xu, and Leonid Rempel \n"
     ]
    }
   ],
   "source": [
    "name1 = \"Angela Zhang\"        # Your name here\n",
    "name2 = \"Zachary Christopher\"\n",
    "name3 = \"Alex Xu\"\n",
    "name4 = \"Leonid Rempel \"\n",
    "\n",
    "if not name4 == \"\":\n",
    "    print(\"Project1 submission for {}, {}, {}, and {}\".format(name1,name2,name3,name4))\n",
    "elif not name3 == \"\":\n",
    "    print(\"Project1 submission for {}, {}, and {}\".format(name1,name2,name3))\n",
    "elif not name2 == \"\":\n",
    "    print(\"Project1 submission for {} and {}\".format(name1,name2))\n",
    "else:\n",
    "    print(\"Project1 submission for {}\".format(name1))"
   ]
  },
  {
   "cell_type": "markdown",
   "metadata": {},
   "source": [
    "<b>Rules: When answering the questions below, you are welcome to re-use functions contained in notebooks 1.1a - 1.6, or any of the prior HWs. This is intended to be a group project which means that you may collaborate with your the people in your group. However, you are not allowed to collaborate on this project with any others classmates or to seek advice from any of your other friends.</b>"
   ]
  },
  {
   "cell_type": "markdown",
   "metadata": {},
   "source": [
    "<b>(10 points) Simulating Future Values (FV) for Four Different Portfolios.</b>\n",
    "    \n",
    "<b>Today is January 1, 2020 and you have \\\\$1.0 million invested in your retirement portfolio. You are considering four investment strategies, each with a 20-year investment horizon.</b>\n",
    "\n",
    "<b>(1) Buy-and-Hold Small-Cap US Stock Portfolio</b>: Allocate 100\\% to small-cap US stocks and maintain this allocation for 20 years.\n",
    "\n",
    "<b>(2) Buy-and-Hold Balanced Portfolio</b>: Allocate 80\\% to large-cap US stocks and 20\\% to short-term US government bonds today but allow the fractions to evolve over time based on the relative returns earned by the two asset classes. Because there is no rebalancing, the FV at the end of 20 years is the FV of a buy-and-hold portfolio that invests \\\\$800,000 in large-cap US stocks today plus the FV of a separate buy-and-hold portfolio that invests \\\\$200,000 in short-term US government debt today.\n",
    "\n",
    "<b>(3) Rebalanced Balanced Portfolio</b>: Allocate 80\\% to large-cap US stocks and 20\\% to short-term US government bonds today. Reallocate 80\\% to large-cap US stocks and 20\\% to short-term US government bonds at the beginning of each calendar year. For example, if the portfolio grows from \\\\$1.0 million to $1.1 million over the first calendar year, the new allocations to stocks and bonds on January 1, 2021 become \\\\$880,00 and \\\\$220,000, respectively. As a result of rebalancing, the portfolio return each calendar year always will be equal to 80\\% of the return on large-cap US stocks plus 20\\% of the return on short-term US government debt.\n",
    "\n",
    "<b>(4) Buy-and-Hold Leveraged Portfolio</b>: Allocate 200\\% to small-cap US stocks and -100\\% to short-term US government bonds. (We are imagining that you borrowed \\\\$1 million by issuing short-term US government debt, which then allowed you to invest \\\\$2 million in small-cap US stocks.) In general, the FV at the end of 20 years is the FV of a portfolio that invests \\$2 million in small-cap US stocks <b>minus</b> the FV of a portfolio that invests \\$1 million in short-term US government debt. The important caveat is that the combined portfolio value is not allowed to go negative before the end of the investment horizon. If the combined portfolio value does go negative, the FV for that 20-year investment horizon should be set to zero. This constraint requires that you track the value of each subportfolio each year.\n",
    "\n",
    "<b>Please simulate the FV of each portfolio 100,001 times.</b>\n",
    "\n",
    "Use <b>print(\"\".format())</b> statements to create a table that reports the average FV, <b>standard deviation of FV</b>, minimum FV, 25th percentile FV, 50th percentile FV, 75th percentile FV, and maximum FV for each of the four strategies across four columns (one column per strategy). Round portfolio values to the nearest dollar and to print numbers with a fixed number of digits (e.g., using something like \\{:10.0f\\}). You are welcome to use the fact that there are 100,001 simulations to extract percentiles using hard-coded slices (e.g., fv1\\[25000\\] is the 25th percentile... after fv1 has been sorted).\n",
    "\n",
    "Calculate and report the percentage of times that each portfolio results in a FV that is less than $1 million, using a format like \\{:10.2f\\}, so that the columns are aligned.\n",
    "\n",
    "Calculate and report the percentage of times that each portfolio results in a FV that is less than $1, using a format like \\{:10.2f\\}, so that the columns are aligned.\n",
    "\n",
    "Finally, calculate the expected utility associated with each of the four portfolios. For a given portfolio, you will calculate the natural logarithm of each FV (plus \\\\$100,000) and then calculate the average. Report expected utilities in the bottom row of your table using a format such as \\{:10.2f\\}, so that the columns are aligned.\n",
    "\n",
    "- <b>Step #1</b>: Create empty lists 'fv1', 'fv2', 'fv3', and 'fv4'. These lists will contain the estimated FVs associated with each strategy. Of course, you may need to create several other lists along the way.\n",
    "\n",
    "- <b>Step #2</b>: Simulate 20 years of returns from each of the three asset classes and then use those return series to simulate the future values associated with each of the four investment strategies. Simulate annual net returns for each asset class using the 'random.gauss(mean, sd)' where the mean annual returns and standard deviations of annual returns come from historical data provided by Ibbotson. (Although it is not terribly realistic, we are implicitly assuming that the returns earned by the three asset classes each year are independent.) Please replace any estimated return that is less than -100\\% with -100\\%.\n",
    "\n",
    "<table border=\"0\">\n",
    "   <tr>\n",
    "    <th>Investment</th>\n",
    "    <th>Average Return</th>\n",
    "    <th>Std Dev of Return</th>\n",
    "   </tr>\n",
    "   <tr>\n",
    "    <td>Short-term US government bonds</td>\n",
    "    <td>3.5%</td>\n",
    "    <td>3.1%</td>\n",
    "   </tr>\n",
    "   <tr>\n",
    "    <td>Large-cap US stocks</td>\n",
    "    <td>10.1%</td>\n",
    "    <td>20.2%</td>\n",
    "   </tr>\n",
    "   <tr>\n",
    "    <td>Small-cap US stocks</td>\n",
    "    <td>12.5%</td>\n",
    "    <td>32.3%</td>\n",
    "   </tr>\n",
    "  </table>\n",
    "  \n",
    "\n",
    "- <b>Step #3</b>: Use the return series to calculate a single FV associated with each investment strategy. Append the future value associated with each investment strategy to the appropriate list. Please make sure that Steps #1, #2, and #3 work as intended before moving to the next step. It may be helpful to figure out how to calculate the FV for strategy (1) before moving on to strategy (2), etc. It may also be helpful to start with a 5-year investment horizon, so that you can verify your code is doing what it should be doing. (I provide a sample set of calculations for a random 5-year investment horizon in a companion Excel file.)\n",
    "\n",
    "- <b>Step #4</b>: Once are successfully able to simulate the four FVs for a single 20-year investment horizon, embed this code in a for loop that allows you to simulate 100,001 FVs for each of the four investment strategies.\n",
    "\n",
    "- <b>Step #5</b>: Process the contents of the four lists, 'fv1', 'fv2', 'fv3', and 'fv4', to generate the requested table of summary statistics. <b>To calculate the standard deviation, you will want to 'import statistics' and use 'statistics.stdev()'.</b>\n",
    "\n",
    "- <b>Step #6</b>: Each student should write a sentence about which of these four portfolios they would choose to hold and why. Each sentence should be printed in a print statment of the form \"Name, Username: <i>your sentence here</i>.\""
   ]
  },
  {
   "cell_type": "code",
   "execution_count": 69,
   "metadata": {},
   "outputs": [],
   "source": [
    "import random\n",
    "import math\n",
    "import statistics # provides access to 'statistics.stdev()' which calculates standard deviation of numbers in list\n",
    "\n",
    "years = 20        # starting value; eventually use years = 20\n",
    "iterations = 100    # starting value; eventually use iterations = 100001"
   ]
  },
  {
   "cell_type": "code",
   "execution_count": 70,
   "metadata": {},
   "outputs": [],
   "source": [
    "# You can use this function to calculate the average value of a list... I use it a lot in my print statements.\n",
    "\n",
    "def ave(l): \n",
    "    return sum(l)/len(l)"
   ]
  },
  {
   "cell_type": "code",
   "execution_count": 71,
   "metadata": {},
   "outputs": [
    {
     "name": "stdout",
     "output_type": "stream",
     "text": [
      "15.143459228127943\n"
     ]
    }
   ],
   "source": [
    "#1\n",
    "fv1 = []\n",
    "amount = 1000000\n",
    "for n in range(iterations): \n",
    "    draw_1 = [random.gauss(0.125,0.323) for y in range(years)]\n",
    "    terminal = amount  \n",
    "    for d_1 in draw_1:\n",
    "        if d_1<= -1:\n",
    "            d_1=-0.9999 \n",
    "        terminal = terminal*(1+d_1)\n",
    "    fv1.append(terminal) #generate list of all possible 20 year returns 100001 times\n",
    "\n",
    "#take log of each FV and then calculate the average\n",
    "u_1 = []\n",
    "for fv in fv1:\n",
    "    u = math.log(fv + 100000)\n",
    "    u_1.append(u)\n",
    "    utility_fv1 = statistics.mean(u_1)\n",
    "\n",
    "print(utility_fv1)"
   ]
  },
  {
   "cell_type": "code",
   "execution_count": 72,
   "metadata": {},
   "outputs": [
    {
     "name": "stdout",
     "output_type": "stream",
     "text": [
      "14.75355222016604\n"
     ]
    }
   ],
   "source": [
    "#2\n",
    "fv2 = []\n",
    "w_a = [0.8]\n",
    "w_b = [0.2]\n",
    "amount = 1000000\n",
    "for i in range(iterations):\n",
    "    port_v = amount\n",
    "    for j in range(1,years+1):\n",
    "        draw_a = random.gauss(0.035,0.031)\n",
    "        if draw_a < -1:\n",
    "            draw_a = -1\n",
    "        draw_b = random.gauss(0.101, 0.202)\n",
    "        if draw_b <-1:\n",
    "            draw_b = -1\n",
    "        asset_a = (w_a[j-1]*port_v)*(1+draw_a)\n",
    "        asset_b = (w_b[j-1]*port_v)*(1+draw_b)\n",
    "        port_v = asset_a +asset_b\n",
    "        \n",
    "        w_a.append((asset_a)/port_v)\n",
    "        w_b.append((asset_b)/port_v)\n",
    "    fv2.append(port_v)\n",
    "u_2 = []\n",
    "for fv in fv2:\n",
    "    u = math.log(fv + 100000)\n",
    "    u_2.append(u)\n",
    "\n",
    "    utility_fv2 = statistics.mean(u_2)\n",
    "\n",
    "print(utility_fv2)\n",
    "    "
   ]
  },
  {
   "cell_type": "code",
   "execution_count": 73,
   "metadata": {},
   "outputs": [
    {
     "name": "stdout",
     "output_type": "stream",
     "text": [
      "15.261835420332334\n"
     ]
    }
   ],
   "source": [
    "#3\n",
    "ret_lc = 0.101\n",
    "ret_b = 0.035\n",
    "std_lc = 0.202\n",
    "std_b = 0.031\n",
    "fv3 = []\n",
    "def port_3(investment,y,iteration):\n",
    "    for x in range(iteration):\n",
    "        investment = amount\n",
    "        for z in range(y):\n",
    "            #rebalancing - splitting investments in 80-20\n",
    "            a = investment * 0.8\n",
    "            b = investment * 0.2\n",
    "            #new returns for large cap\n",
    "            lc = random.gauss(ret_lc,std_lc)\n",
    "            #new returns for bond\n",
    "            bond = random.gauss(ret_b, std_b)\n",
    "            if lc<-1:\n",
    "                lc = -1\n",
    "            if bond < -1:\n",
    "                bond = -1\n",
    "            #getting new investment amount\n",
    "            investment = a * (1+lc) + b*(1+bond)\n",
    "        fv3.append(investment)\n",
    "    return fv3\n",
    "fv3 = port_3(amount,years,iterations)\n",
    "\n",
    "u_3 = []\n",
    "for fv in fv3:\n",
    "    u = math.log(fv + 100000)\n",
    "    u_3.append(u)\n",
    "\n",
    "    utility_fv3 = statistics.mean(u_3)\n",
    "\n",
    "print(utility_fv3)"
   ]
  },
  {
   "cell_type": "code",
   "execution_count": 74,
   "metadata": {},
   "outputs": [
    {
     "name": "stdout",
     "output_type": "stream",
     "text": [
      "14.55561712523924\n"
     ]
    }
   ],
   "source": [
    "#4\n",
    "def port4 (investment, y, iterations):\n",
    "    #initializing relevant returns and deviations (sc = small cap, b = bond)\n",
    "    ret_sc = 0.125\n",
    "    ret_b = 0.035\n",
    "    dev_sc = 0.323\n",
    "    dev_b = 0.31\n",
    "    fv4 = []\n",
    "    \n",
    "    #iteration loop\n",
    "    for x in range(iterations): \n",
    "        #re-initializing the two portfolios (small cap and bond)\n",
    "        sc_invest = investment * 2\n",
    "        b_invest = -1 * investment\n",
    "        for z in range(y):\n",
    "            #new returns for small cap\n",
    "            sc = random.gauss(ret_sc, dev_sc)\n",
    "            #new returns for bond\n",
    "            bond = random.gauss(ret_b, dev_b)\n",
    "            \n",
    "            if sc< -1:\n",
    "                sc = -1\n",
    "            if bond<-1:\n",
    "                bond = -1\n",
    "            #calculating new portfolio values\n",
    "            sc_invest = sc_invest*(1+sc)\n",
    "            b_invest = b_invest * (1+bond)\n",
    "            if (sc_invest + b_invest) < 0:\n",
    "                sc_invest = 0\n",
    "                b_invest = 0\n",
    "                break\n",
    "            #print(sc_invest + b_invest)\n",
    "        fv4.append(sc_invest + b_invest)\n",
    "    return fv4\n",
    "\n",
    "fv4 = port4(amount, years, iterations)\n",
    "\n",
    "u_4 = []\n",
    "for fv in fv4:\n",
    "    u = math.log(fv + 100000)\n",
    "    u_4.append(u)\n",
    "\n",
    "    utility_fv4 = statistics.mean(u_4)\n",
    "\n",
    "print(utility_fv4)"
   ]
  },
  {
   "cell_type": "code",
   "execution_count": 79,
   "metadata": {
    "scrolled": true
   },
   "outputs": [
    {
     "name": "stdout",
     "output_type": "stream",
     "text": [
      "\t   Portfolio 1 \t\t Portfolio 2 \t\t Portfolio 3 \t\t Porfolio 4\n",
      "Mean:\t  $10377352.70 \t\t$2520381.49 \t\t$5354831.08 \t\t$17335003.44\n",
      "Stdev:\t  $18003816.40 \t\t$ 582673.66 \t\t$4250449.20 \t\t$31942644.89\n",
      "Min:\t  $  23406.50 \t\t$1337356.70 \t\t$ 672675.60 \t\t$      0.00\n",
      "Median:\t  $3642696.90 \t\t$2525053.31 \t\t$3969642.76 \t\t$4702043.77\n",
      "Max:\t  $131497369.11 \t$4464641.41   \t\t$25573569.43 \t\t$181082353.58\n",
      "Utility:  15.14 \t\t14.75 \t\t\t15.26 \t\t\t14.56\n"
     ]
    }
   ],
   "source": [
    "print(\"\\t   Portfolio 1 \\t\\t Portfolio 2 \\t\\t Portfolio 3 \\t\\t Porfolio 4\")\n",
    "print(\"Mean:\\t  ${:10.2f} \\t\\t${:10.2f} \\t\\t${:10.2f} \\t\\t${:10.2f}\".format(statistics.mean(fv1),statistics.mean(fv2),statistics.mean(fv3), statistics.mean(fv4)))\n",
    "print(\"Stdev:\\t  ${:10.2f} \\t\\t${:10.2f} \\t\\t${:10.2f} \\t\\t${:10.2f}\".format(statistics.stdev(fv1),statistics.stdev(fv2),statistics.stdev(fv3), statistics.stdev(fv4)))\n",
    "print(\"Min:\\t  ${:10.2f} \\t\\t${:10.2f} \\t\\t${:10.2f} \\t\\t${:10.2f}\".format(min(fv1),min(fv2),min(fv3), min(fv4)))\n",
    "print(\"Median:\\t  ${:10.2f} \\t\\t${:10.2f} \\t\\t${:10.2f} \\t\\t${:10.2f}\".format(statistics.median(fv1),statistics.median(fv2),statistics.median(fv3),statistics.median(fv4)))\n",
    "print(\"Max:\\t  ${:10.2f} \\t${:10.2f}   \\t\\t${:10.2f} \\t\\t${:10.2f}\".format(max(fv1),max(fv2),max(fv3),max(fv4)))\n",
    "print(\"Utility:  {:4.2f} \\t\\t{:4.2f} \\t\\t\\t{:4.2f} \\t\\t\\t{:4.2f}\".format(utility_fv1,utility_fv2,utility_fv3,utility_fv4))\n",
    "\n"
   ]
  },
  {
   "cell_type": "code",
   "execution_count": null,
   "metadata": {},
   "outputs": [],
   "source": []
  }
 ],
 "metadata": {
  "kernelspec": {
   "display_name": "Python 3",
   "language": "python",
   "name": "python3"
  },
  "language_info": {
   "codemirror_mode": {
    "name": "ipython",
    "version": 3
   },
   "file_extension": ".py",
   "mimetype": "text/x-python",
   "name": "python",
   "nbconvert_exporter": "python",
   "pygments_lexer": "ipython3",
   "version": "3.7.3"
  }
 },
 "nbformat": 4,
 "nbformat_minor": 2
}
